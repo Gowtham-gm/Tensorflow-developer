{
 "cells": [
  {
   "cell_type": "markdown",
   "id": "518e995f",
   "metadata": {},
   "source": [
    "## Transfer Learning With Tensorflow"
   ]
  },
  {
   "cell_type": "markdown",
   "id": "5e05b00b",
   "metadata": {},
   "source": [
    "What is Transfer Learning?\n",
    "\n",
    "-surely someone has spent the time crafting the right model for job...\n",
    "\n",
    "Examples of Transfer Learning\n",
    "* IMAGENET------>food Vision\n",
    "* NLP---------->some other use case"
   ]
  },
  {
   "cell_type": "markdown",
   "id": "dd36b9e2",
   "metadata": {},
   "source": [
    "Why we use Transfer Learning?\n",
    "\n",
    "* Can Leverage an existing neural Network architecture proven to work on problems similar to our own\n",
    "* Can Leverage a Working Network architecture which has already learned parameters on similar data to our own(often results in a great results with less data)"
   ]
  },
  {
   "cell_type": "code",
   "execution_count": 1,
   "id": "fbc13394",
   "metadata": {},
   "outputs": [
    {
     "name": "stdout",
     "output_type": "stream",
     "text": [
      "Mon Mar 13 13:16:06 2023       \n",
      "+-----------------------------------------------------------------------------+\n",
      "| NVIDIA-SMI 511.65       Driver Version: 511.65       CUDA Version: 11.6     |\n",
      "|-------------------------------+----------------------+----------------------+\n",
      "| GPU  Name            TCC/WDDM | Bus-Id        Disp.A | Volatile Uncorr. ECC |\n",
      "| Fan  Temp  Perf  Pwr:Usage/Cap|         Memory-Usage | GPU-Util  Compute M. |\n",
      "|                               |                      |               MIG M. |\n",
      "|===============================+======================+======================|\n",
      "|   0  NVIDIA GeForce ... WDDM  | 00000000:01:00.0 Off |                  N/A |\n",
      "| N/A   43C    P0    25W /  N/A |      0MiB /  6144MiB |      0%      Default |\n",
      "|                               |                      |                  N/A |\n",
      "+-------------------------------+----------------------+----------------------+\n",
      "                                                                               \n",
      "+-----------------------------------------------------------------------------+\n",
      "| Processes:                                                                  |\n",
      "|  GPU   GI   CI        PID   Type   Process name                  GPU Memory |\n",
      "|        ID   ID                                                   Usage      |\n",
      "|=============================================================================|\n",
      "|  No running processes found                                                 |\n",
      "+-----------------------------------------------------------------------------+\n"
     ]
    }
   ],
   "source": [
    "#Are we using GPU?\n",
    "!nvidia-smi"
   ]
  },
  {
   "cell_type": "markdown",
   "id": "85c25228",
   "metadata": {},
   "source": [
    "Downloading and Becoming one with the Data"
   ]
  },
  {
   "cell_type": "code",
   "execution_count": 2,
   "id": "d2abce4d",
   "metadata": {},
   "outputs": [
    {
     "name": "stdout",
     "output_type": "stream",
     "text": [
      "100% [......................................................................] 168546183 / 16854618310_food_classes_10_percent.zip\n"
     ]
    }
   ],
   "source": [
    "#Get  data(10% of 10 food classes from Food101)\n",
    "\n",
    "import zipfile\n",
    "import wget\n",
    "\n",
    "#download the data\n",
    "url=\"https://storage.googleapis.com/ztm_tf_course/food_vision/10_food_classes_10_percent.zip\"\n",
    "filename=wget.download(url)\n",
    "print(filename)"
   ]
  },
  {
   "cell_type": "code",
   "execution_count": 4,
   "id": "b8ff32ac",
   "metadata": {},
   "outputs": [],
   "source": [
    "#Unzip the zip file\n",
    "\n",
    "zip_ref=zipfile.ZipFile(\"10_food_classes_10_percent.zip\")\n",
    "zip_ref.extractall()\n",
    "zip_ref.close()"
   ]
  },
  {
   "cell_type": "code",
   "execution_count": 2,
   "id": "e3ec697b",
   "metadata": {},
   "outputs": [
    {
     "name": "stdout",
     "output_type": "stream",
     "text": [
      "There are 2 directories and 0 in 10_food_classes_10_percent/\n",
      "There are 10 directories and 0 in 10_food_classes_10_percent/test\n",
      "There are 0 directories and 250 in 10_food_classes_10_percent/test\\chicken_curry\n",
      "There are 0 directories and 250 in 10_food_classes_10_percent/test\\chicken_wings\n",
      "There are 0 directories and 250 in 10_food_classes_10_percent/test\\fried_rice\n",
      "There are 0 directories and 250 in 10_food_classes_10_percent/test\\grilled_salmon\n",
      "There are 0 directories and 250 in 10_food_classes_10_percent/test\\hamburger\n",
      "There are 0 directories and 250 in 10_food_classes_10_percent/test\\ice_cream\n",
      "There are 0 directories and 250 in 10_food_classes_10_percent/test\\pizza\n",
      "There are 0 directories and 250 in 10_food_classes_10_percent/test\\ramen\n",
      "There are 0 directories and 250 in 10_food_classes_10_percent/test\\steak\n",
      "There are 0 directories and 250 in 10_food_classes_10_percent/test\\sushi\n",
      "There are 10 directories and 0 in 10_food_classes_10_percent/train\n",
      "There are 0 directories and 75 in 10_food_classes_10_percent/train\\chicken_curry\n",
      "There are 0 directories and 75 in 10_food_classes_10_percent/train\\chicken_wings\n",
      "There are 0 directories and 75 in 10_food_classes_10_percent/train\\fried_rice\n",
      "There are 0 directories and 75 in 10_food_classes_10_percent/train\\grilled_salmon\n",
      "There are 0 directories and 75 in 10_food_classes_10_percent/train\\hamburger\n",
      "There are 0 directories and 75 in 10_food_classes_10_percent/train\\ice_cream\n",
      "There are 0 directories and 75 in 10_food_classes_10_percent/train\\pizza\n",
      "There are 0 directories and 75 in 10_food_classes_10_percent/train\\ramen\n",
      "There are 0 directories and 75 in 10_food_classes_10_percent/train\\steak\n",
      "There are 0 directories and 75 in 10_food_classes_10_percent/train\\sushi\n"
     ]
    }
   ],
   "source": [
    "#How many images in each folder?\n",
    "import os\n",
    "\n",
    "#Walk through 10% data directory and list number of files\n",
    "for dirpath,datadir,filenames in os.walk(\"10_food_classes_10_percent/\"):\n",
    "    print(f\"There are {len(datadir)} directories and {len(filenames)} in {dirpath}\")"
   ]
  },
  {
   "cell_type": "markdown",
   "id": "310833dc",
   "metadata": {},
   "source": [
    "### Creating Data Loader(preparing the data)"
   ]
  },
  {
   "cell_type": "markdown",
   "id": "0cdf3676",
   "metadata": {},
   "source": [
    "We'll use `ImageDataGenerator` class to load in our images in batches"
   ]
  },
  {
   "cell_type": "code",
   "execution_count": 20,
   "id": "70194fb5",
   "metadata": {},
   "outputs": [
    {
     "name": "stdout",
     "output_type": "stream",
     "text": [
      "Training Images\n",
      "Found 750 images belonging to 10 classes.\n",
      "Testing Images\n",
      "Found 2500 images belonging to 10 classes.\n"
     ]
    }
   ],
   "source": [
    "#setup data inputs\n",
    "from tensorflow.keras.preprocessing.image import ImageDataGenerator\n",
    "IMAGE_SHAPE=(224,224)\n",
    "BATCH_SIZE=32\n",
    "\n",
    "train_dir=\"10_food_classes_10_percent/train/\"\n",
    "test_dir=\"10_food_classes_10_percent/test/\"\n",
    "\n",
    "train_datagen=ImageDataGenerator(rescale=1/255.)\n",
    "test_datagen=ImageDataGenerator(rescale=1/255.)\n",
    "\n",
    "print('Training Images')\n",
    "train_data_10_percent=train_datagen.flow_from_directory(train_dir,\n",
    "                                            target_size=IMAGE_SHAPE,\n",
    "                                            batch_size=BATCH_SIZE,\n",
    "                                            class_mode=\"categorical\")\n",
    "\n",
    "print('Testing Images')\n",
    "test_data=test_datagen.flow_from_directory(test_dir,\n",
    "                                          target_size=IMAGE_SHAPE,\n",
    "                                          batch_size=BATCH_SIZE,\n",
    "                                          class_mode=\"categorical\")"
   ]
  },
  {
   "cell_type": "markdown",
   "id": "b1003f11",
   "metadata": {},
   "source": [
    "### Introducing callbacks in tensorflow and making a callbacks to track our model"
   ]
  },
  {
   "cell_type": "markdown",
   "id": "24972714",
   "metadata": {},
   "source": [
    "#setting up callbacks(things to run whilst our model)\n",
    "\n",
    "\n",
    "Callbacks are extra functionality you can add to our models to be performed during or after training. Some of the most popular callbacks:\n",
    "* Tracking experiments with the Tensorboard callback\n",
    "* Model Checkpoint with the ModelCheckpoint callback\n",
    "* Stoping a model from training (before it train too long and overfit)  with the EarlyStopping callback\n",
    "\n",
    "\n",
    "only mentioned 3 there is a lot"
   ]
  },
  {
   "cell_type": "code",
   "execution_count": 22,
   "id": "1c0542cf",
   "metadata": {},
   "outputs": [],
   "source": [
    "#Create Tensorboard callback (funtionalized because  we need to create new one for each model)\n",
    "\n",
    "import datetime\n",
    "\n",
    "def create_tensorboard_callback(dir_name,experiment_name):\n",
    "    log_dir=dir_name+\"/\"+experiment_name+\"/\"+datetime.datetime.now().strftime(\"%Y%m%d-%H%M%S\")\n",
    "    tensorboard_callback=tf.keras.callbacks.TensorBoard(log_dir=log_dir)\n",
    "    print(f\"Saving TensorBoard log files to: {log_dir}\")\n",
    "    return tensorboard_callback\n",
    "    "
   ]
  },
  {
   "cell_type": "markdown",
   "id": "d8bb97d3",
   "metadata": {},
   "source": [
    "**Note:** you can customize the directory where your Tensorboard logs(model Training metrics) get saved to whatever you like.\n",
    "The `log_dir` parameter we have created  above is only one option"
   ]
  },
  {
   "cell_type": "markdown",
   "id": "0baf4377",
   "metadata": {},
   "source": [
    "### Creating model using Tensorflow Hub"
   ]
  },
  {
   "cell_type": "markdown",
   "id": "58262f97",
   "metadata": {},
   "source": [
    "In the past we've used Tensorflow to create our own models layer by layer from scratch\n",
    "\n",
    "Now we are going to do similar process, except the majority of our model's layer are going to come from Tensorflow Hub.\n",
    "\n",
    "We can access pretrained models on https://tfhub.dev/\n",
    "\n",
    "\n",
    "Browsing the Tensorflow Hub page and sorting for image classification, we  found the following feature vector model link https://tfhub.dev/tensorflow/efficientnet/b0/feature-vector/1"
   ]
  },
  {
   "cell_type": "code",
   "execution_count": 5,
   "id": "8a824a46",
   "metadata": {},
   "outputs": [],
   "source": [
    "#Let's compare the following two models\n",
    "\n",
    "resnet_url=\"https://tfhub.dev/google/imagenet/resnet_v2_50/feature_vector/5\"\n",
    "\n",
    "efficientnet_url=\"https://tfhub.dev/tensorflow/efficientnet/b0/feature-vector/1\""
   ]
  },
  {
   "cell_type": "code",
   "execution_count": 9,
   "id": "9514e080",
   "metadata": {},
   "outputs": [],
   "source": [
    "#!pip install tensorflow_hub\n"
   ]
  },
  {
   "cell_type": "code",
   "execution_count": 10,
   "id": "d7d26c4f",
   "metadata": {},
   "outputs": [],
   "source": [
    "#Import dependencies\n",
    "import tensorflow as tf\n",
    "import tensorflow_hub as hub\n",
    "from tensorflow.keras import layers\n"
   ]
  },
  {
   "cell_type": "code",
   "execution_count": 13,
   "id": "20002ef3",
   "metadata": {},
   "outputs": [],
   "source": [
    "#Let's make a create_model() function to create a model from url\n",
    "\n",
    "def create_model(model_url,num_classes=10):\n",
    "    \"\"\"\n",
    "    Takes a tensorflow HUB url and creates a keras Sequential model with it.\n",
    "    \n",
    "    Args:\n",
    "       model_url (str) : A Tensorflow Hub feature extraction url\n",
    "       num_classes (int) : Number of output neurons in the output layer, should be\n",
    "                        equal to number of Target classes, default 10.\n",
    "                        \n",
    "    Returns:\n",
    "       An uncompiled Keras Sequential  model with model url as feature extracter layer and \n",
    "       Dense output layer with num_classes output neurons.\n",
    "       \n",
    "    \"\"\"\n",
    "    \n",
    "    #Download the pretrained Model and saved it as a keras layer\n",
    "    feature_extractor_layer=hub.KerasLayer(model_url,\n",
    "                                          trainable=False,  #Freeze the already learned patterns\n",
    "                                           name=\"feature_extraction_layer\",\n",
    "                                           input_shape=IMAGE_SHAPE+(3,)\n",
    "                                          )\n",
    "    \n",
    "    \n",
    "    #Create our own model\n",
    "    model=tf.keras.Sequential([\n",
    "        feature_extractor_layer,\n",
    "        layers.Dense(10,activation=\"softmax\",name=\"output_layer\")\n",
    "    ])\n",
    "    \n",
    "    return model"
   ]
  },
  {
   "cell_type": "markdown",
   "id": "244621d8",
   "metadata": {},
   "source": [
    "### Creating and Testing ResNet TensorFlow hub Feature Extraction model"
   ]
  },
  {
   "cell_type": "code",
   "execution_count": 17,
   "id": "0d173eb9",
   "metadata": {},
   "outputs": [],
   "source": [
    "#Create Resnet model\n",
    "\n",
    "resnet_model=create_model(model_url=resnet_url,\n",
    "                         num_classes=train_data_10_percent.num_classes)"
   ]
  },
  {
   "cell_type": "code",
   "execution_count": 18,
   "id": "3bed44a6",
   "metadata": {},
   "outputs": [
    {
     "name": "stdout",
     "output_type": "stream",
     "text": [
      "Model: \"sequential_1\"\n",
      "_________________________________________________________________\n",
      " Layer (type)                Output Shape              Param #   \n",
      "=================================================================\n",
      " feature_extraction_layer (K  (None, 2048)             23564800  \n",
      " erasLayer)                                                      \n",
      "                                                                 \n",
      " output_layer (Dense)        (None, 10)                20490     \n",
      "                                                                 \n",
      "=================================================================\n",
      "Total params: 23,585,290\n",
      "Trainable params: 20,490\n",
      "Non-trainable params: 23,564,800\n",
      "_________________________________________________________________\n"
     ]
    }
   ],
   "source": [
    "#Let's see model summary\n",
    "resnet_model.summary()"
   ]
  },
  {
   "cell_type": "code",
   "execution_count": 19,
   "id": "034e9d15",
   "metadata": {},
   "outputs": [],
   "source": [
    "#Compile our Resnet model\n",
    "resnet_model.compile(loss=\"categorical_crossentropy\",\n",
    "                    optimizer=tf.keras.optimizers.Adam(),\n",
    "                    metrics=[\"accuracy\"])"
   ]
  },
  {
   "cell_type": "code",
   "execution_count": 23,
   "id": "0f978cb0",
   "metadata": {},
   "outputs": [
    {
     "name": "stdout",
     "output_type": "stream",
     "text": [
      "Saving TensorBoard log files to: tensorflow_hub/resnet50V2/20230313-162342\n",
      "Epoch 1/5\n",
      "24/24 [==============================] - 36s 978ms/step - loss: 1.8397 - accuracy: 0.3920 - val_loss: 1.1711 - val_accuracy: 0.6344\n",
      "Epoch 2/5\n",
      "24/24 [==============================] - 8s 355ms/step - loss: 0.8731 - accuracy: 0.7467 - val_loss: 0.8424 - val_accuracy: 0.7376\n",
      "Epoch 3/5\n",
      "24/24 [==============================] - 8s 358ms/step - loss: 0.5927 - accuracy: 0.8387 - val_loss: 0.7409 - val_accuracy: 0.7668\n",
      "Epoch 4/5\n",
      "24/24 [==============================] - 8s 359ms/step - loss: 0.4619 - accuracy: 0.8773 - val_loss: 0.6902 - val_accuracy: 0.7836\n",
      "Epoch 5/5\n",
      "24/24 [==============================] - 248s 11s/step - loss: 0.3696 - accuracy: 0.9200 - val_loss: 0.6747 - val_accuracy: 0.7868\n"
     ]
    }
   ],
   "source": [
    "#Let's fit our Resnet model to the data(10 percent data)\n",
    "resnet_history=resnet_model.fit(train_data_10_percent,\n",
    "                               epochs=5,\n",
    "                               steps_per_epoch=len(train_data_10_percent),\n",
    "                               validation_data=test_data,\n",
    "                               validation_steps=len(test_data),\n",
    "                               callbacks=[create_tensorboard_callback(dir_name=\"tensorflow_hub\",\n",
    "                                                                     experiment_name=\"resnet50V2\")])\n",
    "\n"
   ]
  },
  {
   "cell_type": "markdown",
   "id": "d34a8fbb",
   "metadata": {},
   "source": [
    "Wow!  \n",
    "\n",
    "That is Incredible. our transfer Learning Feature extractor model out performed all of the previous models we built by hand...(substantially)\n",
    "and in quicker training time and with only 10% of the training examples"
   ]
  },
  {
   "cell_type": "code",
   "execution_count": 28,
   "id": "013d6d61",
   "metadata": {},
   "outputs": [],
   "source": [
    "#Let's create the fuction to plot our loss curves...\n",
    "\n",
    "#Tidbit: you could put a function like this into a script called \"helper.py\" and import it when you need it...\n",
    "\n",
    "\n",
    "import matplotlib.pyplot as plt\n",
    "\n",
    "#plot the validation and training curves\n",
    "def plot_loss_curves(history):\n",
    "    \"\"\"\n",
    "    Returns separate loss curves for Trainig and validation metrics\n",
    "    \n",
    "    Args:\n",
    "      history: Tensorflow history object\n",
    "      \n",
    "    Returns:\n",
    "       Plots of training/validation loss and accuracy metrics.\n",
    "    \"\"\"\n",
    "    loss=history.history[\"loss\"]\n",
    "    val_loss=history.history[\"val_loss\"]\n",
    "    \n",
    "    accuracy=history.history[\"accuracy\"]\n",
    "    val_accuracy=history.history[\"val_accuracy\"]\n",
    "    \n",
    "    epochs=range(len(history.history[\"loss\"]))\n",
    "    \n",
    "    \n",
    "    #plot loss\n",
    "    plt.plot(epochs,loss,label=\"training_loss\")\n",
    "    plt.plot(epochs,val_loss,label=\"val_loss\")\n",
    "    plt.title(\"Loss\")\n",
    "    plt.xlabel(\"Epochs\")\n",
    "    plt.legend()\n",
    "    \n",
    "    \n",
    "    #plot accuracy\n",
    "    plt.figure()\n",
    "    plt.plot(epochs,accuracy,label=\"training_accuracy\")\n",
    "    plt.plot(epochs,val_accuracy,label='Val_accuracy')\n",
    "    plt.title(\"accuracy\")\n",
    "    plt.xlabel(\"epochs\")\n",
    "    plt.legend()"
   ]
  },
  {
   "cell_type": "code",
   "execution_count": 29,
   "id": "c427126b",
   "metadata": {},
   "outputs": [
    {
     "data": {
      "image/png": "[encoded data removed]",
      "text/plain": [
       "<Figure size 432x288 with 1 Axes>"
      ]
     },
     "metadata": {
      "needs_background": "light"
     },
     "output_type": "display_data"
    },
    {
     "data": {
      "image/png": "[encoded data removed]",
      "text/plain": [
       "<Figure size 432x288 with 1 Axes>"
      ]
     },
     "metadata": {
      "needs_background": "light"
     },
     "output_type": "display_data"
    }
   ],
   "source": [
    "plot_loss_curves(resnet_history)"
   ]
  },
  {
   "cell_type": "markdown",
   "id": "de5ff050",
   "metadata": {},
   "source": [
    "details on efficient net https://ai.googleblog.com/2019/05/efficientnet-improving-accuracy-and.html"
   ]
  },
  {
   "cell_type": "code",
   "execution_count": 30,
   "id": "88fb2c9c",
   "metadata": {},
   "outputs": [
    {
     "name": "stdout",
     "output_type": "stream",
     "text": [
      "Saving TensorBoard log files to: tensorflow_hub/efficientnetbO)/20230313-170328\n",
      "Epoch 1/5\n",
      "24/24 [==============================] - 85s 3s/step - loss: 1.9037 - accuracy: 0.4040 - val_loss: 1.2987 - val_accuracy: 0.7324\n",
      "Epoch 2/5\n",
      "24/24 [==============================] - 78s 3s/step - loss: 1.0787 - accuracy: 0.7787 - val_loss: 0.8647 - val_accuracy: 0.8284\n",
      "Epoch 3/5\n",
      "24/24 [==============================] - 78s 3s/step - loss: 0.7666 - accuracy: 0.8400 - val_loss: 0.6910 - val_accuracy: 0.8484\n",
      "Epoch 4/5\n",
      "24/24 [==============================] - 78s 3s/step - loss: 0.6133 - accuracy: 0.8800 - val_loss: 0.6033 - val_accuracy: 0.8612\n",
      "Epoch 5/5\n",
      "24/24 [==============================] - 78s 3s/step - loss: 0.5172 - accuracy: 0.8987 - val_loss: 0.5501 - val_accuracy: 0.8664\n"
     ]
    }
   ],
   "source": [
    "#Create EfficientNetB0 feature extractor model  https://ai.googleblog.com/2019/05/efficientnet-improving-accuracy-and.html\n",
    "efficientnet_model=create_model(model_url=efficientnet_url,\n",
    "                               num_classes=train_data_10_percent)\n",
    "\n",
    "\n",
    "#Compile the model\n",
    "efficientnet_model.compile(loss=\"categorical_crossentropy\",\n",
    "                          optimizer=tf.keras.optimizers.Adam(),\n",
    "                          metrics=[\"accuracy\"])\n",
    "\n",
    "#Fit the model\n",
    "efficientnet_history=efficientnet_model.fit(train_data_10_percent,\n",
    "                                           epochs=5,\n",
    "                                           steps_per_epoch=len(train_data_10_percent),\n",
    "                                           validation_data=test_data,\n",
    "                                           validation_steps=len(test_data),\n",
    "                                           callbacks=[create_tensorboard_callback(dir_name=\"tensorflow_hub\",\n",
    "                                                                                experiment_name=\"efficientnetbO)\" )])"
   ]
  },
  {
   "cell_type": "code",
   "execution_count": 31,
   "id": "ac50ea6c",
   "metadata": {},
   "outputs": [
    {
     "data": {
      "image/png": "[encoded data removed]",
      "text/plain": [
       "<Figure size 432x288 with 1 Axes>"
      ]
     },
     "metadata": {
      "needs_background": "light"
     },
     "output_type": "display_data"
    },
    {
     "data": {
      "image/png": "[encoded data removed]",
      "text/plain": [
       "<Figure size 432x288 with 1 Axes>"
      ]
     },
     "metadata": {
      "needs_background": "light"
     },
     "output_type": "display_data"
    }
   ],
   "source": [
    "plot_loss_curves(efficientnet_history)"
   ]
  },
  {
   "cell_type": "code",
   "execution_count": 32,
   "id": "81df6a34",
   "metadata": {},
   "outputs": [
    {
     "name": "stdout",
     "output_type": "stream",
     "text": [
      "Model: \"sequential_2\"\n",
      "_________________________________________________________________\n",
      " Layer (type)                Output Shape              Param #   \n",
      "=================================================================\n",
      " feature_extraction_layer (K  (None, 1280)             4049564   \n",
      " erasLayer)                                                      \n",
      "                                                                 \n",
      " output_layer (Dense)        (None, 10)                12810     \n",
      "                                                                 \n",
      "=================================================================\n",
      "Total params: 4,062,374\n",
      "Trainable params: 12,810\n",
      "Non-trainable params: 4,049,564\n",
      "_________________________________________________________________\n"
     ]
    }
   ],
   "source": [
    "efficientnet_model.summary()"
   ]
  },
  {
   "cell_type": "code",
   "execution_count": 34,
   "id": "15526f75",
   "metadata": {},
   "outputs": [
    {
     "name": "stdout",
     "output_type": "stream",
     "text": [
      "Model: \"sequential_1\"\n",
      "_________________________________________________________________\n",
      " Layer (type)                Output Shape              Param #   \n",
      "=================================================================\n",
      " feature_extraction_layer (K  (None, 2048)             23564800  \n",
      " erasLayer)                                                      \n",
      "                                                                 \n",
      " output_layer (Dense)        (None, 10)                20490     \n",
      "                                                                 \n",
      "=================================================================\n",
      "Total params: 23,585,290\n",
      "Trainable params: 20,490\n",
      "Non-trainable params: 23,564,800\n",
      "_________________________________________________________________\n"
     ]
    }
   ],
   "source": [
    "resnet_model.summary()"
   ]
  },
  {
   "cell_type": "code",
   "execution_count": 37,
   "id": "fb1d35e7",
   "metadata": {},
   "outputs": [
    {
     "data": {
      "text/plain": [
       "309"
      ]
     },
     "execution_count": 37,
     "metadata": {},
     "output_type": "execute_result"
    }
   ],
   "source": [
    "#how many layers are there in effiecientnetB0 feature extracter have?\n",
    "efficientnet_model.layers\n",
    "\n",
    "len(efficientnet_model.layers[0].weights)"
   ]
  },
  {
   "cell_type": "markdown",
   "id": "abf26ad5",
   "metadata": {},
   "source": [
    "#Different types of Transfer Learning\n",
    "\n",
    "* **\"As is\"  transfer learning**- using an existing model with no changes what so ever(e.g using ImageNet model on 1000 imageNet classes, none of your own)\n",
    "* **\"feature extraction\"**  transfer learning - use the prelearned patterns of an existing model (e.g. EfficientNetB0 trained on imagenet) and adjust the output layer for your own problem(e.g. 1000 classes --> 10 classes of food)\n",
    "\n",
    "* **\"fine-tuning  transfer learning**-use the prelearned patterns of an existing model and \"fine-tune\" many or all of the underlying layers( including new output layers)"
   ]
  },
  {
   "cell_type": "markdown",
   "id": "03f2f366",
   "metadata": {},
   "source": [
    "### Comparing our model results using TesorBoard"
   ]
  },
  {
   "cell_type": "markdown",
   "id": "c6662692",
   "metadata": {},
   "source": [
    "What is TensorBoard?\n",
    "\n",
    "\n",
    "* A way to visually explore your machine learning models performance and internals\n",
    "* Host,track and share your machine learning experiments on TensorBoard.Dev"
   ]
  },
  {
   "cell_type": "markdown",
   "id": "2b8b1207",
   "metadata": {},
   "source": [
    "**Note:** When you upload things to TensorBoard.dev, your experiments are public. so if you're running private experiments (things you don't want others to see) do not upload them to TensorBoard.dev."
   ]
  },
  {
   "cell_type": "code",
   "execution_count": 43,
   "id": "8bbbb916",
   "metadata": {},
   "outputs": [],
   "source": [
    "import tensorboard"
   ]
  },
  {
   "cell_type": "code",
   "execution_count": null,
   "id": "34b98233",
   "metadata": {},
   "outputs": [],
   "source": []
  }
 ],
 "metadata": {
  "kernelspec": {
   "display_name": "Python 3 (ipykernel)",
   "language": "python",
   "name": "python3"
  },
  "language_info": {
   "codemirror_mode": {
    "name": "ipython",
    "version": 3
   },
   "file_extension": ".py",
   "mimetype": "text/x-python",
   "name": "python",
   "nbconvert_exporter": "python",
   "pygments_lexer": "ipython3",
   "version": "3.9.13"
  }
 },
 "nbformat": 4,
 "nbformat_minor": 5
}
