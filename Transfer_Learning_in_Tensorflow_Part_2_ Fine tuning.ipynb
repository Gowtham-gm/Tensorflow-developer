{
 "cells": [
  {
   "cell_type": "markdown",
   "id": "1e61a5de",
   "metadata": {},
   "source": [
    "### Transfer Learning with Tensorflow Part 2: Fine tuning"
   ]
  },
  {
   "cell_type": "markdown",
   "id": "feabbd9b",
   "metadata": {},
   "source": [
    "In the Previous Notebook, we covered transfer Learning Feature extraction, now it's time to learn about new kind of tranfer learning: fine Tuning"
   ]
  },
  {
   "cell_type": "markdown",
   "id": "707b886e",
   "metadata": {},
   "source": [
    "### Creating helper functions"
   ]
  },
  {
   "cell_type": "markdown",
   "id": "b5b34e08",
   "metadata": {},
   "source": [
    "In previous Notebook's, we've created a bunch of helper functions, now we could rewrite them all, however,this is tedious.\n",
    "\n",
    "so, it's a good idea to put functions you'll want to use again in a script you can download and import into your notebooks(or elsewhere)\n",
    "\n",
    "\n",
    "we've done this for some of the functions we've used previously in helper_function.py"
   ]
  },
  {
   "cell_type": "code",
   "execution_count": 45,
   "id": "be333d7a",
   "metadata": {},
   "outputs": [
    {
     "name": "stdout",
     "output_type": "stream",
     "text": [
      "\r",
      "  0% [                                                                              ]     0 / 10246\r",
      " 79% [..............................................................                ]  8192 / 10246\r",
      "100% [..............................................................................] 10246 / 10246helper_functions (1).py\n"
     ]
    }
   ],
   "source": [
    "import wget\n",
    "url=\"https://raw.githubusercontent.com/mrdbourke/tensorflow-deep-learning/main/extras/helper_functions.py\"\n",
    "filename=wget.download(url)\n",
    "print(filename)"
   ]
  },
  {
   "cell_type": "code",
   "execution_count": 46,
   "id": "10ed7708",
   "metadata": {},
   "outputs": [],
   "source": [
    "#import helper functions we're going to use in this notebook\n",
    "from helper_functions import create_tensorboard_callback,plot_loss_curves,unzip_data,walk_through_dir"
   ]
  },
  {
   "cell_type": "markdown",
   "id": "22839058",
   "metadata": {},
   "source": [
    "### Let's get some Data"
   ]
  },
  {
   "cell_type": "markdown",
   "id": "9c0baaf9",
   "metadata": {},
   "source": [
    "This time we're going to see how we can use the pretrained models within `tf.keras.applications` and apply them to our own problem (recognizing images of food).\n",
    "\n",
    "https://www.tensorflow.org/api_docs/python/tf/keras/applications"
   ]
  },
  {
   "cell_type": "code",
   "execution_count": 3,
   "id": "4d9b74c1",
   "metadata": {},
   "outputs": [
    {
     "name": "stdout",
     "output_type": "stream",
     "text": [
      "100% [......................................................................] 168546183 / 16854618310_food_classes_10_percent (1).zip\n"
     ]
    }
   ],
   "source": [
    "#Get 10% of training data of 10 classes of food101\n",
    "\n",
    "url=\"https://storage.googleapis.com/ztm_tf_course/food_vision/10_food_classes_10_percent.zip\"\n",
    "filename=wget.download(url)\n",
    "print(filename)"
   ]
  },
  {
   "cell_type": "code",
   "execution_count": 4,
   "id": "eb18baa9",
   "metadata": {},
   "outputs": [],
   "source": [
    "unzip_data(filename)"
   ]
  },
  {
   "cell_type": "code",
   "execution_count": 47,
   "id": "b8208db5",
   "metadata": {},
   "outputs": [
    {
     "name": "stdout",
     "output_type": "stream",
     "text": [
      "There are 2 directories and 0 images in '10_food_classes_10_percent'.\n",
      "There are 10 directories and 0 images in '10_food_classes_10_percent\\test'.\n",
      "There are 0 directories and 250 images in '10_food_classes_10_percent\\test\\chicken_curry'.\n",
      "There are 0 directories and 250 images in '10_food_classes_10_percent\\test\\chicken_wings'.\n",
      "There are 0 directories and 250 images in '10_food_classes_10_percent\\test\\fried_rice'.\n",
      "There are 0 directories and 250 images in '10_food_classes_10_percent\\test\\grilled_salmon'.\n",
      "There are 0 directories and 250 images in '10_food_classes_10_percent\\test\\hamburger'.\n",
      "There are 0 directories and 250 images in '10_food_classes_10_percent\\test\\ice_cream'.\n",
      "There are 0 directories and 250 images in '10_food_classes_10_percent\\test\\pizza'.\n",
      "There are 0 directories and 250 images in '10_food_classes_10_percent\\test\\ramen'.\n",
      "There are 0 directories and 250 images in '10_food_classes_10_percent\\test\\steak'.\n",
      "There are 0 directories and 250 images in '10_food_classes_10_percent\\test\\sushi'.\n",
      "There are 10 directories and 0 images in '10_food_classes_10_percent\\train'.\n",
      "There are 0 directories and 75 images in '10_food_classes_10_percent\\train\\chicken_curry'.\n",
      "There are 0 directories and 75 images in '10_food_classes_10_percent\\train\\chicken_wings'.\n",
      "There are 0 directories and 75 images in '10_food_classes_10_percent\\train\\fried_rice'.\n",
      "There are 0 directories and 75 images in '10_food_classes_10_percent\\train\\grilled_salmon'.\n",
      "There are 0 directories and 75 images in '10_food_classes_10_percent\\train\\hamburger'.\n",
      "There are 0 directories and 75 images in '10_food_classes_10_percent\\train\\ice_cream'.\n",
      "There are 0 directories and 75 images in '10_food_classes_10_percent\\train\\pizza'.\n",
      "There are 0 directories and 75 images in '10_food_classes_10_percent\\train\\ramen'.\n",
      "There are 0 directories and 75 images in '10_food_classes_10_percent\\train\\steak'.\n",
      "There are 0 directories and 75 images in '10_food_classes_10_percent\\train\\sushi'.\n"
     ]
    }
   ],
   "source": [
    "#Check out how many images and subdirectories are in our dataset\n",
    "\n",
    "walk_through_dir(\"10_food_classes_10_percent\")"
   ]
  },
  {
   "cell_type": "code",
   "execution_count": 48,
   "id": "37a39c3b",
   "metadata": {},
   "outputs": [],
   "source": [
    "#Create training and test directory paths\n",
    "\n",
    "train_dir=\"10_food_classes_10_percent/train\"\n",
    "test_dir=\"10_food_classes_10_percent/test\""
   ]
  },
  {
   "cell_type": "code",
   "execution_count": 49,
   "id": "6db163a2",
   "metadata": {},
   "outputs": [
    {
     "name": "stdout",
     "output_type": "stream",
     "text": [
      "Found 750 files belonging to 10 classes.\n",
      "Found 2500 files belonging to 10 classes.\n"
     ]
    }
   ],
   "source": [
    "import tensorflow as tf\n",
    "IMG_SIZE=(224,224)\n",
    "BATCH_SIZE=32\n",
    "train_data_10_percent=tf.keras.preprocessing.image_dataset_from_directory(directory=train_dir,\n",
    "                                                                         image_size=IMG_SIZE,\n",
    "                                                                         label_mode=\"categorical\",\n",
    "                                                                         batch_size=BATCH_SIZE)\n",
    "\n",
    "test_data=tf.keras.preprocessing.image_dataset_from_directory(directory=test_dir,\n",
    "                                                             image_size=IMG_SIZE,\n",
    "                                                             label_mode=\"categorical\",\n",
    "                                                             batch_size=BATCH_SIZE)"
   ]
  },
  {
   "cell_type": "code",
   "execution_count": 50,
   "id": "ba9760f6",
   "metadata": {},
   "outputs": [
    {
     "data": {
      "text/plain": [
       "<BatchDataset element_spec=(TensorSpec(shape=(None, 224, 224, 3), dtype=tf.float32, name=None), TensorSpec(shape=(None, 10), dtype=tf.float32, name=None))>"
      ]
     },
     "execution_count": 50,
     "metadata": {},
     "output_type": "execute_result"
    }
   ],
   "source": [
    "train_data_10_percent"
   ]
  },
  {
   "cell_type": "code",
   "execution_count": 51,
   "id": "80ef0a29",
   "metadata": {},
   "outputs": [
    {
     "data": {
      "text/plain": [
       "['chicken_curry',\n",
       " 'chicken_wings',\n",
       " 'fried_rice',\n",
       " 'grilled_salmon',\n",
       " 'hamburger',\n",
       " 'ice_cream',\n",
       " 'pizza',\n",
       " 'ramen',\n",
       " 'steak',\n",
       " 'sushi']"
      ]
     },
     "execution_count": 51,
     "metadata": {},
     "output_type": "execute_result"
    }
   ],
   "source": [
    "#Check out the calss names of our dataset\n",
    "train_data_10_percent.class_names"
   ]
  },
  {
   "cell_type": "code",
   "execution_count": 52,
   "id": "b671d662",
   "metadata": {},
   "outputs": [
    {
     "name": "stdout",
     "output_type": "stream",
     "text": [
      "tf.Tensor(\n",
      "[[[[0.00000000e+00 0.00000000e+00 0.00000000e+00]\n",
      "   [0.00000000e+00 0.00000000e+00 0.00000000e+00]\n",
      "   [0.00000000e+00 0.00000000e+00 0.00000000e+00]\n",
      "   ...\n",
      "   [1.30000000e+01 1.40000000e+01 8.00000000e+00]\n",
      "   [1.30000000e+01 1.40000000e+01 8.00000000e+00]\n",
      "   [1.30000000e+01 1.40000000e+01 8.00000000e+00]]\n",
      "\n",
      "  [[0.00000000e+00 0.00000000e+00 0.00000000e+00]\n",
      "   [0.00000000e+00 0.00000000e+00 0.00000000e+00]\n",
      "   [0.00000000e+00 0.00000000e+00 0.00000000e+00]\n",
      "   ...\n",
      "   [1.37857056e+01 1.40000000e+01 6.00000000e+00]\n",
      "   [1.30000000e+01 1.40000000e+01 6.00000000e+00]\n",
      "   [1.30000000e+01 1.40000000e+01 6.00000000e+00]]\n",
      "\n",
      "  [[0.00000000e+00 0.00000000e+00 0.00000000e+00]\n",
      "   [0.00000000e+00 0.00000000e+00 0.00000000e+00]\n",
      "   [0.00000000e+00 0.00000000e+00 0.00000000e+00]\n",
      "   ...\n",
      "   [1.44285717e+01 1.37857141e+01 6.00000000e+00]\n",
      "   [1.44285717e+01 1.37857141e+01 6.00000000e+00]\n",
      "   [1.40000000e+01 1.40000000e+01 6.00000000e+00]]\n",
      "\n",
      "  ...\n",
      "\n",
      "  [[9.32437820e+01 9.10295181e+01 7.76009903e+01]\n",
      "   [1.36269730e+02 1.32540131e+02 1.19698349e+02]\n",
      "   [1.65081390e+02 1.62081390e+02 1.46652863e+02]\n",
      "   ...\n",
      "   [8.38254471e+01 7.78254471e+01 6.38255081e+01]\n",
      "   [4.39425163e+01 4.07282829e+01 2.55139885e+01]\n",
      "   [1.70607414e+01 1.42852306e+01 3.89252186e+00]]\n",
      "\n",
      "  [[5.15816593e+00 2.11223912e+00 0.00000000e+00]\n",
      "   [1.94742889e+01 1.64742889e+01 9.68353653e+00]\n",
      "   [6.42901840e+01 6.05044708e+01 5.01065445e+01]\n",
      "   ...\n",
      "   [1.34335117e+01 9.74986744e+00 1.45914698e+00]\n",
      "   [4.40292740e+00 4.27033949e+00 0.00000000e+00]\n",
      "   [1.52548468e+00 2.79077888e+00 0.00000000e+00]]\n",
      "\n",
      "  [[5.97438240e+00 1.97438264e+00 8.72401714e-01]\n",
      "   [6.29575920e+00 2.69885254e+00 5.96906424e-01]\n",
      "   [8.98481083e+00 5.98481083e+00 1.12255836e+00]\n",
      "   ...\n",
      "   [3.28576660e+00 1.55626512e+00 0.00000000e+00]\n",
      "   [3.23986197e+00 4.09703970e+00 0.00000000e+00]\n",
      "   [9.43876624e-01 2.89792180e+00 0.00000000e+00]]]\n",
      "\n",
      "\n",
      " [[[6.44285736e+01 2.14285717e+01 5.42857170e+00]\n",
      "   [6.22040825e+01 1.92040806e+01 3.80102015e+00]\n",
      "   [6.17602043e+01 1.87602043e+01 2.76020408e+00]\n",
      "   ...\n",
      "   [1.45714111e+01 9.85710812e+00 3.57649875e+00]\n",
      "   [1.45255394e+01 8.23982430e+00 2.23982453e+00]\n",
      "   [1.10255375e+01 5.09696531e+00 2.29594663e-01]]\n",
      "\n",
      "  [[5.62244873e+01 9.03061008e+00 9.18363333e-02]\n",
      "   [6.67244949e+01 2.07244911e+01 5.72449112e+00]\n",
      "   [6.49540787e+01 1.89540844e+01 3.95408273e+00]\n",
      "   ...\n",
      "   [1.45305614e+01 3.98464942e+00 7.29583979e-01]\n",
      "   [1.18520765e+01 1.06124389e+00 0.00000000e+00]\n",
      "   [1.63061390e+01 4.45408583e+00 7.14294434e-01]]\n",
      "\n",
      "  [[6.72142868e+01 1.78010216e+01 4.00000000e+00]\n",
      "   [7.42295914e+01 2.52857151e+01 1.10714293e+01]\n",
      "   [6.47244873e+01 1.74642849e+01 2.01530623e+00]\n",
      "   ...\n",
      "   [2.25917969e+01 7.63771677e+00 4.30098581e+00]\n",
      "   [2.03265553e+01 5.54084158e+00 2.54084158e+00]\n",
      "   [2.08571606e+01 6.07144642e+00 3.07144642e+00]]\n",
      "\n",
      "  ...\n",
      "\n",
      "  [[5.98724709e+01 2.10867329e+01 1.36582050e+01]\n",
      "   [6.21683273e+01 2.41683292e+01 1.51683283e+01]\n",
      "   [5.69336433e+01 1.89336433e+01 8.36221600e+00]\n",
      "   ...\n",
      "   [2.41724594e+02 1.77724594e+02 1.04153183e+02]\n",
      "   [2.37071747e+02 1.74000336e+02 1.02928925e+02]\n",
      "   [2.33096954e+02 1.71612305e+02 1.01678658e+02]]\n",
      "\n",
      "  [[5.90969200e+01 2.00969162e+01 1.44336615e+01]\n",
      "   [5.72908058e+01 1.83622322e+01 1.12193756e+01]\n",
      "   [6.13265533e+01 2.33265514e+01 1.28673887e+01]\n",
      "   ...\n",
      "   [2.30101883e+02 1.67076370e+02 9.88468552e+01]\n",
      "   [2.29545959e+02 1.68347000e+02 1.03622627e+02]\n",
      "   [2.18158005e+02 1.56158005e+02 9.54437790e+01]]\n",
      "\n",
      "  [[5.74387550e+01 1.64387550e+01 1.24387560e+01]\n",
      "   [6.08521042e+01 1.99235306e+01 1.37806740e+01]\n",
      "   [5.97243996e+01 2.12958298e+01 1.25101147e+01]\n",
      "   ...\n",
      "   [2.13259827e+02 1.49407776e+02 8.98313599e+01]\n",
      "   [1.99743423e+02 1.36814835e+02 8.28404541e+01]\n",
      "   [1.47967712e+02 8.61972961e+01 3.63454514e+01]]]\n",
      "\n",
      "\n",
      " [[[1.64607147e+02 1.33607147e+02 7.66071396e+01]\n",
      "   [1.62933670e+02 1.31933670e+02 7.68418350e+01]\n",
      "   [1.59887756e+02 1.26168365e+02 7.60408173e+01]\n",
      "   ...\n",
      "   [8.42143707e+01 2.12143726e+01 1.22143726e+01]\n",
      "   [8.35306015e+01 2.17398129e+01 1.23367443e+01]\n",
      "   [8.57449417e+01 2.57449436e+01 1.57449427e+01]]\n",
      "\n",
      "  [[1.69943878e+02 1.39943878e+02 7.74234695e+01]\n",
      "   [1.67765305e+02 1.37698975e+02 7.77653046e+01]\n",
      "   [1.61637741e+02 1.27994896e+02 7.45102005e+01]\n",
      "   ...\n",
      "   [8.44133148e+01 2.04133110e+01 1.14133110e+01]\n",
      "   [9.03060455e+01 2.64438152e+01 1.74438152e+01]\n",
      "   [8.95461578e+01 2.59492531e+01 1.69492531e+01]]\n",
      "\n",
      "  [[1.67362244e+02 1.38147949e+02 6.97193909e+01]\n",
      "   [1.65158157e+02 1.34158157e+02 6.98571396e+01]\n",
      "   [1.66193878e+02 1.33551025e+02 7.51938782e+01]\n",
      "   ...\n",
      "   [9.05969696e+01 2.31683941e+01 1.53826799e+01]\n",
      "   [9.68316040e+01 2.94030304e+01 2.16173153e+01]\n",
      "   [9.49796677e+01 2.75510941e+01 1.97653809e+01]]\n",
      "\n",
      "  ...\n",
      "\n",
      "  [[2.42566330e+02 2.18566330e+02 1.82994858e+02]\n",
      "   [2.40158157e+02 2.16158157e+02 1.82045914e+02]\n",
      "   [2.39785721e+02 2.14785721e+02 1.83954086e+02]\n",
      "   ...\n",
      "   [2.03295959e+02 1.48775604e+02 7.46072540e+01]\n",
      "   [1.89515274e+02 1.39658157e+02 6.94438934e+01]\n",
      "   [2.16137924e+02 1.71280807e+02 1.09852242e+02]]\n",
      "\n",
      "  [[2.41265289e+02 2.17265289e+02 1.79265289e+02]\n",
      "   [2.39923462e+02 2.15923462e+02 1.79923462e+02]\n",
      "   [2.38015305e+02 2.13015305e+02 1.82229584e+02]\n",
      "   ...\n",
      "   [1.88418564e+02 1.42821625e+02 6.94184341e+01]\n",
      "   [1.86408234e+02 1.36540909e+02 6.34745712e+01]\n",
      "   [2.02811035e+02 1.53739594e+02 8.69283752e+01]]\n",
      "\n",
      "  [[2.38714249e+02 2.15714249e+02 1.74714249e+02]\n",
      "   [2.38831635e+02 2.14831635e+02 1.78688782e+02]\n",
      "   [2.38290817e+02 2.13214279e+02 1.82658188e+02]\n",
      "   ...\n",
      "   [1.77239792e+02 1.36520416e+02 6.57447968e+01]\n",
      "   [1.87163254e+02 1.39091812e+02 6.30918198e+01]\n",
      "   [1.86581833e+02 1.33224655e+02 6.27654572e+01]]]\n",
      "\n",
      "\n",
      " ...\n",
      "\n",
      "\n",
      " [[[0.00000000e+00 2.09183669e+00 1.38163261e+01]\n",
      "   [4.28571463e-01 3.22448993e+00 1.28367348e+01]\n",
      "   [2.85714388e-01 3.28571439e+00 1.13673468e+01]\n",
      "   ...\n",
      "   [2.36163284e+02 2.05591812e+02 1.09693832e+02]\n",
      "   [2.34122482e+02 2.07714279e+02 1.15948898e+02]\n",
      "   [2.31520401e+02 2.07806122e+02 1.19040825e+02]]\n",
      "\n",
      "  [[1.42857134e-01 3.14285707e+00 9.99999905e+00]\n",
      "   [1.00000000e+00 4.00000000e+00 9.93877602e+00]\n",
      "   [1.00000000e+00 4.00000000e+00 9.67346859e+00]\n",
      "   ...\n",
      "   [2.53285706e+02 2.32795837e+02 1.65989655e+02]\n",
      "   [2.53061249e+02 2.42826462e+02 1.84969208e+02]\n",
      "   [2.49173462e+02 2.44816330e+02 1.92408188e+02]]\n",
      "\n",
      "  [[1.42857134e-01 4.14285707e+00 6.71428537e+00]\n",
      "   [1.42857146e+00 5.42857170e+00 8.00000000e+00]\n",
      "   [2.00000000e+00 6.00000000e+00 8.57142830e+00]\n",
      "   ...\n",
      "   [2.48489761e+02 2.41632553e+02 1.83203888e+02]\n",
      "   [2.48408249e+02 2.52040756e+02 2.06734467e+02]\n",
      "   [2.42071411e+02 2.52040802e+02 2.14602051e+02]]\n",
      "\n",
      "  ...\n",
      "\n",
      "  [[2.01071411e+02 1.47071411e+02 4.84183846e+01]\n",
      "   [1.94122437e+02 1.40122437e+02 4.01224365e+01]\n",
      "   [1.96398010e+02 1.42398010e+02 4.23980064e+01]\n",
      "   ...\n",
      "   [1.49265320e+02 1.01204102e+02 1.82652550e+01]\n",
      "   [1.46163269e+02 9.75000305e+01 1.77346230e+01]\n",
      "   [1.43989807e+02 9.49898071e+01 1.64183331e+01]]\n",
      "\n",
      "  [[1.90928696e+02 1.37928696e+02 4.19286880e+01]\n",
      "   [1.95887772e+02 1.42887772e+02 4.68877602e+01]\n",
      "   [2.02316315e+02 1.49979553e+02 5.19897957e+01]\n",
      "   ...\n",
      "   [1.46949036e+02 9.89286194e+01 1.56633253e+01]\n",
      "   [1.46285767e+02 9.76837387e+01 1.74898262e+01]\n",
      "   [1.46224533e+02 9.72245331e+01 1.82245312e+01]]\n",
      "\n",
      "  [[2.03724289e+02 1.50724289e+02 5.67242966e+01]\n",
      "   [1.97540771e+02 1.44540771e+02 5.05407715e+01]\n",
      "   [2.02387772e+02 1.49387772e+02 5.44694481e+01]\n",
      "   ...\n",
      "   [1.49214172e+02 1.00214172e+02 2.22958431e+01]\n",
      "   [1.48785645e+02 9.97856445e+01 2.29897404e+01]\n",
      "   [1.46765167e+02 9.77651672e+01 2.11223431e+01]]]\n",
      "\n",
      "\n",
      " [[[6.75561218e+01 1.51989803e+01 2.75510192e+00]\n",
      "   [7.28826523e+01 2.05255108e+01 6.93367386e+00]\n",
      "   [7.54948959e+01 2.59285717e+01 1.10714283e+01]\n",
      "   ...\n",
      "   [7.05000229e+01 3.92854977e+00 0.00000000e+00]\n",
      "   [7.21428680e+01 3.14287019e+00 0.00000000e+00]\n",
      "   [7.35867233e+01 4.58672237e+00 0.00000000e+00]]\n",
      "\n",
      "  [[6.45510178e+01 6.19387770e+00 2.55101882e-02]\n",
      "   [6.33622437e+01 5.00510216e+00 0.00000000e+00]\n",
      "   [6.28316307e+01 6.21428585e+00 0.00000000e+00]\n",
      "   ...\n",
      "   [7.34847412e+01 6.91326714e+00 1.98959351e-01]\n",
      "   [7.60000000e+01 7.00000000e+00 0.00000000e+00]\n",
      "   [7.45458832e+01 5.54588127e+00 0.00000000e+00]]\n",
      "\n",
      "  [[7.56428604e+01 7.92857170e+00 2.20918322e+00]\n",
      "   [7.04846878e+01 4.22959185e+00 0.00000000e+00]\n",
      "   [7.15459137e+01 6.04591846e+00 0.00000000e+00]\n",
      "   ...\n",
      "   [7.33112717e+01 5.16837215e+00 0.00000000e+00]\n",
      "   [7.59438705e+01 6.94386721e+00 0.00000000e+00]\n",
      "   [7.32856445e+01 2.71421623e+00 0.00000000e+00]]\n",
      "\n",
      "  ...\n",
      "\n",
      "  [[1.64647949e+02 2.28622398e+01 2.86223936e+00]\n",
      "   [1.63770401e+02 2.19846935e+01 1.98469329e+00]\n",
      "   [1.64357132e+02 2.23112144e+01 3.29081941e+00]\n",
      "   ...\n",
      "   [1.68974442e+02 1.18520107e+01 2.63777733e+00]\n",
      "   [1.66801010e+02 1.28010149e+01 2.80101514e+00]\n",
      "   [1.67775513e+02 1.57755070e+01 4.77550650e+00]]\n",
      "\n",
      "  [[1.62163239e+02 2.11632423e+01 1.16324270e+00]\n",
      "   [1.60142807e+02 1.91428051e+01 1.37721539e-01]\n",
      "   [1.59270340e+02 1.78417702e+01 2.55039692e-01]\n",
      "   ...\n",
      "   [1.64484634e+02 7.69890213e+00 0.00000000e+00]\n",
      "   [1.66071442e+02 1.20714417e+01 2.07144165e+00]\n",
      "   [1.63453979e+02 1.14539738e+01 7.85644531e-01]]\n",
      "\n",
      "  [[1.62658157e+02 2.16581573e+01 1.88775170e+00]\n",
      "   [1.57331635e+02 1.63316364e+01 0.00000000e+00]\n",
      "   [1.56846939e+02 1.54183702e+01 0.00000000e+00]\n",
      "   ...\n",
      "   [1.69224487e+02 1.24387531e+01 2.79596138e+00]\n",
      "   [1.64622437e+02 1.06224413e+01 7.14294434e-01]\n",
      "   [1.62816345e+02 1.08163424e+01 2.29582191e-01]]]\n",
      "\n",
      "\n",
      " [[[1.90969391e+02 9.79693909e+01 2.89693871e+01]\n",
      "   [1.91831635e+02 9.88316345e+01 2.98316326e+01]\n",
      "   [1.91785721e+02 9.87857132e+01 2.97857132e+01]\n",
      "   ...\n",
      "   [2.15780670e+02 2.13994934e+02 2.27209198e+02]\n",
      "   [2.20142838e+02 2.10071396e+02 2.17877472e+02]\n",
      "   [2.15443802e+02 2.03443802e+02 2.06729446e+02]]\n",
      "\n",
      "  [[1.90000000e+02 9.70000000e+01 2.80000000e+01]\n",
      "   [1.94714294e+02 1.01714294e+02 3.27142868e+01]\n",
      "   [1.92142853e+02 9.91428604e+01 3.01428585e+01]\n",
      "   ...\n",
      "   [2.14326508e+02 2.12540771e+02 2.25755035e+02]\n",
      "   [2.13285721e+02 2.06132645e+02 2.12994858e+02]\n",
      "   [2.14714249e+02 2.02714249e+02 2.06714249e+02]]\n",
      "\n",
      "  [[1.92076538e+02 9.90765305e+01 3.00765305e+01]\n",
      "   [1.96571442e+02 1.03571426e+02 3.45714264e+01]\n",
      "   [1.94739807e+02 1.01739792e+02 3.27397957e+01]\n",
      "   ...\n",
      "   [2.14999985e+02 2.13214249e+02 2.26520340e+02]\n",
      "   [2.14071442e+02 2.06928558e+02 2.14714233e+02]\n",
      "   [2.15494919e+02 2.04214279e+02 2.09499924e+02]]\n",
      "\n",
      "  ...\n",
      "\n",
      "  [[1.60923477e+02 1.30137741e+02 8.24949493e+01]\n",
      "   [1.51010056e+02 1.20010056e+02 7.52550201e+01]\n",
      "   [1.27642487e+02 9.89026871e+01 5.68568153e+01]\n",
      "   ...\n",
      "   [9.24949341e+01 1.21709198e+02 1.53086594e+02]\n",
      "   [9.29897842e+01 1.18800980e+02 1.43775467e+02]\n",
      "   [9.35662613e+01 1.15137733e+02 1.39780533e+02]]\n",
      "\n",
      "  [[1.33642654e+02 1.04571205e+02 6.28569717e+01]\n",
      "   [1.16112144e+02 8.70407028e+01 4.73162613e+01]\n",
      "   [1.03433754e+02 7.34184418e+01 3.80052109e+01]\n",
      "   ...\n",
      "   [9.57448502e+01 1.21214203e+02 1.50800919e+02]\n",
      "   [8.88673248e+01 1.14872429e+02 1.39719330e+02]\n",
      "   [8.88062057e+01 1.15857239e+02 1.36025513e+02]]\n",
      "\n",
      "  [[1.12816269e+02 8.28162689e+01 4.75306206e+01]\n",
      "   [1.14566498e+02 8.45664978e+01 5.04746628e+01]\n",
      "   [1.15831635e+02 8.43265228e+01 5.35561371e+01]\n",
      "   ...\n",
      "   [9.13673248e+01 1.15214264e+02 1.42632675e+02]\n",
      "   [9.02347031e+01 1.16377586e+02 1.41091812e+02]\n",
      "   [8.47854004e+01 1.15316139e+02 1.32244598e+02]]]], shape=(32, 224, 224, 3), dtype=float32) tf.Tensor(\n",
      "[[0. 0. 0. 0. 0. 0. 0. 1. 0. 0.]\n",
      " [0. 0. 0. 0. 1. 0. 0. 0. 0. 0.]\n",
      " [0. 0. 0. 0. 0. 0. 1. 0. 0. 0.]\n",
      " [0. 0. 0. 1. 0. 0. 0. 0. 0. 0.]\n",
      " [0. 0. 1. 0. 0. 0. 0. 0. 0. 0.]\n",
      " [0. 0. 0. 0. 1. 0. 0. 0. 0. 0.]\n",
      " [0. 1. 0. 0. 0. 0. 0. 0. 0. 0.]\n",
      " [0. 1. 0. 0. 0. 0. 0. 0. 0. 0.]\n",
      " [0. 1. 0. 0. 0. 0. 0. 0. 0. 0.]\n",
      " [0. 0. 0. 0. 0. 0. 0. 0. 1. 0.]\n",
      " [0. 1. 0. 0. 0. 0. 0. 0. 0. 0.]\n",
      " [0. 0. 0. 0. 1. 0. 0. 0. 0. 0.]\n",
      " [0. 0. 1. 0. 0. 0. 0. 0. 0. 0.]\n",
      " [0. 0. 1. 0. 0. 0. 0. 0. 0. 0.]\n",
      " [0. 0. 0. 1. 0. 0. 0. 0. 0. 0.]\n",
      " [0. 0. 0. 0. 0. 0. 0. 1. 0. 0.]\n",
      " [0. 0. 0. 0. 0. 0. 1. 0. 0. 0.]\n",
      " [1. 0. 0. 0. 0. 0. 0. 0. 0. 0.]\n",
      " [0. 0. 0. 1. 0. 0. 0. 0. 0. 0.]\n",
      " [0. 0. 0. 0. 0. 0. 1. 0. 0. 0.]\n",
      " [0. 0. 0. 0. 0. 1. 0. 0. 0. 0.]\n",
      " [0. 0. 0. 0. 0. 0. 0. 0. 1. 0.]\n",
      " [0. 0. 0. 0. 0. 0. 0. 0. 0. 1.]\n",
      " [0. 1. 0. 0. 0. 0. 0. 0. 0. 0.]\n",
      " [0. 0. 0. 0. 0. 0. 0. 0. 0. 1.]\n",
      " [0. 0. 0. 0. 1. 0. 0. 0. 0. 0.]\n",
      " [0. 0. 0. 0. 1. 0. 0. 0. 0. 0.]\n",
      " [0. 0. 0. 0. 1. 0. 0. 0. 0. 0.]\n",
      " [0. 0. 0. 0. 0. 0. 0. 0. 0. 1.]\n",
      " [0. 0. 0. 0. 0. 1. 0. 0. 0. 0.]\n",
      " [0. 0. 0. 0. 0. 0. 0. 0. 0. 1.]\n",
      " [1. 0. 0. 0. 0. 0. 0. 0. 0. 0.]], shape=(32, 10), dtype=float32)\n"
     ]
    }
   ],
   "source": [
    "#See an example of a batch of data   #take() will unravel the batch\n",
    "for images, labels in train_data_10_percent.take(1):\n",
    "    print(images,labels)"
   ]
  },
  {
   "cell_type": "markdown",
   "id": "f53ffaab",
   "metadata": {},
   "source": [
    "#Modeling experiments we're running\n",
    "\n",
    "Experiment-------->data--------->preprocessing-------->Model\n",
    "\n",
    "\n",
    "model_0(baseline)---10classes of Food101data(random 10% training data only)----None----Feature Extractor:EfficientNetB0(pretrained on ImageNet,all layers frozen) with no top\n",
    "\n",
    "\n",
    "model_1----10classes of food101 data (random 1% training data only)---Random Flip,Rotation,Zoom,Height,Width,data augmentation-----same as Model_0\n",
    "\n",
    "\n",
    "model_2----same as model_0--------same as model_1-------same as model_0\n",
    "\n",
    "\n",
    "model_3--------same as model_0-------same as model_1------Fine-tuning:Model2(EfficientnetB0 pre-trained on ImageNet) with top layer trained on custom data,top 10 layers unfrozen\n",
    "\n",
    "\n",
    "model_4-------10classes of Food101 data(100% training data)----same as model1------same as model3"
   ]
  },
  {
   "cell_type": "markdown",
   "id": "59df7c2b",
   "metadata": {},
   "source": [
    "### Keras Sequential API vs. Functional API"
   ]
  },
  {
   "cell_type": "markdown",
   "id": "3b27d160",
   "metadata": {},
   "source": [
    "* similarities: compiling,fitting,evaluating\n",
    "* Differences: model construction (the Functional API is more flexible and able to produce more sophisticated models)"
   ]
  },
  {
   "cell_type": "markdown",
   "id": "a58439ae",
   "metadata": {},
   "source": [
    "#Model_0: Building a transfer learning feature extraction model using the keras Functional API\n",
    "\n",
    "The sequential API is straight-forward, it runs our layers in Sequential order.\n",
    "\n",
    "But the functional API gives us more flexibility with our models"
   ]
  },
  {
   "cell_type": "code",
   "execution_count": 53,
   "id": "9013c966",
   "metadata": {},
   "outputs": [
    {
     "name": "stdout",
     "output_type": "stream",
     "text": [
      "Shape after passing inputs through base model:(None, 7, 7, 1280)\n",
      "Shape after GlobalAveragePooling2D:(None, 1280)\n",
      "Saving TensorBoard log files to: Transfer_learning/10_percent_feature_ectraction/20230315-071011\n",
      "WARNING:tensorflow:Model failed to serialize as JSON. Ignoring... Unable to serialize [2.0896919 2.1128857 2.1081853] to JSON. Unrecognized type <class 'tensorflow.python.framework.ops.EagerTensor'>.\n",
      "Epoch 1/5\n",
      "24/24 [==============================] - 7s 132ms/step - loss: 1.8113 - accuracy: 0.4640 - val_loss: 1.2623 - val_accuracy: 0.7516\n",
      "Epoch 2/5\n",
      "24/24 [==============================] - 2s 96ms/step - loss: 1.0444 - accuracy: 0.7853 - val_loss: 0.8475 - val_accuracy: 0.8191\n",
      "Epoch 3/5\n",
      "24/24 [==============================] - 2s 96ms/step - loss: 0.7614 - accuracy: 0.8253 - val_loss: 0.7124 - val_accuracy: 0.8536\n",
      "Epoch 4/5\n",
      "24/24 [==============================] - 2s 95ms/step - loss: 0.6130 - accuracy: 0.8640 - val_loss: 0.6256 - val_accuracy: 0.8470\n",
      "Epoch 5/5\n",
      "24/24 [==============================] - 2s 95ms/step - loss: 0.5260 - accuracy: 0.8867 - val_loss: 0.5735 - val_accuracy: 0.8536\n"
     ]
    }
   ],
   "source": [
    "# 1. Create base model with tf.keras.applications\n",
    "base_model=tf.keras.applications.EfficientNetB0(include_top=False)\n",
    "\n",
    "# 2. Freeze the base model (so the underlying pre-trained patterns/weights aren't updated during traing )\n",
    "base_model.trainable=False\n",
    "\n",
    "# 3. Create inputs into our model\n",
    "inputs=tf.keras.layers.Input(shape=(224,224,3),name=\"input_layer\")\n",
    "\n",
    "# 4. if using model like ResNet50V2 you will need to normalize inputs (you don't have to for EfficientNets,Rescaling built in)\n",
    "#x=tf.keras.layers.experimental.preprocessing.Rescaling(1./255)(inputs)\n",
    "\n",
    "# 5. Pass the inputs to the base_model\n",
    "x=base_model(inputs)\n",
    "print(f\"Shape after passing inputs through base model:{x.shape}\")\n",
    "\n",
    "# 6. Average Pool the outputs of the base model(aggregate all the most important information,reduce number of computations)\n",
    "x=tf.keras.layers.GlobalAveragePooling2D(name=\"global_average_pooling_layer\")(x)\n",
    "print(f\"Shape after GlobalAveragePooling2D:{x.shape}\")\n",
    "\n",
    "# 7. Create the output activation layer\n",
    "outputs=tf.keras.layers.Dense(10,activation=\"softmax\",name=\"output_layer\")(x)\n",
    "  \n",
    "# 8. Combine the inputs with the outputs into a model\n",
    "model_0=tf.keras.Model(inputs,outputs)\n",
    "\n",
    "# 9. Compile the model\n",
    "model_0.compile(loss=\"categorical_crossentropy\",\n",
    "               optimizer=tf.keras.optimizers.Adam(),\n",
    "               metrics=[\"accuracy\"])\n",
    "\n",
    "# 10. Fit the model and save it's history\n",
    "history_10_percent=model_0.fit(train_data_10_percent,\n",
    "                              epochs=5,\n",
    "                              steps_per_epoch=len(train_data_10_percent),\n",
    "                              validation_data=test_data,\n",
    "                              validation_steps=int(0.25*len(test_data)),\n",
    "                              callbacks=[create_tensorboard_callback(dir_name=\"Transfer_learning\",\n",
    "                                                                    experiment_name=\"10_percent_feature_ectraction\")])"
   ]
  },
  {
   "cell_type": "code",
   "execution_count": 54,
   "id": "868b027a",
   "metadata": {},
   "outputs": [
    {
     "name": "stdout",
     "output_type": "stream",
     "text": [
      "79/79 [==============================] - 4s 49ms/step - loss: 0.5465 - accuracy: 0.8592\n"
     ]
    },
    {
     "data": {
      "text/plain": [
       "[0.5465483665466309, 0.8592000007629395]"
      ]
     },
     "execution_count": 54,
     "metadata": {},
     "output_type": "execute_result"
    }
   ],
   "source": [
    "#Evaluate the model\n",
    "model_0.evaluate(test_data)"
   ]
  },
  {
   "cell_type": "code",
   "execution_count": 55,
   "id": "8668f2fa",
   "metadata": {},
   "outputs": [
    {
     "name": "stdout",
     "output_type": "stream",
     "text": [
      "0 input_3\n",
      "1 rescaling_4\n",
      "2 normalization_2\n",
      "3 rescaling_5\n",
      "4 stem_conv_pad\n",
      "5 stem_conv\n",
      "6 stem_bn\n",
      "7 stem_activation\n",
      "8 block1a_dwconv\n",
      "9 block1a_bn\n",
      "10 block1a_activation\n",
      "11 block1a_se_squeeze\n",
      "12 block1a_se_reshape\n",
      "13 block1a_se_reduce\n",
      "14 block1a_se_expand\n",
      "15 block1a_se_excite\n",
      "16 block1a_project_conv\n",
      "17 block1a_project_bn\n",
      "18 block2a_expand_conv\n",
      "19 block2a_expand_bn\n",
      "20 block2a_expand_activation\n",
      "21 block2a_dwconv_pad\n",
      "22 block2a_dwconv\n",
      "23 block2a_bn\n",
      "24 block2a_activation\n",
      "25 block2a_se_squeeze\n",
      "26 block2a_se_reshape\n",
      "27 block2a_se_reduce\n",
      "28 block2a_se_expand\n",
      "29 block2a_se_excite\n",
      "30 block2a_project_conv\n",
      "31 block2a_project_bn\n",
      "32 block2b_expand_conv\n",
      "33 block2b_expand_bn\n",
      "34 block2b_expand_activation\n",
      "35 block2b_dwconv\n",
      "36 block2b_bn\n",
      "37 block2b_activation\n",
      "38 block2b_se_squeeze\n",
      "39 block2b_se_reshape\n",
      "40 block2b_se_reduce\n",
      "41 block2b_se_expand\n",
      "42 block2b_se_excite\n",
      "43 block2b_project_conv\n",
      "44 block2b_project_bn\n",
      "45 block2b_drop\n",
      "46 block2b_add\n",
      "47 block3a_expand_conv\n",
      "48 block3a_expand_bn\n",
      "49 block3a_expand_activation\n",
      "50 block3a_dwconv_pad\n",
      "51 block3a_dwconv\n",
      "52 block3a_bn\n",
      "53 block3a_activation\n",
      "54 block3a_se_squeeze\n",
      "55 block3a_se_reshape\n",
      "56 block3a_se_reduce\n",
      "57 block3a_se_expand\n",
      "58 block3a_se_excite\n",
      "59 block3a_project_conv\n",
      "60 block3a_project_bn\n",
      "61 block3b_expand_conv\n",
      "62 block3b_expand_bn\n",
      "63 block3b_expand_activation\n",
      "64 block3b_dwconv\n",
      "65 block3b_bn\n",
      "66 block3b_activation\n",
      "67 block3b_se_squeeze\n",
      "68 block3b_se_reshape\n",
      "69 block3b_se_reduce\n",
      "70 block3b_se_expand\n",
      "71 block3b_se_excite\n",
      "72 block3b_project_conv\n",
      "73 block3b_project_bn\n",
      "74 block3b_drop\n",
      "75 block3b_add\n",
      "76 block4a_expand_conv\n",
      "77 block4a_expand_bn\n",
      "78 block4a_expand_activation\n",
      "79 block4a_dwconv_pad\n",
      "80 block4a_dwconv\n",
      "81 block4a_bn\n",
      "82 block4a_activation\n",
      "83 block4a_se_squeeze\n",
      "84 block4a_se_reshape\n",
      "85 block4a_se_reduce\n",
      "86 block4a_se_expand\n",
      "87 block4a_se_excite\n",
      "88 block4a_project_conv\n",
      "89 block4a_project_bn\n",
      "90 block4b_expand_conv\n",
      "91 block4b_expand_bn\n",
      "92 block4b_expand_activation\n",
      "93 block4b_dwconv\n",
      "94 block4b_bn\n",
      "95 block4b_activation\n",
      "96 block4b_se_squeeze\n",
      "97 block4b_se_reshape\n",
      "98 block4b_se_reduce\n",
      "99 block4b_se_expand\n",
      "100 block4b_se_excite\n",
      "101 block4b_project_conv\n",
      "102 block4b_project_bn\n",
      "103 block4b_drop\n",
      "104 block4b_add\n",
      "105 block4c_expand_conv\n",
      "106 block4c_expand_bn\n",
      "107 block4c_expand_activation\n",
      "108 block4c_dwconv\n",
      "109 block4c_bn\n",
      "110 block4c_activation\n",
      "111 block4c_se_squeeze\n",
      "112 block4c_se_reshape\n",
      "113 block4c_se_reduce\n",
      "114 block4c_se_expand\n",
      "115 block4c_se_excite\n",
      "116 block4c_project_conv\n",
      "117 block4c_project_bn\n",
      "118 block4c_drop\n",
      "119 block4c_add\n",
      "120 block5a_expand_conv\n",
      "121 block5a_expand_bn\n",
      "122 block5a_expand_activation\n",
      "123 block5a_dwconv\n",
      "124 block5a_bn\n",
      "125 block5a_activation\n",
      "126 block5a_se_squeeze\n",
      "127 block5a_se_reshape\n",
      "128 block5a_se_reduce\n",
      "129 block5a_se_expand\n",
      "130 block5a_se_excite\n",
      "131 block5a_project_conv\n",
      "132 block5a_project_bn\n",
      "133 block5b_expand_conv\n",
      "134 block5b_expand_bn\n",
      "135 block5b_expand_activation\n",
      "136 block5b_dwconv\n",
      "137 block5b_bn\n",
      "138 block5b_activation\n",
      "139 block5b_se_squeeze\n",
      "140 block5b_se_reshape\n",
      "141 block5b_se_reduce\n",
      "142 block5b_se_expand\n",
      "143 block5b_se_excite\n",
      "144 block5b_project_conv\n",
      "145 block5b_project_bn\n",
      "146 block5b_drop\n",
      "147 block5b_add\n",
      "148 block5c_expand_conv\n",
      "149 block5c_expand_bn\n",
      "150 block5c_expand_activation\n",
      "151 block5c_dwconv\n",
      "152 block5c_bn\n",
      "153 block5c_activation\n",
      "154 block5c_se_squeeze\n",
      "155 block5c_se_reshape\n",
      "156 block5c_se_reduce\n",
      "157 block5c_se_expand\n",
      "158 block5c_se_excite\n",
      "159 block5c_project_conv\n",
      "160 block5c_project_bn\n",
      "161 block5c_drop\n",
      "162 block5c_add\n",
      "163 block6a_expand_conv\n",
      "164 block6a_expand_bn\n",
      "165 block6a_expand_activation\n",
      "166 block6a_dwconv_pad\n",
      "167 block6a_dwconv\n",
      "168 block6a_bn\n",
      "169 block6a_activation\n",
      "170 block6a_se_squeeze\n",
      "171 block6a_se_reshape\n",
      "172 block6a_se_reduce\n",
      "173 block6a_se_expand\n",
      "174 block6a_se_excite\n",
      "175 block6a_project_conv\n",
      "176 block6a_project_bn\n",
      "177 block6b_expand_conv\n",
      "178 block6b_expand_bn\n",
      "179 block6b_expand_activation\n",
      "180 block6b_dwconv\n",
      "181 block6b_bn\n",
      "182 block6b_activation\n",
      "183 block6b_se_squeeze\n",
      "184 block6b_se_reshape\n",
      "185 block6b_se_reduce\n",
      "186 block6b_se_expand\n",
      "187 block6b_se_excite\n",
      "188 block6b_project_conv\n",
      "189 block6b_project_bn\n",
      "190 block6b_drop\n",
      "191 block6b_add\n",
      "192 block6c_expand_conv\n",
      "193 block6c_expand_bn\n",
      "194 block6c_expand_activation\n",
      "195 block6c_dwconv\n",
      "196 block6c_bn\n",
      "197 block6c_activation\n",
      "198 block6c_se_squeeze\n",
      "199 block6c_se_reshape\n",
      "200 block6c_se_reduce\n",
      "201 block6c_se_expand\n",
      "202 block6c_se_excite\n",
      "203 block6c_project_conv\n",
      "204 block6c_project_bn\n",
      "205 block6c_drop\n",
      "206 block6c_add\n",
      "207 block6d_expand_conv\n",
      "208 block6d_expand_bn\n",
      "209 block6d_expand_activation\n",
      "210 block6d_dwconv\n",
      "211 block6d_bn\n",
      "212 block6d_activation\n",
      "213 block6d_se_squeeze\n",
      "214 block6d_se_reshape\n",
      "215 block6d_se_reduce\n",
      "216 block6d_se_expand\n",
      "217 block6d_se_excite\n",
      "218 block6d_project_conv\n",
      "219 block6d_project_bn\n",
      "220 block6d_drop\n",
      "221 block6d_add\n",
      "222 block7a_expand_conv\n",
      "223 block7a_expand_bn\n",
      "224 block7a_expand_activation\n",
      "225 block7a_dwconv\n",
      "226 block7a_bn\n",
      "227 block7a_activation\n",
      "228 block7a_se_squeeze\n",
      "229 block7a_se_reshape\n",
      "230 block7a_se_reduce\n",
      "231 block7a_se_expand\n",
      "232 block7a_se_excite\n",
      "233 block7a_project_conv\n",
      "234 block7a_project_bn\n",
      "235 top_conv\n",
      "236 top_bn\n",
      "237 top_activation\n"
     ]
    }
   ],
   "source": [
    "#Check the layers in our base model\n",
    "for layer_number,layer in enumerate(base_model.layers):\n",
    "    print(layer_number,layer.name)"
   ]
  },
  {
   "cell_type": "code",
   "execution_count": 56,
   "id": "0b35d3bb",
   "metadata": {},
   "outputs": [
    {
     "name": "stdout",
     "output_type": "stream",
     "text": [
      "Model: \"efficientnetb0\"\n",
      "__________________________________________________________________________________________________\n",
      " Layer (type)                   Output Shape         Param #     Connected to                     \n",
      "==================================================================================================\n",
      " input_3 (InputLayer)           [(None, None, None,  0           []                               \n",
      "                                 3)]                                                              \n",
      "                                                                                                  \n",
      " rescaling_4 (Rescaling)        (None, None, None,   0           ['input_3[0][0]']                \n",
      "                                3)                                                                \n",
      "                                                                                                  \n",
      " normalization_2 (Normalization  (None, None, None,   7          ['rescaling_4[0][0]']            \n",
      " )                              3)                                                                \n",
      "                                                                                                  \n",
      " rescaling_5 (Rescaling)        (None, None, None,   0           ['normalization_2[0][0]']        \n",
      "                                3)                                                                \n",
      "                                                                                                  \n",
      " stem_conv_pad (ZeroPadding2D)  (None, None, None,   0           ['rescaling_5[0][0]']            \n",
      "                                3)                                                                \n",
      "                                                                                                  \n",
      " stem_conv (Conv2D)             (None, None, None,   864         ['stem_conv_pad[0][0]']          \n",
      "                                32)                                                               \n",
      "                                                                                                  \n",
      " stem_bn (BatchNormalization)   (None, None, None,   128         ['stem_conv[0][0]']              \n",
      "                                32)                                                               \n",
      "                                                                                                  \n",
      " stem_activation (Activation)   (None, None, None,   0           ['stem_bn[0][0]']                \n",
      "                                32)                                                               \n",
      "                                                                                                  \n",
      " block1a_dwconv (DepthwiseConv2  (None, None, None,   288        ['stem_activation[0][0]']        \n",
      " D)                             32)                                                               \n",
      "                                                                                                  \n",
      " block1a_bn (BatchNormalization  (None, None, None,   128        ['block1a_dwconv[0][0]']         \n",
      " )                              32)                                                               \n",
      "                                                                                                  \n",
      " block1a_activation (Activation  (None, None, None,   0          ['block1a_bn[0][0]']             \n",
      " )                              32)                                                               \n",
      "                                                                                                  \n",
      " block1a_se_squeeze (GlobalAver  (None, 32)          0           ['block1a_activation[0][0]']     \n",
      " agePooling2D)                                                                                    \n",
      "                                                                                                  \n",
      " block1a_se_reshape (Reshape)   (None, 1, 1, 32)     0           ['block1a_se_squeeze[0][0]']     \n",
      "                                                                                                  \n",
      " block1a_se_reduce (Conv2D)     (None, 1, 1, 8)      264         ['block1a_se_reshape[0][0]']     \n",
      "                                                                                                  \n",
      " block1a_se_expand (Conv2D)     (None, 1, 1, 32)     288         ['block1a_se_reduce[0][0]']      \n",
      "                                                                                                  \n",
      " block1a_se_excite (Multiply)   (None, None, None,   0           ['block1a_activation[0][0]',     \n",
      "                                32)                               'block1a_se_expand[0][0]']      \n",
      "                                                                                                  \n",
      " block1a_project_conv (Conv2D)  (None, None, None,   512         ['block1a_se_excite[0][0]']      \n",
      "                                16)                                                               \n",
      "                                                                                                  \n",
      " block1a_project_bn (BatchNorma  (None, None, None,   64         ['block1a_project_conv[0][0]']   \n",
      " lization)                      16)                                                               \n",
      "                                                                                                  \n",
      " block2a_expand_conv (Conv2D)   (None, None, None,   1536        ['block1a_project_bn[0][0]']     \n",
      "                                96)                                                               \n",
      "                                                                                                  \n",
      " block2a_expand_bn (BatchNormal  (None, None, None,   384        ['block2a_expand_conv[0][0]']    \n",
      " ization)                       96)                                                               \n",
      "                                                                                                  \n",
      " block2a_expand_activation (Act  (None, None, None,   0          ['block2a_expand_bn[0][0]']      \n",
      " ivation)                       96)                                                               \n",
      "                                                                                                  \n",
      " block2a_dwconv_pad (ZeroPaddin  (None, None, None,   0          ['block2a_expand_activation[0][0]\n",
      " g2D)                           96)                              ']                               \n",
      "                                                                                                  \n",
      " block2a_dwconv (DepthwiseConv2  (None, None, None,   864        ['block2a_dwconv_pad[0][0]']     \n",
      " D)                             96)                                                               \n",
      "                                                                                                  \n",
      " block2a_bn (BatchNormalization  (None, None, None,   384        ['block2a_dwconv[0][0]']         \n",
      " )                              96)                                                               \n",
      "                                                                                                  \n",
      " block2a_activation (Activation  (None, None, None,   0          ['block2a_bn[0][0]']             \n",
      " )                              96)                                                               \n",
      "                                                                                                  \n",
      " block2a_se_squeeze (GlobalAver  (None, 96)          0           ['block2a_activation[0][0]']     \n",
      " agePooling2D)                                                                                    \n",
      "                                                                                                  \n",
      " block2a_se_reshape (Reshape)   (None, 1, 1, 96)     0           ['block2a_se_squeeze[0][0]']     \n",
      "                                                                                                  \n",
      " block2a_se_reduce (Conv2D)     (None, 1, 1, 4)      388         ['block2a_se_reshape[0][0]']     \n",
      "                                                                                                  \n",
      " block2a_se_expand (Conv2D)     (None, 1, 1, 96)     480         ['block2a_se_reduce[0][0]']      \n"
     ]
    },
    {
     "name": "stdout",
     "output_type": "stream",
     "text": [
      "                                                                                                  \n",
      " block2a_se_excite (Multiply)   (None, None, None,   0           ['block2a_activation[0][0]',     \n",
      "                                96)                               'block2a_se_expand[0][0]']      \n",
      "                                                                                                  \n",
      " block2a_project_conv (Conv2D)  (None, None, None,   2304        ['block2a_se_excite[0][0]']      \n",
      "                                24)                                                               \n",
      "                                                                                                  \n",
      " block2a_project_bn (BatchNorma  (None, None, None,   96         ['block2a_project_conv[0][0]']   \n",
      " lization)                      24)                                                               \n",
      "                                                                                                  \n",
      " block2b_expand_conv (Conv2D)   (None, None, None,   3456        ['block2a_project_bn[0][0]']     \n",
      "                                144)                                                              \n",
      "                                                                                                  \n",
      " block2b_expand_bn (BatchNormal  (None, None, None,   576        ['block2b_expand_conv[0][0]']    \n",
      " ization)                       144)                                                              \n",
      "                                                                                                  \n",
      " block2b_expand_activation (Act  (None, None, None,   0          ['block2b_expand_bn[0][0]']      \n",
      " ivation)                       144)                                                              \n",
      "                                                                                                  \n",
      " block2b_dwconv (DepthwiseConv2  (None, None, None,   1296       ['block2b_expand_activation[0][0]\n",
      " D)                             144)                             ']                               \n",
      "                                                                                                  \n",
      " block2b_bn (BatchNormalization  (None, None, None,   576        ['block2b_dwconv[0][0]']         \n",
      " )                              144)                                                              \n",
      "                                                                                                  \n",
      " block2b_activation (Activation  (None, None, None,   0          ['block2b_bn[0][0]']             \n",
      " )                              144)                                                              \n",
      "                                                                                                  \n",
      " block2b_se_squeeze (GlobalAver  (None, 144)         0           ['block2b_activation[0][0]']     \n",
      " agePooling2D)                                                                                    \n",
      "                                                                                                  \n",
      " block2b_se_reshape (Reshape)   (None, 1, 1, 144)    0           ['block2b_se_squeeze[0][0]']     \n",
      "                                                                                                  \n",
      " block2b_se_reduce (Conv2D)     (None, 1, 1, 6)      870         ['block2b_se_reshape[0][0]']     \n",
      "                                                                                                  \n",
      " block2b_se_expand (Conv2D)     (None, 1, 1, 144)    1008        ['block2b_se_reduce[0][0]']      \n",
      "                                                                                                  \n",
      " block2b_se_excite (Multiply)   (None, None, None,   0           ['block2b_activation[0][0]',     \n",
      "                                144)                              'block2b_se_expand[0][0]']      \n",
      "                                                                                                  \n",
      " block2b_project_conv (Conv2D)  (None, None, None,   3456        ['block2b_se_excite[0][0]']      \n",
      "                                24)                                                               \n",
      "                                                                                                  \n",
      " block2b_project_bn (BatchNorma  (None, None, None,   96         ['block2b_project_conv[0][0]']   \n",
      " lization)                      24)                                                               \n",
      "                                                                                                  \n",
      " block2b_drop (Dropout)         (None, None, None,   0           ['block2b_project_bn[0][0]']     \n",
      "                                24)                                                               \n",
      "                                                                                                  \n",
      " block2b_add (Add)              (None, None, None,   0           ['block2b_drop[0][0]',           \n",
      "                                24)                               'block2a_project_bn[0][0]']     \n",
      "                                                                                                  \n",
      " block3a_expand_conv (Conv2D)   (None, None, None,   3456        ['block2b_add[0][0]']            \n",
      "                                144)                                                              \n",
      "                                                                                                  \n",
      " block3a_expand_bn (BatchNormal  (None, None, None,   576        ['block3a_expand_conv[0][0]']    \n",
      " ization)                       144)                                                              \n",
      "                                                                                                  \n",
      " block3a_expand_activation (Act  (None, None, None,   0          ['block3a_expand_bn[0][0]']      \n",
      " ivation)                       144)                                                              \n",
      "                                                                                                  \n",
      " block3a_dwconv_pad (ZeroPaddin  (None, None, None,   0          ['block3a_expand_activation[0][0]\n",
      " g2D)                           144)                             ']                               \n",
      "                                                                                                  \n",
      " block3a_dwconv (DepthwiseConv2  (None, None, None,   3600       ['block3a_dwconv_pad[0][0]']     \n",
      " D)                             144)                                                              \n",
      "                                                                                                  \n",
      " block3a_bn (BatchNormalization  (None, None, None,   576        ['block3a_dwconv[0][0]']         \n",
      " )                              144)                                                              \n",
      "                                                                                                  \n",
      " block3a_activation (Activation  (None, None, None,   0          ['block3a_bn[0][0]']             \n",
      " )                              144)                                                              \n",
      "                                                                                                  \n",
      " block3a_se_squeeze (GlobalAver  (None, 144)         0           ['block3a_activation[0][0]']     \n",
      " agePooling2D)                                                                                    \n",
      "                                                                                                  \n",
      " block3a_se_reshape (Reshape)   (None, 1, 1, 144)    0           ['block3a_se_squeeze[0][0]']     \n",
      "                                                                                                  \n",
      " block3a_se_reduce (Conv2D)     (None, 1, 1, 6)      870         ['block3a_se_reshape[0][0]']     \n",
      "                                                                                                  \n",
      " block3a_se_expand (Conv2D)     (None, 1, 1, 144)    1008        ['block3a_se_reduce[0][0]']      \n",
      "                                                                                                  \n",
      " block3a_se_excite (Multiply)   (None, None, None,   0           ['block3a_activation[0][0]',     \n"
     ]
    },
    {
     "name": "stdout",
     "output_type": "stream",
     "text": [
      "                                144)                              'block3a_se_expand[0][0]']      \n",
      "                                                                                                  \n",
      " block3a_project_conv (Conv2D)  (None, None, None,   5760        ['block3a_se_excite[0][0]']      \n",
      "                                40)                                                               \n",
      "                                                                                                  \n",
      " block3a_project_bn (BatchNorma  (None, None, None,   160        ['block3a_project_conv[0][0]']   \n",
      " lization)                      40)                                                               \n",
      "                                                                                                  \n",
      " block3b_expand_conv (Conv2D)   (None, None, None,   9600        ['block3a_project_bn[0][0]']     \n",
      "                                240)                                                              \n",
      "                                                                                                  \n",
      " block3b_expand_bn (BatchNormal  (None, None, None,   960        ['block3b_expand_conv[0][0]']    \n",
      " ization)                       240)                                                              \n",
      "                                                                                                  \n",
      " block3b_expand_activation (Act  (None, None, None,   0          ['block3b_expand_bn[0][0]']      \n",
      " ivation)                       240)                                                              \n",
      "                                                                                                  \n",
      " block3b_dwconv (DepthwiseConv2  (None, None, None,   6000       ['block3b_expand_activation[0][0]\n",
      " D)                             240)                             ']                               \n",
      "                                                                                                  \n",
      " block3b_bn (BatchNormalization  (None, None, None,   960        ['block3b_dwconv[0][0]']         \n",
      " )                              240)                                                              \n",
      "                                                                                                  \n",
      " block3b_activation (Activation  (None, None, None,   0          ['block3b_bn[0][0]']             \n",
      " )                              240)                                                              \n",
      "                                                                                                  \n",
      " block3b_se_squeeze (GlobalAver  (None, 240)         0           ['block3b_activation[0][0]']     \n",
      " agePooling2D)                                                                                    \n",
      "                                                                                                  \n",
      " block3b_se_reshape (Reshape)   (None, 1, 1, 240)    0           ['block3b_se_squeeze[0][0]']     \n",
      "                                                                                                  \n",
      " block3b_se_reduce (Conv2D)     (None, 1, 1, 10)     2410        ['block3b_se_reshape[0][0]']     \n",
      "                                                                                                  \n",
      " block3b_se_expand (Conv2D)     (None, 1, 1, 240)    2640        ['block3b_se_reduce[0][0]']      \n",
      "                                                                                                  \n",
      " block3b_se_excite (Multiply)   (None, None, None,   0           ['block3b_activation[0][0]',     \n",
      "                                240)                              'block3b_se_expand[0][0]']      \n",
      "                                                                                                  \n",
      " block3b_project_conv (Conv2D)  (None, None, None,   9600        ['block3b_se_excite[0][0]']      \n",
      "                                40)                                                               \n",
      "                                                                                                  \n",
      " block3b_project_bn (BatchNorma  (None, None, None,   160        ['block3b_project_conv[0][0]']   \n",
      " lization)                      40)                                                               \n",
      "                                                                                                  \n",
      " block3b_drop (Dropout)         (None, None, None,   0           ['block3b_project_bn[0][0]']     \n",
      "                                40)                                                               \n",
      "                                                                                                  \n",
      " block3b_add (Add)              (None, None, None,   0           ['block3b_drop[0][0]',           \n",
      "                                40)                               'block3a_project_bn[0][0]']     \n",
      "                                                                                                  \n",
      " block4a_expand_conv (Conv2D)   (None, None, None,   9600        ['block3b_add[0][0]']            \n",
      "                                240)                                                              \n",
      "                                                                                                  \n",
      " block4a_expand_bn (BatchNormal  (None, None, None,   960        ['block4a_expand_conv[0][0]']    \n",
      " ization)                       240)                                                              \n",
      "                                                                                                  \n",
      " block4a_expand_activation (Act  (None, None, None,   0          ['block4a_expand_bn[0][0]']      \n",
      " ivation)                       240)                                                              \n",
      "                                                                                                  \n",
      " block4a_dwconv_pad (ZeroPaddin  (None, None, None,   0          ['block4a_expand_activation[0][0]\n",
      " g2D)                           240)                             ']                               \n",
      "                                                                                                  \n",
      " block4a_dwconv (DepthwiseConv2  (None, None, None,   2160       ['block4a_dwconv_pad[0][0]']     \n",
      " D)                             240)                                                              \n",
      "                                                                                                  \n",
      " block4a_bn (BatchNormalization  (None, None, None,   960        ['block4a_dwconv[0][0]']         \n",
      " )                              240)                                                              \n",
      "                                                                                                  \n",
      " block4a_activation (Activation  (None, None, None,   0          ['block4a_bn[0][0]']             \n",
      " )                              240)                                                              \n",
      "                                                                                                  \n",
      " block4a_se_squeeze (GlobalAver  (None, 240)         0           ['block4a_activation[0][0]']     \n",
      " agePooling2D)                                                                                    \n",
      "                                                                                                  \n",
      " block4a_se_reshape (Reshape)   (None, 1, 1, 240)    0           ['block4a_se_squeeze[0][0]']     \n",
      "                                                                                                  \n",
      " block4a_se_reduce (Conv2D)     (None, 1, 1, 10)     2410        ['block4a_se_reshape[0][0]']     \n",
      "                                                                                                  \n",
      " block4a_se_expand (Conv2D)     (None, 1, 1, 240)    2640        ['block4a_se_reduce[0][0]']      \n",
      "                                                                                                  \n",
      " block4a_se_excite (Multiply)   (None, None, None,   0           ['block4a_activation[0][0]',     \n",
      "                                240)                              'block4a_se_expand[0][0]']      \n",
      "                                                                                                  \n"
     ]
    },
    {
     "name": "stdout",
     "output_type": "stream",
     "text": [
      " block4a_project_conv (Conv2D)  (None, None, None,   19200       ['block4a_se_excite[0][0]']      \n",
      "                                80)                                                               \n",
      "                                                                                                  \n",
      " block4a_project_bn (BatchNorma  (None, None, None,   320        ['block4a_project_conv[0][0]']   \n",
      " lization)                      80)                                                               \n",
      "                                                                                                  \n",
      " block4b_expand_conv (Conv2D)   (None, None, None,   38400       ['block4a_project_bn[0][0]']     \n",
      "                                480)                                                              \n",
      "                                                                                                  \n",
      " block4b_expand_bn (BatchNormal  (None, None, None,   1920       ['block4b_expand_conv[0][0]']    \n",
      " ization)                       480)                                                              \n",
      "                                                                                                  \n",
      " block4b_expand_activation (Act  (None, None, None,   0          ['block4b_expand_bn[0][0]']      \n",
      " ivation)                       480)                                                              \n",
      "                                                                                                  \n",
      " block4b_dwconv (DepthwiseConv2  (None, None, None,   4320       ['block4b_expand_activation[0][0]\n",
      " D)                             480)                             ']                               \n",
      "                                                                                                  \n",
      " block4b_bn (BatchNormalization  (None, None, None,   1920       ['block4b_dwconv[0][0]']         \n",
      " )                              480)                                                              \n",
      "                                                                                                  \n",
      " block4b_activation (Activation  (None, None, None,   0          ['block4b_bn[0][0]']             \n",
      " )                              480)                                                              \n",
      "                                                                                                  \n",
      " block4b_se_squeeze (GlobalAver  (None, 480)         0           ['block4b_activation[0][0]']     \n",
      " agePooling2D)                                                                                    \n",
      "                                                                                                  \n",
      " block4b_se_reshape (Reshape)   (None, 1, 1, 480)    0           ['block4b_se_squeeze[0][0]']     \n",
      "                                                                                                  \n",
      " block4b_se_reduce (Conv2D)     (None, 1, 1, 20)     9620        ['block4b_se_reshape[0][0]']     \n",
      "                                                                                                  \n",
      " block4b_se_expand (Conv2D)     (None, 1, 1, 480)    10080       ['block4b_se_reduce[0][0]']      \n",
      "                                                                                                  \n",
      " block4b_se_excite (Multiply)   (None, None, None,   0           ['block4b_activation[0][0]',     \n",
      "                                480)                              'block4b_se_expand[0][0]']      \n",
      "                                                                                                  \n",
      " block4b_project_conv (Conv2D)  (None, None, None,   38400       ['block4b_se_excite[0][0]']      \n",
      "                                80)                                                               \n",
      "                                                                                                  \n",
      " block4b_project_bn (BatchNorma  (None, None, None,   320        ['block4b_project_conv[0][0]']   \n",
      " lization)                      80)                                                               \n",
      "                                                                                                  \n",
      " block4b_drop (Dropout)         (None, None, None,   0           ['block4b_project_bn[0][0]']     \n",
      "                                80)                                                               \n",
      "                                                                                                  \n",
      " block4b_add (Add)              (None, None, None,   0           ['block4b_drop[0][0]',           \n",
      "                                80)                               'block4a_project_bn[0][0]']     \n",
      "                                                                                                  \n",
      " block4c_expand_conv (Conv2D)   (None, None, None,   38400       ['block4b_add[0][0]']            \n",
      "                                480)                                                              \n",
      "                                                                                                  \n",
      " block4c_expand_bn (BatchNormal  (None, None, None,   1920       ['block4c_expand_conv[0][0]']    \n",
      " ization)                       480)                                                              \n",
      "                                                                                                  \n",
      " block4c_expand_activation (Act  (None, None, None,   0          ['block4c_expand_bn[0][0]']      \n",
      " ivation)                       480)                                                              \n",
      "                                                                                                  \n",
      " block4c_dwconv (DepthwiseConv2  (None, None, None,   4320       ['block4c_expand_activation[0][0]\n",
      " D)                             480)                             ']                               \n",
      "                                                                                                  \n",
      " block4c_bn (BatchNormalization  (None, None, None,   1920       ['block4c_dwconv[0][0]']         \n",
      " )                              480)                                                              \n",
      "                                                                                                  \n",
      " block4c_activation (Activation  (None, None, None,   0          ['block4c_bn[0][0]']             \n",
      " )                              480)                                                              \n",
      "                                                                                                  \n",
      " block4c_se_squeeze (GlobalAver  (None, 480)         0           ['block4c_activation[0][0]']     \n",
      " agePooling2D)                                                                                    \n",
      "                                                                                                  \n",
      " block4c_se_reshape (Reshape)   (None, 1, 1, 480)    0           ['block4c_se_squeeze[0][0]']     \n",
      "                                                                                                  \n",
      " block4c_se_reduce (Conv2D)     (None, 1, 1, 20)     9620        ['block4c_se_reshape[0][0]']     \n",
      "                                                                                                  \n",
      " block4c_se_expand (Conv2D)     (None, 1, 1, 480)    10080       ['block4c_se_reduce[0][0]']      \n",
      "                                                                                                  \n",
      " block4c_se_excite (Multiply)   (None, None, None,   0           ['block4c_activation[0][0]',     \n",
      "                                480)                              'block4c_se_expand[0][0]']      \n",
      "                                                                                                  \n",
      " block4c_project_conv (Conv2D)  (None, None, None,   38400       ['block4c_se_excite[0][0]']      \n",
      "                                80)                                                               \n",
      "                                                                                                  \n",
      " block4c_project_bn (BatchNorma  (None, None, None,   320        ['block4c_project_conv[0][0]']   \n",
      " lization)                      80)                                                               \n"
     ]
    },
    {
     "name": "stdout",
     "output_type": "stream",
     "text": [
      "                                                                                                  \n",
      " block4c_drop (Dropout)         (None, None, None,   0           ['block4c_project_bn[0][0]']     \n",
      "                                80)                                                               \n",
      "                                                                                                  \n",
      " block4c_add (Add)              (None, None, None,   0           ['block4c_drop[0][0]',           \n",
      "                                80)                               'block4b_add[0][0]']            \n",
      "                                                                                                  \n",
      " block5a_expand_conv (Conv2D)   (None, None, None,   38400       ['block4c_add[0][0]']            \n",
      "                                480)                                                              \n",
      "                                                                                                  \n",
      " block5a_expand_bn (BatchNormal  (None, None, None,   1920       ['block5a_expand_conv[0][0]']    \n",
      " ization)                       480)                                                              \n",
      "                                                                                                  \n",
      " block5a_expand_activation (Act  (None, None, None,   0          ['block5a_expand_bn[0][0]']      \n",
      " ivation)                       480)                                                              \n",
      "                                                                                                  \n",
      " block5a_dwconv (DepthwiseConv2  (None, None, None,   12000      ['block5a_expand_activation[0][0]\n",
      " D)                             480)                             ']                               \n",
      "                                                                                                  \n",
      " block5a_bn (BatchNormalization  (None, None, None,   1920       ['block5a_dwconv[0][0]']         \n",
      " )                              480)                                                              \n",
      "                                                                                                  \n",
      " block5a_activation (Activation  (None, None, None,   0          ['block5a_bn[0][0]']             \n",
      " )                              480)                                                              \n",
      "                                                                                                  \n",
      " block5a_se_squeeze (GlobalAver  (None, 480)         0           ['block5a_activation[0][0]']     \n",
      " agePooling2D)                                                                                    \n",
      "                                                                                                  \n",
      " block5a_se_reshape (Reshape)   (None, 1, 1, 480)    0           ['block5a_se_squeeze[0][0]']     \n",
      "                                                                                                  \n",
      " block5a_se_reduce (Conv2D)     (None, 1, 1, 20)     9620        ['block5a_se_reshape[0][0]']     \n",
      "                                                                                                  \n",
      " block5a_se_expand (Conv2D)     (None, 1, 1, 480)    10080       ['block5a_se_reduce[0][0]']      \n",
      "                                                                                                  \n",
      " block5a_se_excite (Multiply)   (None, None, None,   0           ['block5a_activation[0][0]',     \n",
      "                                480)                              'block5a_se_expand[0][0]']      \n",
      "                                                                                                  \n",
      " block5a_project_conv (Conv2D)  (None, None, None,   53760       ['block5a_se_excite[0][0]']      \n",
      "                                112)                                                              \n",
      "                                                                                                  \n",
      " block5a_project_bn (BatchNorma  (None, None, None,   448        ['block5a_project_conv[0][0]']   \n",
      " lization)                      112)                                                              \n",
      "                                                                                                  \n",
      " block5b_expand_conv (Conv2D)   (None, None, None,   75264       ['block5a_project_bn[0][0]']     \n",
      "                                672)                                                              \n",
      "                                                                                                  \n",
      " block5b_expand_bn (BatchNormal  (None, None, None,   2688       ['block5b_expand_conv[0][0]']    \n",
      " ization)                       672)                                                              \n",
      "                                                                                                  \n",
      " block5b_expand_activation (Act  (None, None, None,   0          ['block5b_expand_bn[0][0]']      \n",
      " ivation)                       672)                                                              \n",
      "                                                                                                  \n",
      " block5b_dwconv (DepthwiseConv2  (None, None, None,   16800      ['block5b_expand_activation[0][0]\n",
      " D)                             672)                             ']                               \n",
      "                                                                                                  \n",
      " block5b_bn (BatchNormalization  (None, None, None,   2688       ['block5b_dwconv[0][0]']         \n",
      " )                              672)                                                              \n",
      "                                                                                                  \n",
      " block5b_activation (Activation  (None, None, None,   0          ['block5b_bn[0][0]']             \n",
      " )                              672)                                                              \n",
      "                                                                                                  \n",
      " block5b_se_squeeze (GlobalAver  (None, 672)         0           ['block5b_activation[0][0]']     \n",
      " agePooling2D)                                                                                    \n",
      "                                                                                                  \n",
      " block5b_se_reshape (Reshape)   (None, 1, 1, 672)    0           ['block5b_se_squeeze[0][0]']     \n",
      "                                                                                                  \n",
      " block5b_se_reduce (Conv2D)     (None, 1, 1, 28)     18844       ['block5b_se_reshape[0][0]']     \n",
      "                                                                                                  \n",
      " block5b_se_expand (Conv2D)     (None, 1, 1, 672)    19488       ['block5b_se_reduce[0][0]']      \n",
      "                                                                                                  \n",
      " block5b_se_excite (Multiply)   (None, None, None,   0           ['block5b_activation[0][0]',     \n",
      "                                672)                              'block5b_se_expand[0][0]']      \n",
      "                                                                                                  \n",
      " block5b_project_conv (Conv2D)  (None, None, None,   75264       ['block5b_se_excite[0][0]']      \n",
      "                                112)                                                              \n",
      "                                                                                                  \n",
      " block5b_project_bn (BatchNorma  (None, None, None,   448        ['block5b_project_conv[0][0]']   \n",
      " lization)                      112)                                                              \n",
      "                                                                                                  \n",
      " block5b_drop (Dropout)         (None, None, None,   0           ['block5b_project_bn[0][0]']     \n",
      "                                112)                                                              \n",
      "                                                                                                  \n",
      " block5b_add (Add)              (None, None, None,   0           ['block5b_drop[0][0]',           \n"
     ]
    },
    {
     "name": "stdout",
     "output_type": "stream",
     "text": [
      "                                112)                              'block5a_project_bn[0][0]']     \n",
      "                                                                                                  \n",
      " block5c_expand_conv (Conv2D)   (None, None, None,   75264       ['block5b_add[0][0]']            \n",
      "                                672)                                                              \n",
      "                                                                                                  \n",
      " block5c_expand_bn (BatchNormal  (None, None, None,   2688       ['block5c_expand_conv[0][0]']    \n",
      " ization)                       672)                                                              \n",
      "                                                                                                  \n",
      " block5c_expand_activation (Act  (None, None, None,   0          ['block5c_expand_bn[0][0]']      \n",
      " ivation)                       672)                                                              \n",
      "                                                                                                  \n",
      " block5c_dwconv (DepthwiseConv2  (None, None, None,   16800      ['block5c_expand_activation[0][0]\n",
      " D)                             672)                             ']                               \n",
      "                                                                                                  \n",
      " block5c_bn (BatchNormalization  (None, None, None,   2688       ['block5c_dwconv[0][0]']         \n",
      " )                              672)                                                              \n",
      "                                                                                                  \n",
      " block5c_activation (Activation  (None, None, None,   0          ['block5c_bn[0][0]']             \n",
      " )                              672)                                                              \n",
      "                                                                                                  \n",
      " block5c_se_squeeze (GlobalAver  (None, 672)         0           ['block5c_activation[0][0]']     \n",
      " agePooling2D)                                                                                    \n",
      "                                                                                                  \n",
      " block5c_se_reshape (Reshape)   (None, 1, 1, 672)    0           ['block5c_se_squeeze[0][0]']     \n",
      "                                                                                                  \n",
      " block5c_se_reduce (Conv2D)     (None, 1, 1, 28)     18844       ['block5c_se_reshape[0][0]']     \n",
      "                                                                                                  \n",
      " block5c_se_expand (Conv2D)     (None, 1, 1, 672)    19488       ['block5c_se_reduce[0][0]']      \n",
      "                                                                                                  \n",
      " block5c_se_excite (Multiply)   (None, None, None,   0           ['block5c_activation[0][0]',     \n",
      "                                672)                              'block5c_se_expand[0][0]']      \n",
      "                                                                                                  \n",
      " block5c_project_conv (Conv2D)  (None, None, None,   75264       ['block5c_se_excite[0][0]']      \n",
      "                                112)                                                              \n",
      "                                                                                                  \n",
      " block5c_project_bn (BatchNorma  (None, None, None,   448        ['block5c_project_conv[0][0]']   \n",
      " lization)                      112)                                                              \n",
      "                                                                                                  \n",
      " block5c_drop (Dropout)         (None, None, None,   0           ['block5c_project_bn[0][0]']     \n",
      "                                112)                                                              \n",
      "                                                                                                  \n",
      " block5c_add (Add)              (None, None, None,   0           ['block5c_drop[0][0]',           \n",
      "                                112)                              'block5b_add[0][0]']            \n",
      "                                                                                                  \n",
      " block6a_expand_conv (Conv2D)   (None, None, None,   75264       ['block5c_add[0][0]']            \n",
      "                                672)                                                              \n",
      "                                                                                                  \n",
      " block6a_expand_bn (BatchNormal  (None, None, None,   2688       ['block6a_expand_conv[0][0]']    \n",
      " ization)                       672)                                                              \n",
      "                                                                                                  \n",
      " block6a_expand_activation (Act  (None, None, None,   0          ['block6a_expand_bn[0][0]']      \n",
      " ivation)                       672)                                                              \n",
      "                                                                                                  \n",
      " block6a_dwconv_pad (ZeroPaddin  (None, None, None,   0          ['block6a_expand_activation[0][0]\n",
      " g2D)                           672)                             ']                               \n",
      "                                                                                                  \n",
      " block6a_dwconv (DepthwiseConv2  (None, None, None,   16800      ['block6a_dwconv_pad[0][0]']     \n",
      " D)                             672)                                                              \n",
      "                                                                                                  \n",
      " block6a_bn (BatchNormalization  (None, None, None,   2688       ['block6a_dwconv[0][0]']         \n",
      " )                              672)                                                              \n",
      "                                                                                                  \n",
      " block6a_activation (Activation  (None, None, None,   0          ['block6a_bn[0][0]']             \n",
      " )                              672)                                                              \n",
      "                                                                                                  \n",
      " block6a_se_squeeze (GlobalAver  (None, 672)         0           ['block6a_activation[0][0]']     \n",
      " agePooling2D)                                                                                    \n",
      "                                                                                                  \n",
      " block6a_se_reshape (Reshape)   (None, 1, 1, 672)    0           ['block6a_se_squeeze[0][0]']     \n",
      "                                                                                                  \n",
      " block6a_se_reduce (Conv2D)     (None, 1, 1, 28)     18844       ['block6a_se_reshape[0][0]']     \n",
      "                                                                                                  \n",
      " block6a_se_expand (Conv2D)     (None, 1, 1, 672)    19488       ['block6a_se_reduce[0][0]']      \n",
      "                                                                                                  \n",
      " block6a_se_excite (Multiply)   (None, None, None,   0           ['block6a_activation[0][0]',     \n",
      "                                672)                              'block6a_se_expand[0][0]']      \n",
      "                                                                                                  \n",
      " block6a_project_conv (Conv2D)  (None, None, None,   129024      ['block6a_se_excite[0][0]']      \n",
      "                                192)                                                              \n",
      "                                                                                                  \n",
      " block6a_project_bn (BatchNorma  (None, None, None,   768        ['block6a_project_conv[0][0]']   \n",
      " lization)                      192)                                                              \n",
      "                                                                                                  \n"
     ]
    },
    {
     "name": "stdout",
     "output_type": "stream",
     "text": [
      " block6b_expand_conv (Conv2D)   (None, None, None,   221184      ['block6a_project_bn[0][0]']     \n",
      "                                1152)                                                             \n",
      "                                                                                                  \n",
      " block6b_expand_bn (BatchNormal  (None, None, None,   4608       ['block6b_expand_conv[0][0]']    \n",
      " ization)                       1152)                                                             \n",
      "                                                                                                  \n",
      " block6b_expand_activation (Act  (None, None, None,   0          ['block6b_expand_bn[0][0]']      \n",
      " ivation)                       1152)                                                             \n",
      "                                                                                                  \n",
      " block6b_dwconv (DepthwiseConv2  (None, None, None,   28800      ['block6b_expand_activation[0][0]\n",
      " D)                             1152)                            ']                               \n",
      "                                                                                                  \n",
      " block6b_bn (BatchNormalization  (None, None, None,   4608       ['block6b_dwconv[0][0]']         \n",
      " )                              1152)                                                             \n",
      "                                                                                                  \n",
      " block6b_activation (Activation  (None, None, None,   0          ['block6b_bn[0][0]']             \n",
      " )                              1152)                                                             \n",
      "                                                                                                  \n",
      " block6b_se_squeeze (GlobalAver  (None, 1152)        0           ['block6b_activation[0][0]']     \n",
      " agePooling2D)                                                                                    \n",
      "                                                                                                  \n",
      " block6b_se_reshape (Reshape)   (None, 1, 1, 1152)   0           ['block6b_se_squeeze[0][0]']     \n",
      "                                                                                                  \n",
      " block6b_se_reduce (Conv2D)     (None, 1, 1, 48)     55344       ['block6b_se_reshape[0][0]']     \n",
      "                                                                                                  \n",
      " block6b_se_expand (Conv2D)     (None, 1, 1, 1152)   56448       ['block6b_se_reduce[0][0]']      \n",
      "                                                                                                  \n",
      " block6b_se_excite (Multiply)   (None, None, None,   0           ['block6b_activation[0][0]',     \n",
      "                                1152)                             'block6b_se_expand[0][0]']      \n",
      "                                                                                                  \n",
      " block6b_project_conv (Conv2D)  (None, None, None,   221184      ['block6b_se_excite[0][0]']      \n",
      "                                192)                                                              \n",
      "                                                                                                  \n",
      " block6b_project_bn (BatchNorma  (None, None, None,   768        ['block6b_project_conv[0][0]']   \n",
      " lization)                      192)                                                              \n",
      "                                                                                                  \n",
      " block6b_drop (Dropout)         (None, None, None,   0           ['block6b_project_bn[0][0]']     \n",
      "                                192)                                                              \n",
      "                                                                                                  \n",
      " block6b_add (Add)              (None, None, None,   0           ['block6b_drop[0][0]',           \n",
      "                                192)                              'block6a_project_bn[0][0]']     \n",
      "                                                                                                  \n",
      " block6c_expand_conv (Conv2D)   (None, None, None,   221184      ['block6b_add[0][0]']            \n",
      "                                1152)                                                             \n",
      "                                                                                                  \n",
      " block6c_expand_bn (BatchNormal  (None, None, None,   4608       ['block6c_expand_conv[0][0]']    \n",
      " ization)                       1152)                                                             \n",
      "                                                                                                  \n",
      " block6c_expand_activation (Act  (None, None, None,   0          ['block6c_expand_bn[0][0]']      \n",
      " ivation)                       1152)                                                             \n",
      "                                                                                                  \n",
      " block6c_dwconv (DepthwiseConv2  (None, None, None,   28800      ['block6c_expand_activation[0][0]\n",
      " D)                             1152)                            ']                               \n",
      "                                                                                                  \n",
      " block6c_bn (BatchNormalization  (None, None, None,   4608       ['block6c_dwconv[0][0]']         \n",
      " )                              1152)                                                             \n",
      "                                                                                                  \n",
      " block6c_activation (Activation  (None, None, None,   0          ['block6c_bn[0][0]']             \n",
      " )                              1152)                                                             \n",
      "                                                                                                  \n",
      " block6c_se_squeeze (GlobalAver  (None, 1152)        0           ['block6c_activation[0][0]']     \n",
      " agePooling2D)                                                                                    \n",
      "                                                                                                  \n",
      " block6c_se_reshape (Reshape)   (None, 1, 1, 1152)   0           ['block6c_se_squeeze[0][0]']     \n",
      "                                                                                                  \n",
      " block6c_se_reduce (Conv2D)     (None, 1, 1, 48)     55344       ['block6c_se_reshape[0][0]']     \n",
      "                                                                                                  \n",
      " block6c_se_expand (Conv2D)     (None, 1, 1, 1152)   56448       ['block6c_se_reduce[0][0]']      \n",
      "                                                                                                  \n",
      " block6c_se_excite (Multiply)   (None, None, None,   0           ['block6c_activation[0][0]',     \n",
      "                                1152)                             'block6c_se_expand[0][0]']      \n",
      "                                                                                                  \n",
      " block6c_project_conv (Conv2D)  (None, None, None,   221184      ['block6c_se_excite[0][0]']      \n",
      "                                192)                                                              \n",
      "                                                                                                  \n",
      " block6c_project_bn (BatchNorma  (None, None, None,   768        ['block6c_project_conv[0][0]']   \n",
      " lization)                      192)                                                              \n",
      "                                                                                                  \n",
      " block6c_drop (Dropout)         (None, None, None,   0           ['block6c_project_bn[0][0]']     \n",
      "                                192)                                                              \n",
      "                                                                                                  \n",
      " block6c_add (Add)              (None, None, None,   0           ['block6c_drop[0][0]',           \n",
      "                                192)                              'block6b_add[0][0]']            \n"
     ]
    },
    {
     "name": "stdout",
     "output_type": "stream",
     "text": [
      "                                                                                                  \n",
      " block6d_expand_conv (Conv2D)   (None, None, None,   221184      ['block6c_add[0][0]']            \n",
      "                                1152)                                                             \n",
      "                                                                                                  \n",
      " block6d_expand_bn (BatchNormal  (None, None, None,   4608       ['block6d_expand_conv[0][0]']    \n",
      " ization)                       1152)                                                             \n",
      "                                                                                                  \n",
      " block6d_expand_activation (Act  (None, None, None,   0          ['block6d_expand_bn[0][0]']      \n",
      " ivation)                       1152)                                                             \n",
      "                                                                                                  \n",
      " block6d_dwconv (DepthwiseConv2  (None, None, None,   28800      ['block6d_expand_activation[0][0]\n",
      " D)                             1152)                            ']                               \n",
      "                                                                                                  \n",
      " block6d_bn (BatchNormalization  (None, None, None,   4608       ['block6d_dwconv[0][0]']         \n",
      " )                              1152)                                                             \n",
      "                                                                                                  \n",
      " block6d_activation (Activation  (None, None, None,   0          ['block6d_bn[0][0]']             \n",
      " )                              1152)                                                             \n",
      "                                                                                                  \n",
      " block6d_se_squeeze (GlobalAver  (None, 1152)        0           ['block6d_activation[0][0]']     \n",
      " agePooling2D)                                                                                    \n",
      "                                                                                                  \n",
      " block6d_se_reshape (Reshape)   (None, 1, 1, 1152)   0           ['block6d_se_squeeze[0][0]']     \n",
      "                                                                                                  \n",
      " block6d_se_reduce (Conv2D)     (None, 1, 1, 48)     55344       ['block6d_se_reshape[0][0]']     \n",
      "                                                                                                  \n",
      " block6d_se_expand (Conv2D)     (None, 1, 1, 1152)   56448       ['block6d_se_reduce[0][0]']      \n",
      "                                                                                                  \n",
      " block6d_se_excite (Multiply)   (None, None, None,   0           ['block6d_activation[0][0]',     \n",
      "                                1152)                             'block6d_se_expand[0][0]']      \n",
      "                                                                                                  \n",
      " block6d_project_conv (Conv2D)  (None, None, None,   221184      ['block6d_se_excite[0][0]']      \n",
      "                                192)                                                              \n",
      "                                                                                                  \n",
      " block6d_project_bn (BatchNorma  (None, None, None,   768        ['block6d_project_conv[0][0]']   \n",
      " lization)                      192)                                                              \n",
      "                                                                                                  \n",
      " block6d_drop (Dropout)         (None, None, None,   0           ['block6d_project_bn[0][0]']     \n",
      "                                192)                                                              \n",
      "                                                                                                  \n",
      " block6d_add (Add)              (None, None, None,   0           ['block6d_drop[0][0]',           \n",
      "                                192)                              'block6c_add[0][0]']            \n",
      "                                                                                                  \n",
      " block7a_expand_conv (Conv2D)   (None, None, None,   221184      ['block6d_add[0][0]']            \n",
      "                                1152)                                                             \n",
      "                                                                                                  \n",
      " block7a_expand_bn (BatchNormal  (None, None, None,   4608       ['block7a_expand_conv[0][0]']    \n",
      " ization)                       1152)                                                             \n",
      "                                                                                                  \n",
      " block7a_expand_activation (Act  (None, None, None,   0          ['block7a_expand_bn[0][0]']      \n",
      " ivation)                       1152)                                                             \n",
      "                                                                                                  \n",
      " block7a_dwconv (DepthwiseConv2  (None, None, None,   10368      ['block7a_expand_activation[0][0]\n",
      " D)                             1152)                            ']                               \n",
      "                                                                                                  \n",
      " block7a_bn (BatchNormalization  (None, None, None,   4608       ['block7a_dwconv[0][0]']         \n",
      " )                              1152)                                                             \n",
      "                                                                                                  \n",
      " block7a_activation (Activation  (None, None, None,   0          ['block7a_bn[0][0]']             \n",
      " )                              1152)                                                             \n",
      "                                                                                                  \n",
      " block7a_se_squeeze (GlobalAver  (None, 1152)        0           ['block7a_activation[0][0]']     \n",
      " agePooling2D)                                                                                    \n",
      "                                                                                                  \n",
      " block7a_se_reshape (Reshape)   (None, 1, 1, 1152)   0           ['block7a_se_squeeze[0][0]']     \n",
      "                                                                                                  \n",
      " block7a_se_reduce (Conv2D)     (None, 1, 1, 48)     55344       ['block7a_se_reshape[0][0]']     \n",
      "                                                                                                  \n",
      " block7a_se_expand (Conv2D)     (None, 1, 1, 1152)   56448       ['block7a_se_reduce[0][0]']      \n",
      "                                                                                                  \n",
      " block7a_se_excite (Multiply)   (None, None, None,   0           ['block7a_activation[0][0]',     \n",
      "                                1152)                             'block7a_se_expand[0][0]']      \n",
      "                                                                                                  \n",
      " block7a_project_conv (Conv2D)  (None, None, None,   368640      ['block7a_se_excite[0][0]']      \n",
      "                                320)                                                              \n",
      "                                                                                                  \n",
      " block7a_project_bn (BatchNorma  (None, None, None,   1280       ['block7a_project_conv[0][0]']   \n",
      " lization)                      320)                                                              \n",
      "                                                                                                  \n",
      " top_conv (Conv2D)              (None, None, None,   409600      ['block7a_project_bn[0][0]']     \n",
      "                                1280)                                                             \n",
      "                                                                                                  \n",
      " top_bn (BatchNormalization)    (None, None, None,   5120        ['top_conv[0][0]']               \n"
     ]
    },
    {
     "name": "stdout",
     "output_type": "stream",
     "text": [
      "                                1280)                                                             \n",
      "                                                                                                  \n",
      " top_activation (Activation)    (None, None, None,   0           ['top_bn[0][0]']                 \n",
      "                                1280)                                                             \n",
      "                                                                                                  \n",
      "==================================================================================================\n",
      "Total params: 4,049,571\n",
      "Trainable params: 0\n",
      "Non-trainable params: 4,049,571\n",
      "__________________________________________________________________________________________________\n"
     ]
    }
   ],
   "source": [
    "#How about we get the summary of the base model?\n",
    "base_model.summary()"
   ]
  },
  {
   "cell_type": "code",
   "execution_count": 57,
   "id": "ac4c2601",
   "metadata": {},
   "outputs": [
    {
     "name": "stdout",
     "output_type": "stream",
     "text": [
      "Model: \"model_1\"\n",
      "_________________________________________________________________\n",
      " Layer (type)                Output Shape              Param #   \n",
      "=================================================================\n",
      " input_layer (InputLayer)    [(None, 224, 224, 3)]     0         \n",
      "                                                                 \n",
      " efficientnetb0 (Functional)  (None, None, None, 1280)  4049571  \n",
      "                                                                 \n",
      " global_average_pooling_laye  (None, 1280)             0         \n",
      " r (GlobalAveragePooling2D)                                      \n",
      "                                                                 \n",
      " output_layer (Dense)        (None, 10)                12810     \n",
      "                                                                 \n",
      "=================================================================\n",
      "Total params: 4,062,381\n",
      "Trainable params: 12,810\n",
      "Non-trainable params: 4,049,571\n",
      "_________________________________________________________________\n"
     ]
    }
   ],
   "source": [
    "model_0.summary()"
   ]
  },
  {
   "cell_type": "code",
   "execution_count": 58,
   "id": "3f533bbf",
   "metadata": {},
   "outputs": [
    {
     "data": {
      "image/png": "[encoded data removed]",
      "text/plain": [
       "<Figure size 432x288 with 1 Axes>"
      ]
     },
     "metadata": {
      "needs_background": "light"
     },
     "output_type": "display_data"
    },
    {
     "data": {
      "image/png": "[encoded data removed]",
      "text/plain": [
       "<Figure size 432x288 with 1 Axes>"
      ]
     },
     "metadata": {
      "needs_background": "light"
     },
     "output_type": "display_data"
    }
   ],
   "source": [
    "#Check out our model's Training curves\n",
    "plot_loss_curves(history_10_percent)"
   ]
  },
  {
   "cell_type": "markdown",
   "id": "2d082477",
   "metadata": {},
   "source": [
    "#Getting the Feature vector from Trained model\n",
    "\n",
    "Let's Demonstrate the Global Average Pooling 2D layer....\n",
    "\n",
    "we have a tensor after our model goes through `bas_model` of shape (None,7,7,1280).\n",
    "\n",
    "\n",
    "But then when it passes through GlobalAveragePooling2D, it turns into (None,1280).\n",
    "\n",
    "\n",
    "Let's use a similar shaped tensor of (1,4,4,3) and then pass it to GlobalAveragePooling2D."
   ]
  },
  {
   "cell_type": "code",
   "execution_count": 59,
   "id": "6f4f3f1f",
   "metadata": {},
   "outputs": [
    {
     "name": "stdout",
     "output_type": "stream",
     "text": [
      "Random input tensor:\n",
      " [[[[ 0.3274685  -0.8426258   0.3194337 ]\n",
      "   [-1.4075519  -2.3880599  -1.0392479 ]\n",
      "   [-0.5573232   0.539707    1.6994323 ]\n",
      "   [ 0.28893656 -1.5066116  -0.2645474 ]]\n",
      "\n",
      "  [[-0.59722406 -1.9171132  -0.62044144]\n",
      "   [ 0.8504023  -0.40604794 -3.0258412 ]\n",
      "   [ 0.9058464   0.29855987 -0.22561555]\n",
      "   [-0.7616443  -1.8917141  -0.93847126]]\n",
      "\n",
      "  [[ 0.77852213 -0.47338897  0.97772694]\n",
      "   [ 0.24694404  0.20573747 -0.5256233 ]\n",
      "   [ 0.32410017  0.02545409 -0.10638497]\n",
      "   [-0.6369475   1.1603122   0.2507359 ]]\n",
      "\n",
      "  [[-0.41728503  0.4012578  -1.4145443 ]\n",
      "   [-0.5931857  -1.6617213   0.33567193]\n",
      "   [ 0.10815629  0.23479682 -0.56668764]\n",
      "   [-0.35819843  0.88698614  0.52744764]]]]\n",
      "\n",
      "2D global average pooled random tensor:\n",
      " [[-0.09368646 -0.45840448 -0.2885598 ]]\n",
      "\n",
      "Shape of input tensor:(1, 4, 4, 3)\n",
      "Shape of Global Average Pooled 2D tensor:(1, 3)\n"
     ]
    }
   ],
   "source": [
    "#Define the input shape\n",
    "input_shape=(1,4,4,3)\n",
    "\n",
    "#Create a random tensor\n",
    "tf.random.set_seed(42)\n",
    "input_tensor=tf.random.normal(input_shape)\n",
    "print(f\"Random input tensor:\\n {input_tensor}\\n\")\n",
    "\n",
    "\n",
    "\n",
    "#pass the random tensor through a global average pooling 2D layer\n",
    "global_average_pooled_tensor=tf.keras.layers.GlobalAveragePooling2D()(input_tensor)\n",
    "print(f\"2D global average pooled random tensor:\\n {global_average_pooled_tensor}\\n\")\n",
    "\n",
    "\n",
    "\n",
    "#check the shape of the different tensors\n",
    "print(f\"Shape of input tensor:{input_tensor.shape}\")\n",
    "print(f\"Shape of Global Average Pooled 2D tensor:{global_average_pooled_tensor.shape}\")"
   ]
  },
  {
   "cell_type": "code",
   "execution_count": 60,
   "id": "09cbe2b6",
   "metadata": {},
   "outputs": [
    {
     "data": {
      "text/plain": [
       "<tf.Tensor: shape=(1, 3), dtype=float32, numpy=array([[-0.09368646, -0.45840448, -0.2885598 ]], dtype=float32)>"
      ]
     },
     "execution_count": 60,
     "metadata": {},
     "output_type": "execute_result"
    }
   ],
   "source": [
    "#Let's replicate the GlobalAveragePool2D layer\n",
    "\n",
    "tf.reduce_mean(input_tensor,axis=[1,2])"
   ]
  },
  {
   "cell_type": "code",
   "execution_count": 61,
   "id": "e52e54c1",
   "metadata": {},
   "outputs": [],
   "source": [
    "#Try GlobalMaxpool2D layer"
   ]
  },
  {
   "cell_type": "markdown",
   "id": "c618a096",
   "metadata": {},
   "source": [
    "**Note:** one of the reasons feature extraction transfer learning is named how it is because what often happens is pretrained model outputs a **feature vector**(a long tensor of numbers which represents the learned representation of the model on a particular sample, in our case, this is the output of the tf.keras.layers.GlobalAveragePooling2D()  layer ) which can then be used to extract patterns out of for our own specific problem."
   ]
  },
  {
   "cell_type": "markdown",
   "id": "a60bf6d0",
   "metadata": {},
   "source": [
    "What is a Feature vector?\n",
    "* A feature vector is a learned representation of the input data(a compressed form of the input data based on how the model see's it)"
   ]
  },
  {
   "cell_type": "markdown",
   "id": "4a3a1ed9",
   "metadata": {},
   "source": [
    "#Running a series of transfer learning experiments\n",
    "\n",
    "\n",
    "we've seen the incredible results transfer learning can get with only 10% of the training data, but how does it go with 1% of the training data...  how about we set up a bunch of experiments to find out:\n",
    "\n",
    "1. `model_1` - use feature extraction transfer learning with 1% of the training data with data augmentation\n",
    "2. `model_2` -use feature extraction transfer learning with 10% of the training with data augmentation\n",
    "3. `model_3` -use fine-tuning transfer learning on 10% of the training data with data augmentation\n",
    "4. `model_4` -use fine tuning transfer learning on 100% of the training data with data augmentation\n",
    "\n",
    "\n",
    "**Note:** throught all experiments the same test dataset will be used to evaluate our model.. this ensures consistency across evaluation metrics."
   ]
  },
  {
   "cell_type": "markdown",
   "id": "eb1800b8",
   "metadata": {},
   "source": [
    "### Getting and preprocessing data for model_1"
   ]
  },
  {
   "cell_type": "code",
   "execution_count": 30,
   "id": "738172b2",
   "metadata": {},
   "outputs": [
    {
     "name": "stdout",
     "output_type": "stream",
     "text": [
      "100% [......................................................................] 133612354 / 13361235410_food_classes_1_percent.zip\n"
     ]
    }
   ],
   "source": [
    "#download and unzip data\n",
    "import wget\n",
    "url=\"https://storage.googleapis.com/ztm_tf_course/food_vision/10_food_classes_1_percent.zip\"\n",
    "filename=wget.download(url)\n",
    "print(filename)"
   ]
  },
  {
   "cell_type": "code",
   "execution_count": 31,
   "id": "6833d5b7",
   "metadata": {},
   "outputs": [],
   "source": [
    "unzip_data(\"10_food_classes_1_percent.zip\")"
   ]
  },
  {
   "cell_type": "code",
   "execution_count": 62,
   "id": "0698d19e",
   "metadata": {},
   "outputs": [],
   "source": [
    "#Create train and test dirs\n",
    "train_dir_1_percent=\"10_food_classes_1_percent/train\"\n",
    "test_dir=\"10_food_classes_1_percent/test\""
   ]
  },
  {
   "cell_type": "code",
   "execution_count": 63,
   "id": "066c0cea",
   "metadata": {},
   "outputs": [
    {
     "name": "stdout",
     "output_type": "stream",
     "text": [
      "There are 2 directories and 0 images in '10_food_classes_1_percent'.\n",
      "There are 10 directories and 0 images in '10_food_classes_1_percent\\test'.\n",
      "There are 0 directories and 250 images in '10_food_classes_1_percent\\test\\chicken_curry'.\n",
      "There are 0 directories and 250 images in '10_food_classes_1_percent\\test\\chicken_wings'.\n",
      "There are 0 directories and 250 images in '10_food_classes_1_percent\\test\\fried_rice'.\n",
      "There are 0 directories and 250 images in '10_food_classes_1_percent\\test\\grilled_salmon'.\n",
      "There are 0 directories and 250 images in '10_food_classes_1_percent\\test\\hamburger'.\n",
      "There are 0 directories and 250 images in '10_food_classes_1_percent\\test\\ice_cream'.\n",
      "There are 0 directories and 250 images in '10_food_classes_1_percent\\test\\pizza'.\n",
      "There are 0 directories and 250 images in '10_food_classes_1_percent\\test\\ramen'.\n",
      "There are 0 directories and 250 images in '10_food_classes_1_percent\\test\\steak'.\n",
      "There are 0 directories and 250 images in '10_food_classes_1_percent\\test\\sushi'.\n",
      "There are 10 directories and 0 images in '10_food_classes_1_percent\\train'.\n",
      "There are 0 directories and 7 images in '10_food_classes_1_percent\\train\\chicken_curry'.\n",
      "There are 0 directories and 7 images in '10_food_classes_1_percent\\train\\chicken_wings'.\n",
      "There are 0 directories and 7 images in '10_food_classes_1_percent\\train\\fried_rice'.\n",
      "There are 0 directories and 7 images in '10_food_classes_1_percent\\train\\grilled_salmon'.\n",
      "There are 0 directories and 7 images in '10_food_classes_1_percent\\train\\hamburger'.\n",
      "There are 0 directories and 7 images in '10_food_classes_1_percent\\train\\ice_cream'.\n",
      "There are 0 directories and 7 images in '10_food_classes_1_percent\\train\\pizza'.\n",
      "There are 0 directories and 7 images in '10_food_classes_1_percent\\train\\ramen'.\n",
      "There are 0 directories and 7 images in '10_food_classes_1_percent\\train\\steak'.\n",
      "There are 0 directories and 7 images in '10_food_classes_1_percent\\train\\sushi'.\n"
     ]
    }
   ],
   "source": [
    "#How many images are we working with\n",
    "walk_through_dir(\"10_food_classes_1_percent\")"
   ]
  },
  {
   "cell_type": "code",
   "execution_count": 64,
   "id": "968dc88f",
   "metadata": {},
   "outputs": [
    {
     "name": "stdout",
     "output_type": "stream",
     "text": [
      "Found 70 files belonging to 10 classes.\n",
      "Found 2500 files belonging to 10 classes.\n"
     ]
    }
   ],
   "source": [
    "#setup data loaders\n",
    "IMG_SIZE=(224,224)\n",
    "BATCH_SIZE=32\n",
    "train_data_1_percent=tf.keras.preprocessing.image_dataset_from_directory(train_dir_1_percent,\n",
    "                                                                label_mode=\"categorical\",\n",
    "                                                                image_size=IMG_SIZE,\n",
    "                                                                batch_size=BATCH_SIZE)\n",
    "\n",
    "\n",
    "test_data=tf.keras.preprocessing.image_dataset_from_directory(test_dir,\n",
    "                                                     label_mode=\"categorical\",\n",
    "                                                     image_size=IMG_SIZE,\n",
    "                                                     batch_size=BATCH_SIZE)"
   ]
  },
  {
   "cell_type": "markdown",
   "id": "34ab6acb",
   "metadata": {},
   "source": [
    "##### Adding data augmentation right into the model\n",
    "\n",
    "\n",
    "To add data augmentation right into our models,we can use the layers inside:\n",
    "\n",
    "* `tf.keras.layers.experimental.preprocessing()`\n",
    "\n",
    "\n",
    "We can see the benefits of doing this within the Tensorflow Data augmentation documentation: https://www.tensorflow.org/tutorials/images/data_augmentation#:~:text=You%20can%20use%20the%20Keras%20preprocessing%20layers%20for,repeatedly%20to%20the%20same%20image.%20data_augmentation%20%3D%20tf.keras.Sequential%28%5B%26%5D\n",
    "\n",
    "\n",
    "off the top our of heads,after reading the docs, the benefits of using data augmentation inside the model are:\n",
    "* preprocessing of images(augmenting them)happens on the GPU(much faster) rather than the CPU.\n",
    "* Image Data augmentation only happens during training,so we can still export our whole model and use it elsewhere.\n",
    "\n",
    "\n",
    "when passed as a layer to a model data augmentation is automatically `turned on during training`(augments training data) but `turned off during inference`(does not augment testing data or new unseen data)."
   ]
  },
  {
   "cell_type": "code",
   "execution_count": 65,
   "id": "aaefd7c4",
   "metadata": {},
   "outputs": [
    {
     "name": "stdout",
     "output_type": "stream",
     "text": [
      "2.10.0\n"
     ]
    }
   ],
   "source": [
    "print(tf.__version__)"
   ]
  },
  {
   "cell_type": "code",
   "execution_count": 66,
   "id": "c8cdf291",
   "metadata": {},
   "outputs": [],
   "source": [
    "import tensorflow as tf\n",
    "from tensorflow import keras\n",
    "from tensorflow.keras import layers\n",
    "from tensorflow.keras.layers.experimental import preprocessing\n",
    "\n",
    "#Create data augmentation stage with horizontal flipping,rotations,zooms, etc\n",
    "data_augmentation=keras.Sequential([\n",
    "    preprocessing.RandomFlip(\"horizontal\"),\n",
    "    preprocessing.RandomRotation(0.2),\n",
    "    preprocessing.RandomZoom(0.2),\n",
    "    preprocessing.RandomHeight(0.2),\n",
    "    preprocessing.RandomWidth(0.2),\n",
    "    #preprocessing.Rescale(1./255)  #keep for models like Resnet50V2 but EfficientNet's having Rescaling builtin\n",
    "    \n",
    "],name=\"data_augmentation\")"
   ]
  },
  {
   "cell_type": "markdown",
   "id": "e6c17afd",
   "metadata": {},
   "source": [
    "##### Visualize our data augmentation layer(and see what happens to our data)"
   ]
  },
  {
   "cell_type": "code",
   "execution_count": 67,
   "id": "ebe2f94b",
   "metadata": {},
   "outputs": [
    {
     "data": {
      "text/plain": [
       "Text(0.5, 1.0, 'Augmented random image from class :steak')"
      ]
     },
     "execution_count": 67,
     "metadata": {},
     "output_type": "execute_result"
    },
    {
     "data": {
      "image/png": "[encoded data removed]",
      "text/plain": [
       "<Figure size 432x288 with 1 Axes>"
      ]
     },
     "metadata": {
      "needs_background": "light"
     },
     "output_type": "display_data"
    },
    {
     "data": {
      "image/png": "[encoded data removed]",
      "text/plain": [
       "<Figure size 432x288 with 1 Axes>"
      ]
     },
     "metadata": {
      "needs_background": "light"
     },
     "output_type": "display_data"
    }
   ],
   "source": [
    "#View a random image and compare it to it's augmented version\n",
    "\n",
    "import matplotlib.pyplot as plt\n",
    "import matplotlib.image as mpimg\n",
    "import os\n",
    "import random\n",
    "target_class=random.choice(train_data_1_percent.class_names)\n",
    "target_dir=\"10_food_classes_1_percent/train/\"+target_class\n",
    "random_image=random.choice(os.listdir(target_dir))\n",
    "random_image_path=target_dir+\"/\"+random_image\n",
    "\n",
    "#Read in the random image\n",
    "img=mpimg.imread(random_image_path)\n",
    "plt.imshow(img)\n",
    "plt.title(f\"original random image from class :{target_class}\")\n",
    "\n",
    "\n",
    "#Now let's plot our augmented random image\n",
    "augmented_img=data_augmentation(img,training=True)\n",
    "plt.figure()\n",
    "plt.imshow(augmented_img/255)\n",
    "plt.title(f\"Augmented random image from class :{target_class}\")"
   ]
  },
  {
   "cell_type": "markdown",
   "id": "7cd12c9f",
   "metadata": {},
   "source": [
    "##### Model 1: Feature extraction transfer learning on 1% of data with data augmentatiom\n"
   ]
  },
  {
   "cell_type": "code",
   "execution_count": 68,
   "id": "26da30cd",
   "metadata": {},
   "outputs": [
    {
     "name": "stdout",
     "output_type": "stream",
     "text": [
      "WARNING:tensorflow:Model was constructed with shape (512, 512, 3) for input KerasTensor(type_spec=TensorSpec(shape=(512, 512, 3), dtype=tf.uint8, name='random_flip_1_input'), name='random_flip_1_input', description=\"created by layer 'random_flip_1_input'\"), but it was called on an input with incompatible shape (None, 224, 224, 3).\n",
      "(None, 224, 224, 3)\n",
      "Saving TensorBoard log files to: transfer_learning/1_percent_data_aug/20230315-071119\n",
      "WARNING:tensorflow:Model failed to serialize as JSON. Ignoring... Unable to serialize [2.0896919 2.1128857 2.1081853] to JSON. Unrecognized type <class 'tensorflow.python.framework.ops.EagerTensor'>.\n",
      "Epoch 1/5\n",
      "WARNING:tensorflow:Model was constructed with shape (512, 512, 3) for input KerasTensor(type_spec=TensorSpec(shape=(512, 512, 3), dtype=tf.uint8, name='random_flip_1_input'), name='random_flip_1_input', description=\"created by layer 'random_flip_1_input'\"), but it was called on an input with incompatible shape (None, 224, 224, 3).\n",
      "WARNING:tensorflow:Using a while_loop for converting RngReadAndSkip cause there is no registered converter for this op.\n",
      "WARNING:tensorflow:Using a while_loop for converting Bitcast cause there is no registered converter for this op.\n",
      "WARNING:tensorflow:Using a while_loop for converting Bitcast cause there is no registered converter for this op.\n",
      "WARNING:tensorflow:Using a while_loop for converting StatelessRandomUniformV2 cause there is no registered converter for this op.\n",
      "WARNING:tensorflow:Using a while_loop for converting ImageProjectiveTransformV3 cause there is no registered converter for this op.\n",
      "WARNING:tensorflow:Using a while_loop for converting RngReadAndSkip cause there is no registered converter for this op.\n",
      "WARNING:tensorflow:Using a while_loop for converting Bitcast cause there is no registered converter for this op.\n",
      "WARNING:tensorflow:Using a while_loop for converting Bitcast cause there is no registered converter for this op.\n",
      "WARNING:tensorflow:Using a while_loop for converting StatelessRandomUniformV2 cause there is no registered converter for this op.\n",
      "WARNING:tensorflow:Using a while_loop for converting ImageProjectiveTransformV3 cause there is no registered converter for this op.\n",
      "WARNING:tensorflow:Model was constructed with shape (512, 512, 3) for input KerasTensor(type_spec=TensorSpec(shape=(512, 512, 3), dtype=tf.uint8, name='random_flip_1_input'), name='random_flip_1_input', description=\"created by layer 'random_flip_1_input'\"), but it was called on an input with incompatible shape (None, 224, 224, 3).\n",
      "WARNING:tensorflow:Using a while_loop for converting RngReadAndSkip cause there is no registered converter for this op.\n",
      "WARNING:tensorflow:Using a while_loop for converting Bitcast cause there is no registered converter for this op.\n",
      "WARNING:tensorflow:Using a while_loop for converting Bitcast cause there is no registered converter for this op.\n",
      "WARNING:tensorflow:Using a while_loop for converting StatelessRandomUniformV2 cause there is no registered converter for this op.\n",
      "WARNING:tensorflow:Using a while_loop for converting ImageProjectiveTransformV3 cause there is no registered converter for this op.\n",
      "WARNING:tensorflow:Using a while_loop for converting RngReadAndSkip cause there is no registered converter for this op.\n",
      "WARNING:tensorflow:Using a while_loop for converting Bitcast cause there is no registered converter for this op.\n",
      "WARNING:tensorflow:Using a while_loop for converting Bitcast cause there is no registered converter for this op.\n",
      "WARNING:tensorflow:Using a while_loop for converting StatelessRandomUniformV2 cause there is no registered converter for this op.\n",
      "WARNING:tensorflow:Using a while_loop for converting ImageProjectiveTransformV3 cause there is no registered converter for this op.\n",
      "2/3 [===================>..........] - ETA: 0s - loss: 2.3850 - accuracy: 0.1250 WARNING:tensorflow:Model was constructed with shape (512, 512, 3) for input KerasTensor(type_spec=TensorSpec(shape=(512, 512, 3), dtype=tf.uint8, name='random_flip_1_input'), name='random_flip_1_input', description=\"created by layer 'random_flip_1_input'\"), but it was called on an input with incompatible shape (None, 224, 224, 3).\n",
      "3/3 [==============================] - 8s 1s/step - loss: 2.3868 - accuracy: 0.1286 - val_loss: 2.2402 - val_accuracy: 0.1628\n",
      "Epoch 2/5\n",
      "3/3 [==============================] - 1s 624ms/step - loss: 2.1342 - accuracy: 0.2286 - val_loss: 2.1155 - val_accuracy: 0.2582\n",
      "Epoch 3/5\n",
      "3/3 [==============================] - 2s 765ms/step - loss: 1.9421 - accuracy: 0.4000 - val_loss: 2.0007 - val_accuracy: 0.3470\n",
      "Epoch 4/5\n",
      "3/3 [==============================] - 1s 633ms/step - loss: 1.8050 - accuracy: 0.5000 - val_loss: 1.8945 - val_accuracy: 0.4128\n",
      "Epoch 5/5\n",
      "3/3 [==============================] - 1s 640ms/step - loss: 1.6186 - accuracy: 0.5857 - val_loss: 1.7815 - val_accuracy: 0.5000\n"
     ]
    }
   ],
   "source": [
    "#setup input shape and basemodel,freezing the basemodel layers\n",
    "input_shape=(224,224,3)\n",
    "base_model=tf.keras.applications.EfficientNetB0(include_top=False)\n",
    "base_model.trainable=False\n",
    "\n",
    "#Create input layer\n",
    "inputs=layers.Input(shape=input_shape,name=\"input_layer\")\n",
    "\n",
    "\n",
    "#Add in data augmentation Sequential model as a layer\n",
    "x=data_augmentation(inputs)\n",
    "print(x.shape)\n",
    "\n",
    "#Give base_model the inputs (after augmentation) and don't train it\n",
    "x=base_model(x,training=False)\n",
    "\n",
    "\n",
    "#pool output features of the base model\n",
    "x=layers.GlobalAveragePooling2D(name=\"global_average_pooling_layer\")(x)\n",
    "\n",
    "#put a dense layer on as the output\n",
    "output=layers.Dense(10,activation=\"softmax\",name=\"output_layer\")(x)\n",
    "\n",
    "\n",
    "#Make a model using the inputs and outputs\n",
    "model_1=keras.Model(inputs,output)\n",
    "\n",
    "\n",
    "#Compile the model\n",
    "model_1.compile(loss=\"categorical_crossentropy\",\n",
    "               optimizer=tf.keras.optimizers.Adam(),\n",
    "               metrics=[\"accuracy\"])\n",
    "\n",
    "\n",
    "#Fit the model\n",
    "history_1_percent=model_1.fit(train_data_1_percent,\n",
    "                             epochs=5,\n",
    "                             steps_per_epoch=len(train_data_1_percent),\n",
    "                             validation_data=test_data,\n",
    "                             validation_steps=int(0.25*len(test_data)),\n",
    "                              #track model training logs\n",
    "                              callbacks=[create_tensorboard_callback(dir_name=\"transfer_learning\",\n",
    "                                                                    experiment_name=\"1_percent_data_aug\")]\n",
    "                             )"
   ]
  },
  {
   "cell_type": "code",
   "execution_count": 69,
   "id": "2d90cfdf",
   "metadata": {},
   "outputs": [
    {
     "name": "stdout",
     "output_type": "stream",
     "text": [
      "Model: \"model_2\"\n",
      "_________________________________________________________________\n",
      " Layer (type)                Output Shape              Param #   \n",
      "=================================================================\n",
      " input_layer (InputLayer)    [(None, 224, 224, 3)]     0         \n",
      "                                                                 \n",
      " data_augmentation (Sequenti  (None, None, 3)          0         \n",
      " al)                                                             \n",
      "                                                                 \n",
      " efficientnetb0 (Functional)  (None, None, None, 1280)  4049571  \n",
      "                                                                 \n",
      " global_average_pooling_laye  (None, 1280)             0         \n",
      " r (GlobalAveragePooling2D)                                      \n",
      "                                                                 \n",
      " output_layer (Dense)        (None, 10)                12810     \n",
      "                                                                 \n",
      "=================================================================\n",
      "Total params: 4,062,381\n",
      "Trainable params: 12,810\n",
      "Non-trainable params: 4,049,571\n",
      "_________________________________________________________________\n"
     ]
    }
   ],
   "source": [
    "#check out a model summary\n",
    "model_1.summary()"
   ]
  },
  {
   "cell_type": "code",
   "execution_count": 70,
   "id": "69c7450d",
   "metadata": {},
   "outputs": [
    {
     "name": "stdout",
     "output_type": "stream",
     "text": [
      "79/79 [==============================] - 4s 51ms/step - loss: 1.7768 - accuracy: 0.5024\n"
     ]
    },
    {
     "data": {
      "text/plain": [
       "[1.7767568826675415, 0.5023999810218811]"
      ]
     },
     "execution_count": 70,
     "metadata": {},
     "output_type": "execute_result"
    }
   ],
   "source": [
    "#Evaluate on full dataset\n",
    "result_1_percent_data_aug=model_1.evaluate(test_data)\n",
    "result_1_percent_data_aug"
   ]
  },
  {
   "cell_type": "code",
   "execution_count": 71,
   "id": "bc46a6ce",
   "metadata": {},
   "outputs": [
    {
     "data": {
      "image/png": "[encoded data removed]",
      "text/plain": [
       "<Figure size 432x288 with 1 Axes>"
      ]
     },
     "metadata": {
      "needs_background": "light"
     },
     "output_type": "display_data"
    },
    {
     "data": {
      "image/png": "[encoded data removed]",
      "text/plain": [
       "<Figure size 432x288 with 1 Axes>"
      ]
     },
     "metadata": {
      "needs_background": "light"
     },
     "output_type": "display_data"
    }
   ],
   "source": [
    "#How do the model with 1% of the and data augmentation loss curves look?\n",
    "plot_loss_curves(history_1_percent)"
   ]
  },
  {
   "cell_type": "markdown",
   "id": "fa2850c3",
   "metadata": {},
   "source": [
    "#### Model_2: Feature extraction Transfer Learning on 10% of data with data augmentation"
   ]
  },
  {
   "cell_type": "code",
   "execution_count": 72,
   "id": "b22d20a6",
   "metadata": {},
   "outputs": [],
   "source": [
    "#Create train and test directories\n",
    "train_dir_10=\"10_food_classes_10_percent/train\"\n",
    "test_dir_10=\"10_food_classes_10_percent/test\""
   ]
  },
  {
   "cell_type": "code",
   "execution_count": 73,
   "id": "f7aa7345",
   "metadata": {},
   "outputs": [
    {
     "name": "stdout",
     "output_type": "stream",
     "text": [
      "There are 2 directories and 0 images in '10_food_classes_10_percent/'.\n",
      "There are 10 directories and 0 images in '10_food_classes_10_percent/test'.\n",
      "There are 0 directories and 250 images in '10_food_classes_10_percent/test\\chicken_curry'.\n",
      "There are 0 directories and 250 images in '10_food_classes_10_percent/test\\chicken_wings'.\n",
      "There are 0 directories and 250 images in '10_food_classes_10_percent/test\\fried_rice'.\n",
      "There are 0 directories and 250 images in '10_food_classes_10_percent/test\\grilled_salmon'.\n",
      "There are 0 directories and 250 images in '10_food_classes_10_percent/test\\hamburger'.\n",
      "There are 0 directories and 250 images in '10_food_classes_10_percent/test\\ice_cream'.\n",
      "There are 0 directories and 250 images in '10_food_classes_10_percent/test\\pizza'.\n",
      "There are 0 directories and 250 images in '10_food_classes_10_percent/test\\ramen'.\n",
      "There are 0 directories and 250 images in '10_food_classes_10_percent/test\\steak'.\n",
      "There are 0 directories and 250 images in '10_food_classes_10_percent/test\\sushi'.\n",
      "There are 10 directories and 0 images in '10_food_classes_10_percent/train'.\n",
      "There are 0 directories and 75 images in '10_food_classes_10_percent/train\\chicken_curry'.\n",
      "There are 0 directories and 75 images in '10_food_classes_10_percent/train\\chicken_wings'.\n",
      "There are 0 directories and 75 images in '10_food_classes_10_percent/train\\fried_rice'.\n",
      "There are 0 directories and 75 images in '10_food_classes_10_percent/train\\grilled_salmon'.\n",
      "There are 0 directories and 75 images in '10_food_classes_10_percent/train\\hamburger'.\n",
      "There are 0 directories and 75 images in '10_food_classes_10_percent/train\\ice_cream'.\n",
      "There are 0 directories and 75 images in '10_food_classes_10_percent/train\\pizza'.\n",
      "There are 0 directories and 75 images in '10_food_classes_10_percent/train\\ramen'.\n",
      "There are 0 directories and 75 images in '10_food_classes_10_percent/train\\steak'.\n",
      "There are 0 directories and 75 images in '10_food_classes_10_percent/train\\sushi'.\n"
     ]
    }
   ],
   "source": [
    "#How many images are we working with?\n",
    "walk_through_dir(\"10_food_classes_10_percent/\")"
   ]
  },
  {
   "cell_type": "code",
   "execution_count": 74,
   "id": "5093fffc",
   "metadata": {},
   "outputs": [
    {
     "name": "stdout",
     "output_type": "stream",
     "text": [
      "Found 750 files belonging to 10 classes.\n",
      "Found 2500 files belonging to 10 classes.\n"
     ]
    }
   ],
   "source": [
    "#setup the data loaders\n",
    "IMG_SIZE=(224,224)\n",
    "BATCH_SIZE=32\n",
    "train_data_10_percent=tf.keras.preprocessing.image_dataset_from_directory(train_dir_10,\n",
    "                                                                      image_size=IMG_SIZE,\n",
    "                                                                      batch_size=BATCH_SIZE,\n",
    "                                                                      label_mode=\"categorical\")\n",
    "\n",
    "test_data=tf.keras.preprocessing.image_dataset_from_directory(test_dir_10,\n",
    "                                                          image_size=IMG_SIZE,\n",
    "                                                          batch_size=BATCH_SIZE,\n",
    "                                                          label_mode=\"categorical\")"
   ]
  },
  {
   "cell_type": "code",
   "execution_count": 75,
   "id": "3a8c1cd2",
   "metadata": {},
   "outputs": [
    {
     "name": "stdout",
     "output_type": "stream",
     "text": [
      "WARNING:tensorflow:Model was constructed with shape (512, 512, 3) for input KerasTensor(type_spec=TensorSpec(shape=(512, 512, 3), dtype=tf.uint8, name='random_flip_1_input'), name='random_flip_1_input', description=\"created by layer 'random_flip_1_input'\"), but it was called on an input with incompatible shape (None, 224, 224, 3).\n"
     ]
    }
   ],
   "source": [
    "#setup input shape,base model and freezing the basemodel layers\n",
    "input_shape=(224,224,3)\n",
    "base_model=tf.keras.applications.EfficientNetB0(include_top=False)\n",
    "base_model.trainable=False\n",
    "\n",
    "#create the input layer\n",
    "inputs=layers.Input(shape=input_shape,name=\"Input_layer\")\n",
    "\n",
    "#Add in a data augmentation sequential model as a layer\n",
    "x=data_augmentation(inputs)\n",
    "\n",
    "#Give base model the inputs(after augmentation) and don't train it\n",
    "x=base_model(x,training=False)\n",
    "\n",
    "\n",
    "#pool output features of the base model\n",
    "x=layers.GlobalAveragePooling2D(name=\"global_average_pooling_layer\")(x)\n",
    "\n",
    "#put a dense layer on as the output\n",
    "output=layers.Dense(10,activation=\"softmax\",name=\"output_layer\")(x)\n",
    "\n",
    "#make a model using input's and outputs\n",
    "model_2=keras.Model(inputs,output)\n",
    "\n",
    "\n",
    "#compile the model\n",
    "model_2.compile(loss=\"categorical_crossentropy\",\n",
    "               optimizer=tf.keras.optimizers.Adam(),\n",
    "               metrics=[\"accuracy\"])\n",
    "\n"
   ]
  },
  {
   "cell_type": "markdown",
   "id": "60e7220a",
   "metadata": {},
   "source": [
    "##### creating a ModelCheckpoint callback\n",
    "\n",
    "\n",
    "the modelcheckpoint callback intermediately saves our model (the full model or just the weights) during Training. This is useful so we can come and start where we left off"
   ]
  },
  {
   "cell_type": "code",
   "execution_count": 76,
   "id": "0d878a0e",
   "metadata": {},
   "outputs": [],
   "source": [
    "#set checkpoint path\n",
    "checkpoint_path=\"ten_percent_model_checkpoints_weights/checkpoint.ckpt\"\n",
    "\n",
    "\n",
    "#Create a ModelCheckpoint callback that saves the model's weights only\n",
    "checkpoint_callback=tf.keras.callbacks.ModelCheckpoint(filepath=checkpoint_path,\n",
    "                                                      save_weights_only=True,\n",
    "                                                      save_best_only=False,\n",
    "                                                      save_freq=\"epoch\", #save every epoch\n",
    "                                                      verbose=1)"
   ]
  },
  {
   "cell_type": "code",
   "execution_count": 77,
   "id": "53c98b49",
   "metadata": {},
   "outputs": [
    {
     "name": "stdout",
     "output_type": "stream",
     "text": [
      "Saving TensorBoard log files to: transfer_learning/10_percent_data_aug/20230315-071201\n",
      "WARNING:tensorflow:Model failed to serialize as JSON. Ignoring... Unable to serialize [2.0896919 2.1128857 2.1081853] to JSON. Unrecognized type <class 'tensorflow.python.framework.ops.EagerTensor'>.\n",
      "Epoch 1/5\n",
      "WARNING:tensorflow:Model was constructed with shape (512, 512, 3) for input KerasTensor(type_spec=TensorSpec(shape=(512, 512, 3), dtype=tf.uint8, name='random_flip_1_input'), name='random_flip_1_input', description=\"created by layer 'random_flip_1_input'\"), but it was called on an input with incompatible shape (None, 224, 224, 3).\n",
      "WARNING:tensorflow:Using a while_loop for converting RngReadAndSkip cause there is no registered converter for this op.\n",
      "WARNING:tensorflow:Using a while_loop for converting Bitcast cause there is no registered converter for this op.\n",
      "WARNING:tensorflow:Using a while_loop for converting Bitcast cause there is no registered converter for this op.\n",
      "WARNING:tensorflow:Using a while_loop for converting StatelessRandomUniformV2 cause there is no registered converter for this op.\n",
      "WARNING:tensorflow:Using a while_loop for converting ImageProjectiveTransformV3 cause there is no registered converter for this op.\n",
      "WARNING:tensorflow:Using a while_loop for converting RngReadAndSkip cause there is no registered converter for this op.\n",
      "WARNING:tensorflow:Using a while_loop for converting Bitcast cause there is no registered converter for this op.\n",
      "WARNING:tensorflow:Using a while_loop for converting Bitcast cause there is no registered converter for this op.\n",
      "WARNING:tensorflow:Using a while_loop for converting StatelessRandomUniformV2 cause there is no registered converter for this op.\n",
      "WARNING:tensorflow:Using a while_loop for converting ImageProjectiveTransformV3 cause there is no registered converter for this op.\n",
      "WARNING:tensorflow:Model was constructed with shape (512, 512, 3) for input KerasTensor(type_spec=TensorSpec(shape=(512, 512, 3), dtype=tf.uint8, name='random_flip_1_input'), name='random_flip_1_input', description=\"created by layer 'random_flip_1_input'\"), but it was called on an input with incompatible shape (None, 224, 224, 3).\n",
      "WARNING:tensorflow:Using a while_loop for converting RngReadAndSkip cause there is no registered converter for this op.\n",
      "WARNING:tensorflow:Using a while_loop for converting Bitcast cause there is no registered converter for this op.\n",
      "WARNING:tensorflow:Using a while_loop for converting Bitcast cause there is no registered converter for this op.\n",
      "WARNING:tensorflow:Using a while_loop for converting StatelessRandomUniformV2 cause there is no registered converter for this op.\n",
      "WARNING:tensorflow:Using a while_loop for converting ImageProjectiveTransformV3 cause there is no registered converter for this op.\n",
      "WARNING:tensorflow:Using a while_loop for converting RngReadAndSkip cause there is no registered converter for this op.\n",
      "WARNING:tensorflow:Using a while_loop for converting Bitcast cause there is no registered converter for this op.\n",
      "WARNING:tensorflow:Using a while_loop for converting Bitcast cause there is no registered converter for this op.\n",
      "WARNING:tensorflow:Using a while_loop for converting StatelessRandomUniformV2 cause there is no registered converter for this op.\n",
      "WARNING:tensorflow:Using a while_loop for converting ImageProjectiveTransformV3 cause there is no registered converter for this op.\n",
      "24/24 [==============================] - ETA: 0s - loss: 2.0157 - accuracy: 0.3480WARNING:tensorflow:Model was constructed with shape (512, 512, 3) for input KerasTensor(type_spec=TensorSpec(shape=(512, 512, 3), dtype=tf.uint8, name='random_flip_1_input'), name='random_flip_1_input', description=\"created by layer 'random_flip_1_input'\"), but it was called on an input with incompatible shape (None, 224, 224, 3).\n",
      "\n",
      "Epoch 1: saving model to ten_percent_model_checkpoints_weights\\checkpoint.ckpt\n",
      "24/24 [==============================] - 12s 273ms/step - loss: 2.0157 - accuracy: 0.3480 - val_loss: 1.4542 - val_accuracy: 0.6579\n",
      "Epoch 2/5\n",
      "24/24 [==============================] - ETA: 0s - loss: 1.3358 - accuracy: 0.6653\n",
      "Epoch 2: saving model to ten_percent_model_checkpoints_weights\\checkpoint.ckpt\n",
      "24/24 [==============================] - 6s 229ms/step - loss: 1.3358 - accuracy: 0.6653 - val_loss: 0.9967 - val_accuracy: 0.7763\n",
      "Epoch 3/5\n",
      "24/24 [==============================] - ETA: 0s - loss: 0.9986 - accuracy: 0.7747\n",
      "Epoch 3: saving model to ten_percent_model_checkpoints_weights\\checkpoint.ckpt\n",
      "24/24 [==============================] - 5s 226ms/step - loss: 0.9986 - accuracy: 0.7747 - val_loss: 0.7863 - val_accuracy: 0.8092\n",
      "Epoch 4/5\n",
      "24/24 [==============================] - ETA: 0s - loss: 0.8510 - accuracy: 0.7947\n",
      "Epoch 4: saving model to ten_percent_model_checkpoints_weights\\checkpoint.ckpt\n",
      "24/24 [==============================] - 6s 232ms/step - loss: 0.8510 - accuracy: 0.7947 - val_loss: 0.6921 - val_accuracy: 0.8273\n",
      "Epoch 5/5\n",
      "24/24 [==============================] - ETA: 0s - loss: 0.7363 - accuracy: 0.8160\n",
      "Epoch 5: saving model to ten_percent_model_checkpoints_weights\\checkpoint.ckpt\n",
      "24/24 [==============================] - 5s 226ms/step - loss: 0.7363 - accuracy: 0.8160 - val_loss: 0.6400 - val_accuracy: 0.8322\n"
     ]
    }
   ],
   "source": [
    "#Fit the model\n",
    "history_10_model_2=model_2.fit(train_data_10_percent,\n",
    "                              epochs=5,\n",
    "                              steps_per_epoch=len(train_data_10_percent),\n",
    "                              validation_data=test_data,\n",
    "                              validation_steps=int(0.25*len(test_data)),\n",
    "                              callbacks=[create_tensorboard_callback(dir_name=\"transfer_learning\",\n",
    "                                                                experiment_name=\"10_percent_data_aug\"),checkpoint_callback])\n"
   ]
  },
  {
   "cell_type": "code",
   "execution_count": 78,
   "id": "2621efae",
   "metadata": {},
   "outputs": [
    {
     "name": "stdout",
     "output_type": "stream",
     "text": [
      "79/79 [==============================] - 5s 50ms/step - loss: 0.5465 - accuracy: 0.8592\n"
     ]
    },
    {
     "data": {
      "text/plain": [
       "[0.5465488433837891, 0.8592000007629395]"
      ]
     },
     "execution_count": 78,
     "metadata": {},
     "output_type": "execute_result"
    }
   ],
   "source": [
    "#what were model_0 results\n",
    "model_0.evaluate(test_data)"
   ]
  },
  {
   "cell_type": "code",
   "execution_count": 79,
   "id": "beba173a",
   "metadata": {},
   "outputs": [
    {
     "name": "stdout",
     "output_type": "stream",
     "text": [
      "79/79 [==============================] - 4s 51ms/step - loss: 0.6287 - accuracy: 0.8444\n"
     ]
    },
    {
     "data": {
      "text/plain": [
       "[0.6287195086479187, 0.8443999886512756]"
      ]
     },
     "execution_count": 79,
     "metadata": {},
     "output_type": "execute_result"
    }
   ],
   "source": [
    "#check model_2 results on all test data\n",
    "\n",
    "results_10_percent_data_aug=model_2.evaluate(test_data)\n",
    "results_10_percent_data_aug"
   ]
  },
  {
   "cell_type": "code",
   "execution_count": 80,
   "id": "e6355b04",
   "metadata": {},
   "outputs": [
    {
     "data": {
      "image/png": "[encoded data removed]",
      "text/plain": [
       "<Figure size 432x288 with 1 Axes>"
      ]
     },
     "metadata": {
      "needs_background": "light"
     },
     "output_type": "display_data"
    },
    {
     "data": {
      "image/png": "[encoded data removed]",
      "text/plain": [
       "<Figure size 432x288 with 1 Axes>"
      ]
     },
     "metadata": {
      "needs_background": "light"
     },
     "output_type": "display_data"
    }
   ],
   "source": [
    "#plot model loss curves\n",
    "plot_loss_curves(history_10_model_2)"
   ]
  },
  {
   "cell_type": "markdown",
   "id": "929a0bb9",
   "metadata": {},
   "source": [
    "#### Loading in checkpointed weights\n",
    "\n",
    "Loading in checkpointed weights returns a model to a specific checkpoint"
   ]
  },
  {
   "cell_type": "code",
   "execution_count": 81,
   "id": "77c2e8a6",
   "metadata": {},
   "outputs": [
    {
     "data": {
      "text/plain": [
       "<tensorflow.python.checkpoint.checkpoint.CheckpointLoadStatus at 0x1eb97ef70a0>"
      ]
     },
     "execution_count": 81,
     "metadata": {},
     "output_type": "execute_result"
    }
   ],
   "source": [
    "#Load in saved model weights and evaluate model\n",
    "\n",
    "model_2.load_weights(checkpoint_path)"
   ]
  },
  {
   "cell_type": "code",
   "execution_count": 82,
   "id": "3e1b9dda",
   "metadata": {},
   "outputs": [
    {
     "name": "stdout",
     "output_type": "stream",
     "text": [
      "79/79 [==============================] - 4s 49ms/step - loss: 0.6287 - accuracy: 0.8444\n"
     ]
    }
   ],
   "source": [
    "#Evaluate model_2 with loaded weights\n",
    "loaded_weights_model_results=model_2.evaluate(test_data)"
   ]
  },
  {
   "cell_type": "markdown",
   "id": "3f76f32f",
   "metadata": {},
   "source": [
    "if the results from our previously evaluated model_2 match the loaded weights, everything has worked!"
   ]
  },
  {
   "cell_type": "code",
   "execution_count": 83,
   "id": "138c31f6",
   "metadata": {},
   "outputs": [
    {
     "data": {
      "text/plain": [
       "False"
      ]
     },
     "execution_count": 83,
     "metadata": {},
     "output_type": "execute_result"
    }
   ],
   "source": [
    "results_10_percent_data_aug==loaded_weights_model_results"
   ]
  },
  {
   "cell_type": "code",
   "execution_count": 84,
   "id": "32df3ae7",
   "metadata": {},
   "outputs": [
    {
     "data": {
      "text/plain": [
       "array([ True,  True])"
      ]
     },
     "execution_count": 84,
     "metadata": {},
     "output_type": "execute_result"
    }
   ],
   "source": [
    "#Check to see if loaded model results are very close to our previous non-loaded model results\n",
    "import numpy as np\n",
    "np.isclose(np.array(results_10_percent_data_aug),np.array(loaded_weights_model_results))"
   ]
  },
  {
   "cell_type": "code",
   "execution_count": 85,
   "id": "d735a105",
   "metadata": {},
   "outputs": [
    {
     "name": "stdout",
     "output_type": "stream",
     "text": [
      "[5.36441803e-07 0.00000000e+00]\n"
     ]
    }
   ],
   "source": [
    "#Check the difference between the two results\n",
    "print(np.array(results_10_percent_data_aug)-np.array(loaded_weights_model_results))"
   ]
  },
  {
   "cell_type": "markdown",
   "id": "ab9328a8",
   "metadata": {},
   "source": [
    "* lower layers learns larger features and higher layers learn fine grain like(smaller) featurs"
   ]
  },
  {
   "cell_type": "markdown",
   "id": "955b3c06",
   "metadata": {},
   "source": [
    "#### Model 3: Fine-tuning an exisiting model on 10% of the data\n",
    "\n",
    "**Note:** Fine-tuning usually works best *after* training a feature extraction model for a few epochs with large amounts of custom data."
   ]
  },
  {
   "cell_type": "code",
   "execution_count": 86,
   "id": "74885280",
   "metadata": {},
   "outputs": [
    {
     "data": {
      "text/plain": [
       "[<keras.engine.input_layer.InputLayer at 0x1eb9936c520>,\n",
       " <keras.engine.sequential.Sequential at 0x1eb856f6a60>,\n",
       " <keras.engine.functional.Functional at 0x1eba3f5b3d0>,\n",
       " <keras.layers.pooling.global_average_pooling2d.GlobalAveragePooling2D at 0x1eba3f2f640>,\n",
       " <keras.layers.core.dense.Dense at 0x1eba3f02160>]"
      ]
     },
     "execution_count": 86,
     "metadata": {},
     "output_type": "execute_result"
    }
   ],
   "source": [
    "#Layers in Loaded model\n",
    "model_2.layers"
   ]
  },
  {
   "cell_type": "code",
   "execution_count": 87,
   "id": "aa69879c",
   "metadata": {},
   "outputs": [
    {
     "name": "stdout",
     "output_type": "stream",
     "text": [
      "<keras.engine.input_layer.InputLayer object at 0x000001EB9936C520> True\n",
      "<keras.engine.sequential.Sequential object at 0x000001EB856F6A60> True\n",
      "<keras.engine.functional.Functional object at 0x000001EBA3F5B3D0> False\n",
      "<keras.layers.pooling.global_average_pooling2d.GlobalAveragePooling2D object at 0x000001EBA3F2F640> True\n",
      "<keras.layers.core.dense.Dense object at 0x000001EBA3F02160> True\n"
     ]
    }
   ],
   "source": [
    "#Are these layers trainable\n",
    "for layer in model_2.layers:\n",
    "    print(layer,layer.trainable)"
   ]
  },
  {
   "cell_type": "code",
   "execution_count": 88,
   "id": "d9d22be7",
   "metadata": {},
   "outputs": [
    {
     "name": "stdout",
     "output_type": "stream",
     "text": [
      "0 input_5 False\n",
      "1 rescaling_8 False\n",
      "2 normalization_4 False\n",
      "3 rescaling_9 False\n",
      "4 stem_conv_pad False\n",
      "5 stem_conv False\n",
      "6 stem_bn False\n",
      "7 stem_activation False\n",
      "8 block1a_dwconv False\n",
      "9 block1a_bn False\n",
      "10 block1a_activation False\n",
      "11 block1a_se_squeeze False\n",
      "12 block1a_se_reshape False\n",
      "13 block1a_se_reduce False\n",
      "14 block1a_se_expand False\n",
      "15 block1a_se_excite False\n",
      "16 block1a_project_conv False\n",
      "17 block1a_project_bn False\n",
      "18 block2a_expand_conv False\n",
      "19 block2a_expand_bn False\n",
      "20 block2a_expand_activation False\n",
      "21 block2a_dwconv_pad False\n",
      "22 block2a_dwconv False\n",
      "23 block2a_bn False\n",
      "24 block2a_activation False\n",
      "25 block2a_se_squeeze False\n",
      "26 block2a_se_reshape False\n",
      "27 block2a_se_reduce False\n",
      "28 block2a_se_expand False\n",
      "29 block2a_se_excite False\n",
      "30 block2a_project_conv False\n",
      "31 block2a_project_bn False\n",
      "32 block2b_expand_conv False\n",
      "33 block2b_expand_bn False\n",
      "34 block2b_expand_activation False\n",
      "35 block2b_dwconv False\n",
      "36 block2b_bn False\n",
      "37 block2b_activation False\n",
      "38 block2b_se_squeeze False\n",
      "39 block2b_se_reshape False\n",
      "40 block2b_se_reduce False\n",
      "41 block2b_se_expand False\n",
      "42 block2b_se_excite False\n",
      "43 block2b_project_conv False\n",
      "44 block2b_project_bn False\n",
      "45 block2b_drop False\n",
      "46 block2b_add False\n",
      "47 block3a_expand_conv False\n",
      "48 block3a_expand_bn False\n",
      "49 block3a_expand_activation False\n",
      "50 block3a_dwconv_pad False\n",
      "51 block3a_dwconv False\n",
      "52 block3a_bn False\n",
      "53 block3a_activation False\n",
      "54 block3a_se_squeeze False\n",
      "55 block3a_se_reshape False\n",
      "56 block3a_se_reduce False\n",
      "57 block3a_se_expand False\n",
      "58 block3a_se_excite False\n",
      "59 block3a_project_conv False\n",
      "60 block3a_project_bn False\n",
      "61 block3b_expand_conv False\n",
      "62 block3b_expand_bn False\n",
      "63 block3b_expand_activation False\n",
      "64 block3b_dwconv False\n",
      "65 block3b_bn False\n",
      "66 block3b_activation False\n",
      "67 block3b_se_squeeze False\n",
      "68 block3b_se_reshape False\n",
      "69 block3b_se_reduce False\n",
      "70 block3b_se_expand False\n",
      "71 block3b_se_excite False\n",
      "72 block3b_project_conv False\n",
      "73 block3b_project_bn False\n",
      "74 block3b_drop False\n",
      "75 block3b_add False\n",
      "76 block4a_expand_conv False\n",
      "77 block4a_expand_bn False\n",
      "78 block4a_expand_activation False\n",
      "79 block4a_dwconv_pad False\n",
      "80 block4a_dwconv False\n",
      "81 block4a_bn False\n",
      "82 block4a_activation False\n",
      "83 block4a_se_squeeze False\n",
      "84 block4a_se_reshape False\n",
      "85 block4a_se_reduce False\n",
      "86 block4a_se_expand False\n",
      "87 block4a_se_excite False\n",
      "88 block4a_project_conv False\n",
      "89 block4a_project_bn False\n",
      "90 block4b_expand_conv False\n",
      "91 block4b_expand_bn False\n",
      "92 block4b_expand_activation False\n",
      "93 block4b_dwconv False\n",
      "94 block4b_bn False\n",
      "95 block4b_activation False\n",
      "96 block4b_se_squeeze False\n",
      "97 block4b_se_reshape False\n",
      "98 block4b_se_reduce False\n",
      "99 block4b_se_expand False\n",
      "100 block4b_se_excite False\n",
      "101 block4b_project_conv False\n",
      "102 block4b_project_bn False\n",
      "103 block4b_drop False\n",
      "104 block4b_add False\n",
      "105 block4c_expand_conv False\n",
      "106 block4c_expand_bn False\n",
      "107 block4c_expand_activation False\n",
      "108 block4c_dwconv False\n",
      "109 block4c_bn False\n",
      "110 block4c_activation False\n",
      "111 block4c_se_squeeze False\n",
      "112 block4c_se_reshape False\n",
      "113 block4c_se_reduce False\n",
      "114 block4c_se_expand False\n",
      "115 block4c_se_excite False\n",
      "116 block4c_project_conv False\n",
      "117 block4c_project_bn False\n",
      "118 block4c_drop False\n",
      "119 block4c_add False\n",
      "120 block5a_expand_conv False\n",
      "121 block5a_expand_bn False\n",
      "122 block5a_expand_activation False\n",
      "123 block5a_dwconv False\n",
      "124 block5a_bn False\n",
      "125 block5a_activation False\n",
      "126 block5a_se_squeeze False\n",
      "127 block5a_se_reshape False\n",
      "128 block5a_se_reduce False\n",
      "129 block5a_se_expand False\n",
      "130 block5a_se_excite False\n",
      "131 block5a_project_conv False\n",
      "132 block5a_project_bn False\n",
      "133 block5b_expand_conv False\n",
      "134 block5b_expand_bn False\n",
      "135 block5b_expand_activation False\n",
      "136 block5b_dwconv False\n",
      "137 block5b_bn False\n",
      "138 block5b_activation False\n",
      "139 block5b_se_squeeze False\n",
      "140 block5b_se_reshape False\n",
      "141 block5b_se_reduce False\n",
      "142 block5b_se_expand False\n",
      "143 block5b_se_excite False\n",
      "144 block5b_project_conv False\n",
      "145 block5b_project_bn False\n",
      "146 block5b_drop False\n",
      "147 block5b_add False\n",
      "148 block5c_expand_conv False\n",
      "149 block5c_expand_bn False\n",
      "150 block5c_expand_activation False\n",
      "151 block5c_dwconv False\n",
      "152 block5c_bn False\n",
      "153 block5c_activation False\n",
      "154 block5c_se_squeeze False\n",
      "155 block5c_se_reshape False\n",
      "156 block5c_se_reduce False\n",
      "157 block5c_se_expand False\n",
      "158 block5c_se_excite False\n",
      "159 block5c_project_conv False\n",
      "160 block5c_project_bn False\n",
      "161 block5c_drop False\n",
      "162 block5c_add False\n",
      "163 block6a_expand_conv False\n",
      "164 block6a_expand_bn False\n",
      "165 block6a_expand_activation False\n",
      "166 block6a_dwconv_pad False\n",
      "167 block6a_dwconv False\n",
      "168 block6a_bn False\n",
      "169 block6a_activation False\n",
      "170 block6a_se_squeeze False\n",
      "171 block6a_se_reshape False\n",
      "172 block6a_se_reduce False\n",
      "173 block6a_se_expand False\n",
      "174 block6a_se_excite False\n",
      "175 block6a_project_conv False\n",
      "176 block6a_project_bn False\n",
      "177 block6b_expand_conv False\n",
      "178 block6b_expand_bn False\n",
      "179 block6b_expand_activation False\n",
      "180 block6b_dwconv False\n",
      "181 block6b_bn False\n",
      "182 block6b_activation False\n",
      "183 block6b_se_squeeze False\n",
      "184 block6b_se_reshape False\n",
      "185 block6b_se_reduce False\n",
      "186 block6b_se_expand False\n",
      "187 block6b_se_excite False\n",
      "188 block6b_project_conv False\n",
      "189 block6b_project_bn False\n",
      "190 block6b_drop False\n",
      "191 block6b_add False\n",
      "192 block6c_expand_conv False\n",
      "193 block6c_expand_bn False\n",
      "194 block6c_expand_activation False\n",
      "195 block6c_dwconv False\n",
      "196 block6c_bn False\n",
      "197 block6c_activation False\n",
      "198 block6c_se_squeeze False\n",
      "199 block6c_se_reshape False\n",
      "200 block6c_se_reduce False\n",
      "201 block6c_se_expand False\n",
      "202 block6c_se_excite False\n",
      "203 block6c_project_conv False\n",
      "204 block6c_project_bn False\n",
      "205 block6c_drop False\n",
      "206 block6c_add False\n",
      "207 block6d_expand_conv False\n",
      "208 block6d_expand_bn False\n",
      "209 block6d_expand_activation False\n",
      "210 block6d_dwconv False\n",
      "211 block6d_bn False\n",
      "212 block6d_activation False\n",
      "213 block6d_se_squeeze False\n",
      "214 block6d_se_reshape False\n",
      "215 block6d_se_reduce False\n",
      "216 block6d_se_expand False\n",
      "217 block6d_se_excite False\n",
      "218 block6d_project_conv False\n",
      "219 block6d_project_bn False\n",
      "220 block6d_drop False\n",
      "221 block6d_add False\n",
      "222 block7a_expand_conv False\n",
      "223 block7a_expand_bn False\n",
      "224 block7a_expand_activation False\n",
      "225 block7a_dwconv False\n",
      "226 block7a_bn False\n",
      "227 block7a_activation False\n",
      "228 block7a_se_squeeze False\n",
      "229 block7a_se_reshape False\n",
      "230 block7a_se_reduce False\n",
      "231 block7a_se_expand False\n",
      "232 block7a_se_excite False\n",
      "233 block7a_project_conv False\n",
      "234 block7a_project_bn False\n",
      "235 top_conv False\n",
      "236 top_bn False\n",
      "237 top_activation False\n"
     ]
    }
   ],
   "source": [
    "for i,layer in enumerate(model_2.layers[2].layers):\n",
    "    print(i,layer.name,layer.trainable)"
   ]
  },
  {
   "cell_type": "code",
   "execution_count": 89,
   "id": "e96396c5",
   "metadata": {},
   "outputs": [
    {
     "name": "stdout",
     "output_type": "stream",
     "text": [
      "0\n"
     ]
    }
   ],
   "source": [
    "#How many trainable variables are in our base model?\n",
    "print(len(model_2.layers[2].trainable_variables))"
   ]
  },
  {
   "cell_type": "code",
   "execution_count": 90,
   "id": "c30357df",
   "metadata": {},
   "outputs": [
    {
     "name": "stderr",
     "output_type": "stream",
     "text": [
      "C:\\Users\\gowth\\anaconda3\\envs\\ML\\lib\\site-packages\\keras\\optimizers\\optimizer_v2\\adam.py:114: UserWarning: The `lr` argument is deprecated, use `learning_rate` instead.\n",
      "  super().__init__(name, **kwargs)\n"
     ]
    }
   ],
   "source": [
    "#To begin fine tuning , let's start by setting the last 10 layers of our base_model.trainable=True\n",
    "base_model.trainable=True\n",
    "\n",
    "\n",
    "#Freeze all layers except for the last 10\n",
    "for layer in base_model.layers[:-10]:\n",
    "    layer.trainable=False\n",
    "    \n",
    "#Recompile (we have to recompile our models every time we make a change)\n",
    "model_2.compile(loss=\"categorical_crossentropy\",\n",
    "               optimizer=tf.keras.optimizers.Adam(lr=0.0001), #when fine tuning you typically want to lower learning rate by 10x \n",
    "               metrics=[\"accuracy\"])\n",
    "\n",
    "\n",
    "\n"
   ]
  },
  {
   "cell_type": "markdown",
   "id": "22f49f04",
   "metadata": {},
   "source": [
    "**Note:** when using fine-tuning it's best practice to lower your learning rate by some amount, How much? This is a hyperparameter you can tune. But a good rule of thumb is at least 10X(through different sources will claim other values).\n",
    "\n",
    "\n",
    "A good resource for information on this is Ulmfit paper:https://arxiv.org/abs/1801.06146"
   ]
  },
  {
   "cell_type": "code",
   "execution_count": 91,
   "id": "f320aa47",
   "metadata": {},
   "outputs": [
    {
     "name": "stdout",
     "output_type": "stream",
     "text": [
      "0 input_5 False\n",
      "1 rescaling_8 False\n",
      "2 normalization_4 False\n",
      "3 rescaling_9 False\n",
      "4 stem_conv_pad False\n",
      "5 stem_conv False\n",
      "6 stem_bn False\n",
      "7 stem_activation False\n",
      "8 block1a_dwconv False\n",
      "9 block1a_bn False\n",
      "10 block1a_activation False\n",
      "11 block1a_se_squeeze False\n",
      "12 block1a_se_reshape False\n",
      "13 block1a_se_reduce False\n",
      "14 block1a_se_expand False\n",
      "15 block1a_se_excite False\n",
      "16 block1a_project_conv False\n",
      "17 block1a_project_bn False\n",
      "18 block2a_expand_conv False\n",
      "19 block2a_expand_bn False\n",
      "20 block2a_expand_activation False\n",
      "21 block2a_dwconv_pad False\n",
      "22 block2a_dwconv False\n",
      "23 block2a_bn False\n",
      "24 block2a_activation False\n",
      "25 block2a_se_squeeze False\n",
      "26 block2a_se_reshape False\n",
      "27 block2a_se_reduce False\n",
      "28 block2a_se_expand False\n",
      "29 block2a_se_excite False\n",
      "30 block2a_project_conv False\n",
      "31 block2a_project_bn False\n",
      "32 block2b_expand_conv False\n",
      "33 block2b_expand_bn False\n",
      "34 block2b_expand_activation False\n",
      "35 block2b_dwconv False\n",
      "36 block2b_bn False\n",
      "37 block2b_activation False\n",
      "38 block2b_se_squeeze False\n",
      "39 block2b_se_reshape False\n",
      "40 block2b_se_reduce False\n",
      "41 block2b_se_expand False\n",
      "42 block2b_se_excite False\n",
      "43 block2b_project_conv False\n",
      "44 block2b_project_bn False\n",
      "45 block2b_drop False\n",
      "46 block2b_add False\n",
      "47 block3a_expand_conv False\n",
      "48 block3a_expand_bn False\n",
      "49 block3a_expand_activation False\n",
      "50 block3a_dwconv_pad False\n",
      "51 block3a_dwconv False\n",
      "52 block3a_bn False\n",
      "53 block3a_activation False\n",
      "54 block3a_se_squeeze False\n",
      "55 block3a_se_reshape False\n",
      "56 block3a_se_reduce False\n",
      "57 block3a_se_expand False\n",
      "58 block3a_se_excite False\n",
      "59 block3a_project_conv False\n",
      "60 block3a_project_bn False\n",
      "61 block3b_expand_conv False\n",
      "62 block3b_expand_bn False\n",
      "63 block3b_expand_activation False\n",
      "64 block3b_dwconv False\n",
      "65 block3b_bn False\n",
      "66 block3b_activation False\n",
      "67 block3b_se_squeeze False\n",
      "68 block3b_se_reshape False\n",
      "69 block3b_se_reduce False\n",
      "70 block3b_se_expand False\n",
      "71 block3b_se_excite False\n",
      "72 block3b_project_conv False\n",
      "73 block3b_project_bn False\n",
      "74 block3b_drop False\n",
      "75 block3b_add False\n",
      "76 block4a_expand_conv False\n",
      "77 block4a_expand_bn False\n",
      "78 block4a_expand_activation False\n",
      "79 block4a_dwconv_pad False\n",
      "80 block4a_dwconv False\n",
      "81 block4a_bn False\n",
      "82 block4a_activation False\n",
      "83 block4a_se_squeeze False\n",
      "84 block4a_se_reshape False\n",
      "85 block4a_se_reduce False\n",
      "86 block4a_se_expand False\n",
      "87 block4a_se_excite False\n",
      "88 block4a_project_conv False\n",
      "89 block4a_project_bn False\n",
      "90 block4b_expand_conv False\n",
      "91 block4b_expand_bn False\n",
      "92 block4b_expand_activation False\n",
      "93 block4b_dwconv False\n",
      "94 block4b_bn False\n",
      "95 block4b_activation False\n",
      "96 block4b_se_squeeze False\n",
      "97 block4b_se_reshape False\n",
      "98 block4b_se_reduce False\n",
      "99 block4b_se_expand False\n",
      "100 block4b_se_excite False\n",
      "101 block4b_project_conv False\n",
      "102 block4b_project_bn False\n",
      "103 block4b_drop False\n",
      "104 block4b_add False\n",
      "105 block4c_expand_conv False\n",
      "106 block4c_expand_bn False\n",
      "107 block4c_expand_activation False\n",
      "108 block4c_dwconv False\n",
      "109 block4c_bn False\n",
      "110 block4c_activation False\n",
      "111 block4c_se_squeeze False\n",
      "112 block4c_se_reshape False\n",
      "113 block4c_se_reduce False\n",
      "114 block4c_se_expand False\n",
      "115 block4c_se_excite False\n",
      "116 block4c_project_conv False\n",
      "117 block4c_project_bn False\n",
      "118 block4c_drop False\n",
      "119 block4c_add False\n",
      "120 block5a_expand_conv False\n",
      "121 block5a_expand_bn False\n",
      "122 block5a_expand_activation False\n",
      "123 block5a_dwconv False\n",
      "124 block5a_bn False\n",
      "125 block5a_activation False\n",
      "126 block5a_se_squeeze False\n",
      "127 block5a_se_reshape False\n",
      "128 block5a_se_reduce False\n",
      "129 block5a_se_expand False\n",
      "130 block5a_se_excite False\n",
      "131 block5a_project_conv False\n",
      "132 block5a_project_bn False\n",
      "133 block5b_expand_conv False\n",
      "134 block5b_expand_bn False\n",
      "135 block5b_expand_activation False\n",
      "136 block5b_dwconv False\n",
      "137 block5b_bn False\n",
      "138 block5b_activation False\n",
      "139 block5b_se_squeeze False\n",
      "140 block5b_se_reshape False\n",
      "141 block5b_se_reduce False\n",
      "142 block5b_se_expand False\n",
      "143 block5b_se_excite False\n",
      "144 block5b_project_conv False\n",
      "145 block5b_project_bn False\n",
      "146 block5b_drop False\n",
      "147 block5b_add False\n",
      "148 block5c_expand_conv False\n",
      "149 block5c_expand_bn False\n",
      "150 block5c_expand_activation False\n",
      "151 block5c_dwconv False\n",
      "152 block5c_bn False\n",
      "153 block5c_activation False\n",
      "154 block5c_se_squeeze False\n",
      "155 block5c_se_reshape False\n",
      "156 block5c_se_reduce False\n",
      "157 block5c_se_expand False\n",
      "158 block5c_se_excite False\n",
      "159 block5c_project_conv False\n",
      "160 block5c_project_bn False\n",
      "161 block5c_drop False\n",
      "162 block5c_add False\n",
      "163 block6a_expand_conv False\n",
      "164 block6a_expand_bn False\n",
      "165 block6a_expand_activation False\n",
      "166 block6a_dwconv_pad False\n",
      "167 block6a_dwconv False\n",
      "168 block6a_bn False\n",
      "169 block6a_activation False\n",
      "170 block6a_se_squeeze False\n",
      "171 block6a_se_reshape False\n",
      "172 block6a_se_reduce False\n",
      "173 block6a_se_expand False\n",
      "174 block6a_se_excite False\n",
      "175 block6a_project_conv False\n",
      "176 block6a_project_bn False\n",
      "177 block6b_expand_conv False\n",
      "178 block6b_expand_bn False\n",
      "179 block6b_expand_activation False\n",
      "180 block6b_dwconv False\n",
      "181 block6b_bn False\n",
      "182 block6b_activation False\n",
      "183 block6b_se_squeeze False\n",
      "184 block6b_se_reshape False\n",
      "185 block6b_se_reduce False\n",
      "186 block6b_se_expand False\n",
      "187 block6b_se_excite False\n",
      "188 block6b_project_conv False\n",
      "189 block6b_project_bn False\n",
      "190 block6b_drop False\n",
      "191 block6b_add False\n",
      "192 block6c_expand_conv False\n",
      "193 block6c_expand_bn False\n",
      "194 block6c_expand_activation False\n",
      "195 block6c_dwconv False\n",
      "196 block6c_bn False\n",
      "197 block6c_activation False\n",
      "198 block6c_se_squeeze False\n",
      "199 block6c_se_reshape False\n",
      "200 block6c_se_reduce False\n",
      "201 block6c_se_expand False\n",
      "202 block6c_se_excite False\n",
      "203 block6c_project_conv False\n",
      "204 block6c_project_bn False\n",
      "205 block6c_drop False\n",
      "206 block6c_add False\n",
      "207 block6d_expand_conv False\n",
      "208 block6d_expand_bn False\n",
      "209 block6d_expand_activation False\n",
      "210 block6d_dwconv False\n",
      "211 block6d_bn False\n",
      "212 block6d_activation False\n",
      "213 block6d_se_squeeze False\n",
      "214 block6d_se_reshape False\n",
      "215 block6d_se_reduce False\n",
      "216 block6d_se_expand False\n",
      "217 block6d_se_excite False\n",
      "218 block6d_project_conv False\n",
      "219 block6d_project_bn False\n",
      "220 block6d_drop False\n",
      "221 block6d_add False\n",
      "222 block7a_expand_conv False\n",
      "223 block7a_expand_bn False\n",
      "224 block7a_expand_activation False\n",
      "225 block7a_dwconv False\n",
      "226 block7a_bn False\n",
      "227 block7a_activation False\n",
      "228 block7a_se_squeeze True\n",
      "229 block7a_se_reshape True\n",
      "230 block7a_se_reduce True\n",
      "231 block7a_se_expand True\n",
      "232 block7a_se_excite True\n",
      "233 block7a_project_conv True\n",
      "234 block7a_project_bn True\n",
      "235 top_conv True\n",
      "236 top_bn True\n",
      "237 top_activation True\n"
     ]
    }
   ],
   "source": [
    "#check which layers are tunable(trainable)\n",
    "for layer_number,layer in enumerate(model_2.layers[2].layers):\n",
    "    print(layer_number,layer.name,layer.trainable)"
   ]
  },
  {
   "cell_type": "code",
   "execution_count": 92,
   "id": "fc0ea39d",
   "metadata": {},
   "outputs": [
    {
     "name": "stdout",
     "output_type": "stream",
     "text": [
      "12\n"
     ]
    }
   ],
   "source": [
    "#Now we've unfrozen some of the layers closer to the top,how many trainable variables are there?\n",
    "print(len(model_2.trainable_variables))"
   ]
  },
  {
   "cell_type": "code",
   "execution_count": 93,
   "id": "1fe3d25e",
   "metadata": {},
   "outputs": [
    {
     "name": "stdout",
     "output_type": "stream",
     "text": [
      "Saving TensorBoard log files to: transfer_learning/10_percent_fine_tune_last_10/20230315-071404\n",
      "WARNING:tensorflow:Model failed to serialize as JSON. Ignoring... Unable to serialize [2.0896919 2.1128857 2.1081853] to JSON. Unrecognized type <class 'tensorflow.python.framework.ops.EagerTensor'>.\n",
      "Epoch 5/10\n",
      "WARNING:tensorflow:Model was constructed with shape (512, 512, 3) for input KerasTensor(type_spec=TensorSpec(shape=(512, 512, 3), dtype=tf.uint8, name='random_flip_1_input'), name='random_flip_1_input', description=\"created by layer 'random_flip_1_input'\"), but it was called on an input with incompatible shape (None, 224, 224, 3).\n",
      "WARNING:tensorflow:Using a while_loop for converting RngReadAndSkip cause there is no registered converter for this op.\n",
      "WARNING:tensorflow:Using a while_loop for converting Bitcast cause there is no registered converter for this op.\n",
      "WARNING:tensorflow:Using a while_loop for converting Bitcast cause there is no registered converter for this op.\n",
      "WARNING:tensorflow:Using a while_loop for converting StatelessRandomUniformV2 cause there is no registered converter for this op.\n",
      "WARNING:tensorflow:Using a while_loop for converting ImageProjectiveTransformV3 cause there is no registered converter for this op.\n",
      "WARNING:tensorflow:Using a while_loop for converting RngReadAndSkip cause there is no registered converter for this op.\n",
      "WARNING:tensorflow:Using a while_loop for converting Bitcast cause there is no registered converter for this op.\n",
      "WARNING:tensorflow:Using a while_loop for converting Bitcast cause there is no registered converter for this op.\n",
      "WARNING:tensorflow:Using a while_loop for converting StatelessRandomUniformV2 cause there is no registered converter for this op.\n",
      "WARNING:tensorflow:Using a while_loop for converting ImageProjectiveTransformV3 cause there is no registered converter for this op.\n",
      "WARNING:tensorflow:Model was constructed with shape (512, 512, 3) for input KerasTensor(type_spec=TensorSpec(shape=(512, 512, 3), dtype=tf.uint8, name='random_flip_1_input'), name='random_flip_1_input', description=\"created by layer 'random_flip_1_input'\"), but it was called on an input with incompatible shape (None, 224, 224, 3).\n",
      "WARNING:tensorflow:Using a while_loop for converting RngReadAndSkip cause there is no registered converter for this op.\n",
      "WARNING:tensorflow:Using a while_loop for converting Bitcast cause there is no registered converter for this op.\n",
      "WARNING:tensorflow:Using a while_loop for converting Bitcast cause there is no registered converter for this op.\n",
      "WARNING:tensorflow:Using a while_loop for converting StatelessRandomUniformV2 cause there is no registered converter for this op.\n",
      "WARNING:tensorflow:Using a while_loop for converting ImageProjectiveTransformV3 cause there is no registered converter for this op.\n",
      "WARNING:tensorflow:Using a while_loop for converting RngReadAndSkip cause there is no registered converter for this op.\n",
      "WARNING:tensorflow:Using a while_loop for converting Bitcast cause there is no registered converter for this op.\n",
      "WARNING:tensorflow:Using a while_loop for converting Bitcast cause there is no registered converter for this op.\n",
      "WARNING:tensorflow:Using a while_loop for converting StatelessRandomUniformV2 cause there is no registered converter for this op.\n",
      "WARNING:tensorflow:Using a while_loop for converting ImageProjectiveTransformV3 cause there is no registered converter for this op.\n",
      "24/24 [==============================] - ETA: 0s - loss: 0.6303 - accuracy: 0.8267WARNING:tensorflow:Model was constructed with shape (512, 512, 3) for input KerasTensor(type_spec=TensorSpec(shape=(512, 512, 3), dtype=tf.uint8, name='random_flip_1_input'), name='random_flip_1_input', description=\"created by layer 'random_flip_1_input'\"), but it was called on an input with incompatible shape (None, 224, 224, 3).\n",
      "24/24 [==============================] - 12s 256ms/step - loss: 0.6303 - accuracy: 0.8267 - val_loss: 0.5052 - val_accuracy: 0.8470\n",
      "Epoch 6/10\n",
      "24/24 [==============================] - 5s 210ms/step - loss: 0.4989 - accuracy: 0.8533 - val_loss: 0.4485 - val_accuracy: 0.8651\n",
      "Epoch 7/10\n",
      "24/24 [==============================] - 5s 211ms/step - loss: 0.4391 - accuracy: 0.8613 - val_loss: 0.4658 - val_accuracy: 0.8553\n",
      "Epoch 8/10\n",
      "24/24 [==============================] - 5s 210ms/step - loss: 0.3864 - accuracy: 0.8853 - val_loss: 0.4577 - val_accuracy: 0.8602\n",
      "Epoch 9/10\n",
      "24/24 [==============================] - 5s 207ms/step - loss: 0.3601 - accuracy: 0.8960 - val_loss: 0.4478 - val_accuracy: 0.8569\n",
      "Epoch 10/10\n",
      "24/24 [==============================] - 5s 214ms/step - loss: 0.3082 - accuracy: 0.9053 - val_loss: 0.4353 - val_accuracy: 0.8569\n"
     ]
    }
   ],
   "source": [
    "#Fine tune for another 5 epochs\n",
    "initial_epochs=5\n",
    "fine_tune_epochs=initial_epochs+5\n",
    "\n",
    "#Refit the model(same as model_2 except with more trainable layers\n",
    "history_fine_10_percent_data_aug=model_2.fit(train_data_10_percent,\n",
    "                                            epochs=fine_tune_epochs,\n",
    "                                            validation_data=test_data,\n",
    "                                            validation_steps=int(0.25*len(test_data)),\n",
    "                                            initial_epoch=history_10_model_2.epoch[-1],  #start training from previous last epoch\n",
    "                                            callbacks=[create_tensorboard_callback(dir_name=\"transfer_learning\",\n",
    "                                                                                  experiment_name=\"10_percent_fine_tune_last_10\")])"
   ]
  },
  {
   "cell_type": "code",
   "execution_count": 94,
   "id": "d89dbbee",
   "metadata": {},
   "outputs": [
    {
     "name": "stdout",
     "output_type": "stream",
     "text": [
      "79/79 [==============================] - 4s 50ms/step - loss: 0.4299 - accuracy: 0.8548\n"
     ]
    }
   ],
   "source": [
    "#Evaluate the fine-tuned model(model_3 which is actually model_2 fine_tuned for another 5 epochs)\n",
    "results_fine_tune_10_percent=model_2.evaluate(test_data)"
   ]
  },
  {
   "cell_type": "code",
   "execution_count": 95,
   "id": "cea39a57",
   "metadata": {},
   "outputs": [
    {
     "data": {
      "text/plain": [
       "[0.6287195086479187, 0.8443999886512756]"
      ]
     },
     "execution_count": 95,
     "metadata": {},
     "output_type": "execute_result"
    }
   ],
   "source": [
    "results_10_percent_data_aug"
   ]
  },
  {
   "cell_type": "markdown",
   "id": "a1d808b3",
   "metadata": {},
   "source": [
    "#### Comparing our model's results before and after fine-tuning\n"
   ]
  },
  {
   "cell_type": "code",
   "execution_count": 96,
   "id": "75f8f071",
   "metadata": {},
   "outputs": [
    {
     "data": {
      "image/png": "[encoded data removed]",
      "text/plain": [
       "<Figure size 432x288 with 1 Axes>"
      ]
     },
     "metadata": {
      "needs_background": "light"
     },
     "output_type": "display_data"
    },
    {
     "data": {
      "image/png": "[encoded data removed]",
      "text/plain": [
       "<Figure size 432x288 with 1 Axes>"
      ]
     },
     "metadata": {
      "needs_background": "light"
     },
     "output_type": "display_data"
    }
   ],
   "source": [
    "#check out the loss curves of fine tuned model\n",
    "plot_loss_curves(history_fine_10_percent_data_aug)"
   ]
  },
  {
   "cell_type": "markdown",
   "id": "d01e49c2",
   "metadata": {},
   "source": [
    "The `plot_loss_curves` function works great with models which have only been fit once,however, we want something to compare one series of running `fit()` with another(e.g. before and after fine-tuning)"
   ]
  },
  {
   "cell_type": "code",
   "execution_count": 97,
   "id": "e137d516",
   "metadata": {},
   "outputs": [],
   "source": [
    "#Let's Create a function to compare training histories\n",
    "def compare_historys(original_history,new_history,initial_epochs=5):\n",
    "    \"\"\"\n",
    "    Compare two Tensorflow History objects\n",
    "    \"\"\"\n",
    "    \n",
    "    #get original history measurements\n",
    "    acc=original_history.history[\"accuracy\"]\n",
    "    loss=original_history.history[\"loss\"]\n",
    "    \n",
    "    val_acc=original_history.history[\"val_accuracy\"]\n",
    "    val_loss=original_history.history[\"val_loss\"]\n",
    "    \n",
    "    \n",
    "    #Combine original history metrics with new history metrics\n",
    "    total_acc=acc+new_history.history[\"accuracy\"]\n",
    "    total_loss=loss+new_history.history[\"loss\"]\n",
    "    \n",
    "    total_val_acc=val_acc+new_history.history[\"val_accuracy\"]\n",
    "    total_val_loss=val_loss+new_history.history[\"val_loss\"]\n",
    "    \n",
    "    \n",
    "    #Make plots for accuracy\n",
    "    plt.figure(figsize=(8,8))\n",
    "    plt.subplot(2,1,1)\n",
    "    plt.plot(total_acc,label=\"Training accuracy\")\n",
    "    plt.plot(total_val_acc,label=\"Validation accuracy\")\n",
    "    plt.plot([initial_epochs-1,initial_epochs-1],plt.ylim(),label=\"Start fine tuning\")\n",
    "    plt.legend(loc=\"lower right\")\n",
    "    plt.title(\"training and Validation accuracy\")\n",
    "    \n",
    "     #Make plots for loss\n",
    "    plt.figure(figsize=(8,8))\n",
    "    plt.subplot(2,1,2)\n",
    "    plt.plot(total_loss,label=\"Training loss\")\n",
    "    plt.plot(total_val_loss,label=\"Validation loss\")\n",
    "    plt.plot([initial_epochs-1,initial_epochs-1],plt.ylim(),label=\"Start fine tuning\")\n",
    "    plt.legend(loc=\"upper right\")\n",
    "    plt.title(\"training and Validation accuracy\")"
   ]
  },
  {
   "cell_type": "code",
   "execution_count": 98,
   "id": "26a5edc0",
   "metadata": {},
   "outputs": [
    {
     "data": {
      "image/png": "[encoded data removed]",
      "text/plain": [
       "<Figure size 576x576 with 1 Axes>"
      ]
     },
     "metadata": {
      "needs_background": "light"
     },
     "output_type": "display_data"
    },
    {
     "data": {
      "image/png": "[encoded data removed]",
      "text/plain": [
       "<Figure size 576x576 with 1 Axes>"
      ]
     },
     "metadata": {
      "needs_background": "light"
     },
     "output_type": "display_data"
    }
   ],
   "source": [
    "compare_historys(history_10_percent,\n",
    "               history_fine_10_percent_data_aug,\n",
    "               initial_epochs=5)"
   ]
  },
  {
   "cell_type": "markdown",
   "id": "769d8015",
   "metadata": {},
   "source": [
    "* Fine tuning usually works well for large amount of data, whereas feature extraction works for lesser amount of data"
   ]
  },
  {
   "cell_type": "markdown",
   "id": "efd78e7b",
   "metadata": {},
   "source": [
    "#### Model 4: Fine-tuning and existing model on all of the data"
   ]
  },
  {
   "cell_type": "code",
   "execution_count": 1,
   "id": "b420f1a4",
   "metadata": {},
   "outputs": [
    {
     "name": "stdout",
     "output_type": "stream",
     "text": [
      "100% [......................................................................] 519183241 / 51918324110_food_classes_all_data (1).zip\n"
     ]
    }
   ],
   "source": [
    "#Download and unzip 10 classes of Food101 data with all images\n",
    "import wget\n",
    "url=\"https://storage.googleapis.com/ztm_tf_course/food_vision/10_food_classes_all_data.zip\"\n",
    "filename=wget.download(url)\n",
    "print(filename)"
   ]
  },
  {
   "cell_type": "code",
   "execution_count": 2,
   "id": "5bff9199",
   "metadata": {},
   "outputs": [],
   "source": [
    "#unzip the data\n"
   ]
  },
  {
   "cell_type": "code",
   "execution_count": 99,
   "id": "3f7bd329",
   "metadata": {},
   "outputs": [],
   "source": [
    "#set up train and test dir\n",
    "train_dir=\"10_food_classes_all_data/train\"\n",
    "test_dir=\"10_food_classes_all_data/test\""
   ]
  },
  {
   "cell_type": "code",
   "execution_count": 100,
   "id": "4bb62b44",
   "metadata": {},
   "outputs": [
    {
     "name": "stdout",
     "output_type": "stream",
     "text": [
      "There are 2 directories and 0 filenames in 10_food_classes_all_data/\n",
      "There are 10 directories and 0 filenames in 10_food_classes_all_data/test\n",
      "There are 0 directories and 250 filenames in 10_food_classes_all_data/test\\chicken_curry\n",
      "There are 0 directories and 250 filenames in 10_food_classes_all_data/test\\chicken_wings\n",
      "There are 0 directories and 250 filenames in 10_food_classes_all_data/test\\fried_rice\n",
      "There are 0 directories and 250 filenames in 10_food_classes_all_data/test\\grilled_salmon\n",
      "There are 0 directories and 250 filenames in 10_food_classes_all_data/test\\hamburger\n",
      "There are 0 directories and 250 filenames in 10_food_classes_all_data/test\\ice_cream\n",
      "There are 0 directories and 250 filenames in 10_food_classes_all_data/test\\pizza\n",
      "There are 0 directories and 250 filenames in 10_food_classes_all_data/test\\ramen\n",
      "There are 0 directories and 250 filenames in 10_food_classes_all_data/test\\steak\n",
      "There are 0 directories and 250 filenames in 10_food_classes_all_data/test\\sushi\n",
      "There are 10 directories and 0 filenames in 10_food_classes_all_data/train\n",
      "There are 0 directories and 750 filenames in 10_food_classes_all_data/train\\chicken_curry\n",
      "There are 0 directories and 750 filenames in 10_food_classes_all_data/train\\chicken_wings\n",
      "There are 0 directories and 750 filenames in 10_food_classes_all_data/train\\fried_rice\n",
      "There are 0 directories and 750 filenames in 10_food_classes_all_data/train\\grilled_salmon\n",
      "There are 0 directories and 750 filenames in 10_food_classes_all_data/train\\hamburger\n",
      "There are 0 directories and 750 filenames in 10_food_classes_all_data/train\\ice_cream\n",
      "There are 0 directories and 750 filenames in 10_food_classes_all_data/train\\pizza\n",
      "There are 0 directories and 750 filenames in 10_food_classes_all_data/train\\ramen\n",
      "There are 0 directories and 750 filenames in 10_food_classes_all_data/train\\steak\n",
      "There are 0 directories and 750 filenames in 10_food_classes_all_data/train\\sushi\n"
     ]
    }
   ],
   "source": [
    "#How many images are we working with?\n",
    "import os\n",
    "for dir_path,dir_name,filename in os.walk(\"10_food_classes_all_data/\"):\n",
    "    print(f\"There are {len(dir_name)} directories and {len(filename)} filenames in {dir_path}\")"
   ]
  },
  {
   "cell_type": "code",
   "execution_count": 101,
   "id": "ba5a74e3",
   "metadata": {},
   "outputs": [
    {
     "name": "stdout",
     "output_type": "stream",
     "text": [
      "There are 2 directories and 0 images in '10_food_classes_all_data/'.\n",
      "There are 10 directories and 0 images in '10_food_classes_all_data/test'.\n",
      "There are 0 directories and 250 images in '10_food_classes_all_data/test\\chicken_curry'.\n",
      "There are 0 directories and 250 images in '10_food_classes_all_data/test\\chicken_wings'.\n",
      "There are 0 directories and 250 images in '10_food_classes_all_data/test\\fried_rice'.\n",
      "There are 0 directories and 250 images in '10_food_classes_all_data/test\\grilled_salmon'.\n",
      "There are 0 directories and 250 images in '10_food_classes_all_data/test\\hamburger'.\n",
      "There are 0 directories and 250 images in '10_food_classes_all_data/test\\ice_cream'.\n",
      "There are 0 directories and 250 images in '10_food_classes_all_data/test\\pizza'.\n",
      "There are 0 directories and 250 images in '10_food_classes_all_data/test\\ramen'.\n",
      "There are 0 directories and 250 images in '10_food_classes_all_data/test\\steak'.\n",
      "There are 0 directories and 250 images in '10_food_classes_all_data/test\\sushi'.\n",
      "There are 10 directories and 0 images in '10_food_classes_all_data/train'.\n",
      "There are 0 directories and 750 images in '10_food_classes_all_data/train\\chicken_curry'.\n",
      "There are 0 directories and 750 images in '10_food_classes_all_data/train\\chicken_wings'.\n",
      "There are 0 directories and 750 images in '10_food_classes_all_data/train\\fried_rice'.\n",
      "There are 0 directories and 750 images in '10_food_classes_all_data/train\\grilled_salmon'.\n",
      "There are 0 directories and 750 images in '10_food_classes_all_data/train\\hamburger'.\n",
      "There are 0 directories and 750 images in '10_food_classes_all_data/train\\ice_cream'.\n",
      "There are 0 directories and 750 images in '10_food_classes_all_data/train\\pizza'.\n",
      "There are 0 directories and 750 images in '10_food_classes_all_data/train\\ramen'.\n",
      "There are 0 directories and 750 images in '10_food_classes_all_data/train\\steak'.\n",
      "There are 0 directories and 750 images in '10_food_classes_all_data/train\\sushi'.\n"
     ]
    }
   ],
   "source": [
    "#use custom function from helper function\n",
    "walk_through_dir(\"10_food_classes_all_data/\")"
   ]
  },
  {
   "cell_type": "code",
   "execution_count": 102,
   "id": "406a6f7a",
   "metadata": {},
   "outputs": [
    {
     "name": "stdout",
     "output_type": "stream",
     "text": [
      "Found 7500 files belonging to 10 classes.\n",
      "Found 2500 files belonging to 10 classes.\n"
     ]
    }
   ],
   "source": [
    "#setup data input\n",
    "import tensorflow as tf\n",
    "IMG_SIZE=(224,224)\n",
    "BATCH_SIZE=32\n",
    "train_data_10_classes_full=tf.keras.preprocessing.image_dataset_from_directory(train_dir,\n",
    "                                                                              image_size=IMG_SIZE,\n",
    "                                                                              batch_size=BATCH_SIZE,\n",
    "                                                                              label_mode=\"categorical\")\n",
    "\n",
    "test_data=tf.keras.preprocessing.image_dataset_from_directory(test_dir,\n",
    "                                                             image_size=IMG_SIZE,\n",
    "                                                             batch_size=BATCH_SIZE,\n",
    "                                                             label_mode=\"categorical\")\n"
   ]
  },
  {
   "cell_type": "markdown",
   "id": "bf3837e9",
   "metadata": {},
   "source": [
    "The test dataset we've loaded in is the same as what we've been using for previous experiments(all experiments have used the same test dataset)\n",
    "\n",
    "\n",
    "Let's verify this.."
   ]
  },
  {
   "cell_type": "code",
   "execution_count": 103,
   "id": "89e34adc",
   "metadata": {},
   "outputs": [
    {
     "name": "stdout",
     "output_type": "stream",
     "text": [
      "79/79 [==============================] - 4s 50ms/step - loss: 0.4299 - accuracy: 0.8548\n"
     ]
    },
    {
     "data": {
      "text/plain": [
       "[0.4298718273639679, 0.8547999858856201]"
      ]
     },
     "execution_count": 103,
     "metadata": {},
     "output_type": "execute_result"
    }
   ],
   "source": [
    "#Evaluate model 2(this is the fine-tuned on 10 percent of data version)\n",
    "model_2.evaluate(test_data)"
   ]
  },
  {
   "cell_type": "code",
   "execution_count": 104,
   "id": "e167a19e",
   "metadata": {},
   "outputs": [
    {
     "data": {
      "text/plain": [
       "[0.6287195086479187, 0.8443999886512756]"
      ]
     },
     "execution_count": 104,
     "metadata": {},
     "output_type": "execute_result"
    }
   ],
   "source": [
    "results_10_percent_data_aug"
   ]
  },
  {
   "cell_type": "markdown",
   "id": "e6a74874",
   "metadata": {},
   "source": [
    "To train a fine-tuning model(model_4) we need to revert model_2 back to it's feature extraction weights."
   ]
  },
  {
   "cell_type": "code",
   "execution_count": 105,
   "id": "ee132a20",
   "metadata": {},
   "outputs": [
    {
     "data": {
      "text/plain": [
       "<tensorflow.python.checkpoint.checkpoint.CheckpointLoadStatus at 0x1e9f1d70340>"
      ]
     },
     "execution_count": 105,
     "metadata": {},
     "output_type": "execute_result"
    }
   ],
   "source": [
    "#Load weights from checkpoint, that way we can fine-tune from\n",
    "# the same stage the 10 percent data model was fine-tuned from\n",
    "checkpoint_path=\"ten_percent_model_checkpoints_weights/checkpoint.ckpt\"\n",
    "model_2.load_weights(checkpoint_path)"
   ]
  },
  {
   "cell_type": "code",
   "execution_count": 106,
   "id": "cd97ebf1",
   "metadata": {},
   "outputs": [
    {
     "name": "stdout",
     "output_type": "stream",
     "text": [
      "79/79 [==============================] - 4s 50ms/step - loss: 0.6287 - accuracy: 0.8444\n"
     ]
    },
    {
     "data": {
      "text/plain": [
       "[0.62871915102005, 0.8443999886512756]"
      ]
     },
     "execution_count": 106,
     "metadata": {},
     "output_type": "execute_result"
    }
   ],
   "source": [
    "#let's evaluate model_2 now\n",
    "model_2.evaluate(test_data)"
   ]
  },
  {
   "cell_type": "code",
   "execution_count": 107,
   "id": "2b7ae7de",
   "metadata": {},
   "outputs": [
    {
     "data": {
      "text/plain": [
       "[0.6287195086479187, 0.8443999886512756]"
      ]
     },
     "execution_count": 107,
     "metadata": {},
     "output_type": "execute_result"
    }
   ],
   "source": [
    "#check to see if our model_2 has been reverted back to feature extraction results\n",
    "results_10_percent_data_aug"
   ]
  },
  {
   "cell_type": "markdown",
   "id": "16e40de5",
   "metadata": {},
   "source": [
    "Alright, the previous steps might seem quite confusing but all we've done is:\n",
    "\n",
    "1. Trained a feature extraction transfer learning model for 5 epochs on 10% of the data with data augmentation(model_2) and we saved the model's weights using `ModelCheckpoint` callback.\n",
    "2. Fine-tuned the same model on the same 10% of the data for a further 5 epochs with the top 10 layers of the base model unfrozen(model_3).\n",
    "3. Saved the results and training logs each time\n",
    "4. Reload the model from step 1 to do the same steps as step2 except this time we're going to use all of the data (model_4).\n"
   ]
  },
  {
   "cell_type": "code",
   "execution_count": 108,
   "id": "a5529a2f",
   "metadata": {},
   "outputs": [
    {
     "name": "stdout",
     "output_type": "stream",
     "text": [
      "0 Input_layer True\n",
      "1 data_augmentation True\n",
      "2 efficientnetb0 True\n",
      "3 global_average_pooling_layer True\n",
      "4 output_layer True\n"
     ]
    }
   ],
   "source": [
    "#check which layers are tunable in the whole model\n",
    "for layer_number,layer in enumerate(model_2.layers):\n",
    "    print(layer_number,layer.name,layer.trainable)"
   ]
  },
  {
   "cell_type": "code",
   "execution_count": 109,
   "id": "7bd1057a",
   "metadata": {},
   "outputs": [
    {
     "name": "stdout",
     "output_type": "stream",
     "text": [
      "0 input_5 False\n",
      "1 rescaling_8 False\n",
      "2 normalization_4 False\n",
      "3 rescaling_9 False\n",
      "4 stem_conv_pad False\n",
      "5 stem_conv False\n",
      "6 stem_bn False\n",
      "7 stem_activation False\n",
      "8 block1a_dwconv False\n",
      "9 block1a_bn False\n",
      "10 block1a_activation False\n",
      "11 block1a_se_squeeze False\n",
      "12 block1a_se_reshape False\n",
      "13 block1a_se_reduce False\n",
      "14 block1a_se_expand False\n",
      "15 block1a_se_excite False\n",
      "16 block1a_project_conv False\n",
      "17 block1a_project_bn False\n",
      "18 block2a_expand_conv False\n",
      "19 block2a_expand_bn False\n",
      "20 block2a_expand_activation False\n",
      "21 block2a_dwconv_pad False\n",
      "22 block2a_dwconv False\n",
      "23 block2a_bn False\n",
      "24 block2a_activation False\n",
      "25 block2a_se_squeeze False\n",
      "26 block2a_se_reshape False\n",
      "27 block2a_se_reduce False\n",
      "28 block2a_se_expand False\n",
      "29 block2a_se_excite False\n",
      "30 block2a_project_conv False\n",
      "31 block2a_project_bn False\n",
      "32 block2b_expand_conv False\n",
      "33 block2b_expand_bn False\n",
      "34 block2b_expand_activation False\n",
      "35 block2b_dwconv False\n",
      "36 block2b_bn False\n",
      "37 block2b_activation False\n",
      "38 block2b_se_squeeze False\n",
      "39 block2b_se_reshape False\n",
      "40 block2b_se_reduce False\n",
      "41 block2b_se_expand False\n",
      "42 block2b_se_excite False\n",
      "43 block2b_project_conv False\n",
      "44 block2b_project_bn False\n",
      "45 block2b_drop False\n",
      "46 block2b_add False\n",
      "47 block3a_expand_conv False\n",
      "48 block3a_expand_bn False\n",
      "49 block3a_expand_activation False\n",
      "50 block3a_dwconv_pad False\n",
      "51 block3a_dwconv False\n",
      "52 block3a_bn False\n",
      "53 block3a_activation False\n",
      "54 block3a_se_squeeze False\n",
      "55 block3a_se_reshape False\n",
      "56 block3a_se_reduce False\n",
      "57 block3a_se_expand False\n",
      "58 block3a_se_excite False\n",
      "59 block3a_project_conv False\n",
      "60 block3a_project_bn False\n",
      "61 block3b_expand_conv False\n",
      "62 block3b_expand_bn False\n",
      "63 block3b_expand_activation False\n",
      "64 block3b_dwconv False\n",
      "65 block3b_bn False\n",
      "66 block3b_activation False\n",
      "67 block3b_se_squeeze False\n",
      "68 block3b_se_reshape False\n",
      "69 block3b_se_reduce False\n",
      "70 block3b_se_expand False\n",
      "71 block3b_se_excite False\n",
      "72 block3b_project_conv False\n",
      "73 block3b_project_bn False\n",
      "74 block3b_drop False\n",
      "75 block3b_add False\n",
      "76 block4a_expand_conv False\n",
      "77 block4a_expand_bn False\n",
      "78 block4a_expand_activation False\n",
      "79 block4a_dwconv_pad False\n",
      "80 block4a_dwconv False\n",
      "81 block4a_bn False\n",
      "82 block4a_activation False\n",
      "83 block4a_se_squeeze False\n",
      "84 block4a_se_reshape False\n",
      "85 block4a_se_reduce False\n",
      "86 block4a_se_expand False\n",
      "87 block4a_se_excite False\n",
      "88 block4a_project_conv False\n",
      "89 block4a_project_bn False\n",
      "90 block4b_expand_conv False\n",
      "91 block4b_expand_bn False\n",
      "92 block4b_expand_activation False\n",
      "93 block4b_dwconv False\n",
      "94 block4b_bn False\n",
      "95 block4b_activation False\n",
      "96 block4b_se_squeeze False\n",
      "97 block4b_se_reshape False\n",
      "98 block4b_se_reduce False\n",
      "99 block4b_se_expand False\n",
      "100 block4b_se_excite False\n",
      "101 block4b_project_conv False\n",
      "102 block4b_project_bn False\n",
      "103 block4b_drop False\n",
      "104 block4b_add False\n",
      "105 block4c_expand_conv False\n",
      "106 block4c_expand_bn False\n",
      "107 block4c_expand_activation False\n",
      "108 block4c_dwconv False\n",
      "109 block4c_bn False\n",
      "110 block4c_activation False\n",
      "111 block4c_se_squeeze False\n",
      "112 block4c_se_reshape False\n",
      "113 block4c_se_reduce False\n",
      "114 block4c_se_expand False\n",
      "115 block4c_se_excite False\n",
      "116 block4c_project_conv False\n",
      "117 block4c_project_bn False\n",
      "118 block4c_drop False\n",
      "119 block4c_add False\n",
      "120 block5a_expand_conv False\n",
      "121 block5a_expand_bn False\n",
      "122 block5a_expand_activation False\n",
      "123 block5a_dwconv False\n",
      "124 block5a_bn False\n",
      "125 block5a_activation False\n",
      "126 block5a_se_squeeze False\n",
      "127 block5a_se_reshape False\n",
      "128 block5a_se_reduce False\n",
      "129 block5a_se_expand False\n",
      "130 block5a_se_excite False\n",
      "131 block5a_project_conv False\n",
      "132 block5a_project_bn False\n",
      "133 block5b_expand_conv False\n",
      "134 block5b_expand_bn False\n",
      "135 block5b_expand_activation False\n",
      "136 block5b_dwconv False\n",
      "137 block5b_bn False\n",
      "138 block5b_activation False\n",
      "139 block5b_se_squeeze False\n",
      "140 block5b_se_reshape False\n",
      "141 block5b_se_reduce False\n",
      "142 block5b_se_expand False\n",
      "143 block5b_se_excite False\n",
      "144 block5b_project_conv False\n",
      "145 block5b_project_bn False\n",
      "146 block5b_drop False\n",
      "147 block5b_add False\n",
      "148 block5c_expand_conv False\n",
      "149 block5c_expand_bn False\n",
      "150 block5c_expand_activation False\n",
      "151 block5c_dwconv False\n",
      "152 block5c_bn False\n",
      "153 block5c_activation False\n",
      "154 block5c_se_squeeze False\n",
      "155 block5c_se_reshape False\n",
      "156 block5c_se_reduce False\n",
      "157 block5c_se_expand False\n",
      "158 block5c_se_excite False\n",
      "159 block5c_project_conv False\n",
      "160 block5c_project_bn False\n",
      "161 block5c_drop False\n",
      "162 block5c_add False\n",
      "163 block6a_expand_conv False\n",
      "164 block6a_expand_bn False\n",
      "165 block6a_expand_activation False\n",
      "166 block6a_dwconv_pad False\n",
      "167 block6a_dwconv False\n",
      "168 block6a_bn False\n",
      "169 block6a_activation False\n",
      "170 block6a_se_squeeze False\n",
      "171 block6a_se_reshape False\n",
      "172 block6a_se_reduce False\n",
      "173 block6a_se_expand False\n",
      "174 block6a_se_excite False\n",
      "175 block6a_project_conv False\n",
      "176 block6a_project_bn False\n",
      "177 block6b_expand_conv False\n",
      "178 block6b_expand_bn False\n",
      "179 block6b_expand_activation False\n",
      "180 block6b_dwconv False\n",
      "181 block6b_bn False\n",
      "182 block6b_activation False\n",
      "183 block6b_se_squeeze False\n",
      "184 block6b_se_reshape False\n",
      "185 block6b_se_reduce False\n",
      "186 block6b_se_expand False\n",
      "187 block6b_se_excite False\n",
      "188 block6b_project_conv False\n",
      "189 block6b_project_bn False\n",
      "190 block6b_drop False\n",
      "191 block6b_add False\n",
      "192 block6c_expand_conv False\n",
      "193 block6c_expand_bn False\n",
      "194 block6c_expand_activation False\n",
      "195 block6c_dwconv False\n",
      "196 block6c_bn False\n",
      "197 block6c_activation False\n",
      "198 block6c_se_squeeze False\n",
      "199 block6c_se_reshape False\n",
      "200 block6c_se_reduce False\n",
      "201 block6c_se_expand False\n",
      "202 block6c_se_excite False\n",
      "203 block6c_project_conv False\n",
      "204 block6c_project_bn False\n",
      "205 block6c_drop False\n",
      "206 block6c_add False\n",
      "207 block6d_expand_conv False\n",
      "208 block6d_expand_bn False\n",
      "209 block6d_expand_activation False\n",
      "210 block6d_dwconv False\n",
      "211 block6d_bn False\n",
      "212 block6d_activation False\n",
      "213 block6d_se_squeeze False\n",
      "214 block6d_se_reshape False\n",
      "215 block6d_se_reduce False\n",
      "216 block6d_se_expand False\n",
      "217 block6d_se_excite False\n",
      "218 block6d_project_conv False\n",
      "219 block6d_project_bn False\n",
      "220 block6d_drop False\n",
      "221 block6d_add False\n",
      "222 block7a_expand_conv False\n",
      "223 block7a_expand_bn False\n",
      "224 block7a_expand_activation False\n",
      "225 block7a_dwconv False\n",
      "226 block7a_bn False\n",
      "227 block7a_activation False\n",
      "228 block7a_se_squeeze True\n",
      "229 block7a_se_reshape True\n",
      "230 block7a_se_reduce True\n",
      "231 block7a_se_expand True\n",
      "232 block7a_se_excite True\n",
      "233 block7a_project_conv True\n",
      "234 block7a_project_bn True\n",
      "235 top_conv True\n",
      "236 top_bn True\n",
      "237 top_activation True\n"
     ]
    }
   ],
   "source": [
    "#Let's drill into our base_model(efficientnetb0) and see what layers are trainable\n",
    "for layer_number,layer in enumerate(model_2.layers[2].layers):\n",
    "    print(layer_number,layer.name,layer.trainable)"
   ]
  },
  {
   "cell_type": "code",
   "execution_count": 38,
   "id": "a5caa8f2",
   "metadata": {},
   "outputs": [],
   "source": [
    "#compile the model\n",
    "model_2.compile(loss=\"categorical_crossentropy\",\n",
    "               optimizer=tf.keras.optimizers.Adam(),\n",
    "               metrics=[\"accuracy\"])"
   ]
  },
  {
   "cell_type": "code",
   "execution_count": 110,
   "id": "d689badc",
   "metadata": {},
   "outputs": [
    {
     "name": "stdout",
     "output_type": "stream",
     "text": [
      "Saving TensorBoard log files to: transfer_learning/full_10_classes_fine_tune/20230315-071555\n",
      "WARNING:tensorflow:Model failed to serialize as JSON. Ignoring... Unable to serialize [2.0896919 2.1128857 2.1081853] to JSON. Unrecognized type <class 'tensorflow.python.framework.ops.EagerTensor'>.\n",
      "Epoch 5/10\n",
      "235/235 [==============================] - 46s 194ms/step - loss: 0.6153 - accuracy: 0.8073 - val_loss: 0.3344 - val_accuracy: 0.8892\n",
      "Epoch 6/10\n",
      "235/235 [==============================] - 45s 192ms/step - loss: 0.4237 - accuracy: 0.8660 - val_loss: 0.2768 - val_accuracy: 0.9120\n",
      "Epoch 7/10\n",
      "235/235 [==============================] - 46s 194ms/step - loss: 0.3244 - accuracy: 0.8933 - val_loss: 0.2812 - val_accuracy: 0.9084\n",
      "Epoch 8/10\n",
      "235/235 [==============================] - 47s 202ms/step - loss: 0.2595 - accuracy: 0.9139 - val_loss: 0.2750 - val_accuracy: 0.9128\n",
      "Epoch 9/10\n",
      "235/235 [==============================] - 44s 188ms/step - loss: 0.2306 - accuracy: 0.9208 - val_loss: 0.2767 - val_accuracy: 0.9160\n",
      "Epoch 10/10\n",
      "235/235 [==============================] - 44s 187ms/step - loss: 0.1804 - accuracy: 0.9407 - val_loss: 0.2616 - val_accuracy: 0.9208\n"
     ]
    }
   ],
   "source": [
    "#Continue to train and fine-tune the model to our data(100% of traing data)\n",
    "initial_epochs=5\n",
    "fine_tune_epochs=initial_epochs+5\n",
    "\n",
    "history_fine_10_classes_full=model_2.fit(train_data_10_classes_full,\n",
    "                                        epochs=fine_tune_epochs,\n",
    "                                        validation_data=test_data,\n",
    "                                        validation_steps=len(test_data),\n",
    "                                        initial_epoch=history_10_model_2.epoch[-1],\n",
    "                                        callbacks=[create_tensorboard_callback(dir_name=\"transfer_learning\",\n",
    "                                                                              experiment_name=\"full_10_classes_fine_tune\")]\n",
    "                                        )"
   ]
  },
  {
   "cell_type": "code",
   "execution_count": 111,
   "id": "fab5ba90",
   "metadata": {},
   "outputs": [
    {
     "name": "stdout",
     "output_type": "stream",
     "text": [
      "79/79 [==============================] - 4s 51ms/step - loss: 0.2616 - accuracy: 0.9208\n"
     ]
    },
    {
     "data": {
      "text/plain": [
       "[0.26159432530403137, 0.920799970626831]"
      ]
     },
     "execution_count": 111,
     "metadata": {},
     "output_type": "execute_result"
    }
   ],
   "source": [
    "#Let's evaluate on all of the test data\n",
    "results_fine_tune_full_data=model_2.evaluate(test_data)\n",
    "results_fine_tune_full_data"
   ]
  },
  {
   "cell_type": "code",
   "execution_count": 112,
   "id": "8c48dc2c",
   "metadata": {},
   "outputs": [
    {
     "data": {
      "image/png": "[encoded data removed]",
      "text/plain": [
       "<Figure size 576x576 with 1 Axes>"
      ]
     },
     "metadata": {
      "needs_background": "light"
     },
     "output_type": "display_data"
    },
    {
     "data": {
      "image/png": "[encoded data removed]",
      "text/plain": [
       "<Figure size 576x576 with 1 Axes>"
      ]
     },
     "metadata": {
      "needs_background": "light"
     },
     "output_type": "display_data"
    }
   ],
   "source": [
    "#How did fine tuning go with more data?\n",
    "compare_historys(original_history=history_10_model_2,\n",
    "                new_history=history_fine_10_classes_full,\n",
    "                initial_epochs=5)"
   ]
  },
  {
   "cell_type": "code",
   "execution_count": null,
   "id": "4187e51f",
   "metadata": {},
   "outputs": [],
   "source": [
    "Tensorboard logs check"
   ]
  }
 ],
 "metadata": {
  "kernelspec": {
   "display_name": "Python 3 (ipykernel)",
   "language": "python",
   "name": "python3"
  },
  "language_info": {
   "codemirror_mode": {
    "name": "ipython",
    "version": 3
   },
   "file_extension": ".py",
   "mimetype": "text/x-python",
   "name": "python",
   "nbconvert_exporter": "python",
   "pygments_lexer": "ipython3",
   "version": "3.9.13"
  }
 },
 "nbformat": 4,
 "nbformat_minor": 5
}
